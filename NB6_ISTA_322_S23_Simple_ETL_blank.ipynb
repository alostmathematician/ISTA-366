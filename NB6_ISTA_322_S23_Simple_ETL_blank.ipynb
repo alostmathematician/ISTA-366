{
  "cells": [
    {
      "cell_type": "markdown",
      "metadata": {
        "colab_type": "text",
        "id": "view-in-github"
      },
      "source": [
        "<a href=\"https://colab.research.google.com/github/alostmathematician/ISTA-366/blob/main/NB6_ISTA_322_S23_Simple_ETL_blank.ipynb\" target=\"_parent\"><img src=\"https://colab.research.google.com/assets/colab-badge.svg\" alt=\"Open In Colab\"/></a>"
      ]
    },
    {
      "cell_type": "markdown",
      "metadata": {
        "id": "E7t6TrEQ6SBR"
      },
      "source": [
        "# Wrapping up ETL with the L\n",
        "\n",
        "The goal of this week's lesson is to teach you the process of uploading data to a database (You already followed a lesson to create a Postgres database on AWS). Now it's time to load data to it.\n",
        "\n",
        "Before we do that though, we're going to extract data and transform it into a more useful analytical format. Thus, we'll be doing a full ETL pipeline today!\n",
        "\n",
        "The data that we'll be extracting contains daily numbers of Covid-19 positive cases and deaths by each county and state in the US. Most dashboards or reporting metrics are going to want values 'rolled up' into a higher level. We're going to do this in two ways:\n",
        "\n",
        "* We're going to want aggregate numbers by state. Hearing about high rates in some specific county might matter for some people, but most sources will want state-level numbers.\n",
        "\n",
        "* We're also going to want to rollup our data into weekly aggregates vs. daily numbers. Daily numbers are problematic as some sources only report on specific days of the week. For example, hospitals might not update their stats on the weekends. Similarly U Arizona doesn't test on the weekends. This means that daily numbers aren't an accurate reflection of the overall trend, while weekly numbers are.\n",
        "\n",
        "The last thing we'll do is some wrangling to make a unique primary key for each row.\n",
        "\n",
        "Once that is done *then* we can upload the table to our database."
      ]
    },
    {
      "cell_type": "markdown",
      "metadata": {
        "id": "Auw-NIWr92Nn"
      },
      "source": [
        "## Extracting our data\n",
        "\n",
        "The data has been stored on my Google Drive.\n",
        "\n",
        "We can bring the data in via our usual `pd.read_csv()`. Then we'll do a quick exploration to figure out what we need to do as far as transforms."
      ]
    },
    {
      "cell_type": "code",
      "execution_count": 1,
      "metadata": {
        "id": "c8J9IVB99Cw7"
      },
      "outputs": [],
      "source": [
        "# Get pandas\n",
        "import pandas as pd"
      ]
    },
    {
      "cell_type": "code",
      "execution_count": 2,
      "metadata": {
        "id": "iikJFXUt9EVJ"
      },
      "outputs": [],
      "source": [
        "# We'll call our data 'covid'\n",
        "covid = pd.read_csv('https://docs.google.com/spreadsheets/d/1KhRW9lU_mm9svjy2T2u2Sx6UwTGcOfXx1jb1xJoxLpQ/gviz/tq?tqx=out:csv')"
      ]
    },
    {
      "cell_type": "markdown",
      "metadata": {
        "id": "Rai4DP4P-fm-"
      },
      "source": [
        "### Quick explore\n",
        "\n",
        "Let's look at the head, a describe, and shape."
      ]
    },
    {
      "cell_type": "code",
      "execution_count": 3,
      "metadata": {
        "id": "adY6xrly-k4L"
      },
      "outputs": [
        {
          "data": {
            "text/html": [
              "<div>\n",
              "<style scoped>\n",
              "    .dataframe tbody tr th:only-of-type {\n",
              "        vertical-align: middle;\n",
              "    }\n",
              "\n",
              "    .dataframe tbody tr th {\n",
              "        vertical-align: top;\n",
              "    }\n",
              "\n",
              "    .dataframe thead th {\n",
              "        text-align: right;\n",
              "    }\n",
              "</style>\n",
              "<table border=\"1\" class=\"dataframe\">\n",
              "  <thead>\n",
              "    <tr style=\"text-align: right;\">\n",
              "      <th></th>\n",
              "      <th>date</th>\n",
              "      <th>state</th>\n",
              "      <th>county_code</th>\n",
              "      <th>county</th>\n",
              "      <th>daily_cases</th>\n",
              "      <th>daily_deaths</th>\n",
              "    </tr>\n",
              "  </thead>\n",
              "  <tbody>\n",
              "    <tr>\n",
              "      <th>625620</th>\n",
              "      <td>10/15/2020</td>\n",
              "      <td>Wyoming</td>\n",
              "      <td>56037</td>\n",
              "      <td>Sweetwater</td>\n",
              "      <td>4</td>\n",
              "      <td>0</td>\n",
              "    </tr>\n",
              "    <tr>\n",
              "      <th>625621</th>\n",
              "      <td>10/15/2020</td>\n",
              "      <td>Wyoming</td>\n",
              "      <td>56039</td>\n",
              "      <td>Teton</td>\n",
              "      <td>1</td>\n",
              "      <td>0</td>\n",
              "    </tr>\n",
              "    <tr>\n",
              "      <th>625622</th>\n",
              "      <td>10/15/2020</td>\n",
              "      <td>Wyoming</td>\n",
              "      <td>56041</td>\n",
              "      <td>Uinta</td>\n",
              "      <td>3</td>\n",
              "      <td>0</td>\n",
              "    </tr>\n",
              "    <tr>\n",
              "      <th>625623</th>\n",
              "      <td>10/15/2020</td>\n",
              "      <td>Wyoming</td>\n",
              "      <td>56043</td>\n",
              "      <td>Washakie</td>\n",
              "      <td>0</td>\n",
              "      <td>0</td>\n",
              "    </tr>\n",
              "    <tr>\n",
              "      <th>625624</th>\n",
              "      <td>10/15/2020</td>\n",
              "      <td>Wyoming</td>\n",
              "      <td>56045</td>\n",
              "      <td>Weston</td>\n",
              "      <td>5</td>\n",
              "      <td>0</td>\n",
              "    </tr>\n",
              "  </tbody>\n",
              "</table>\n",
              "</div>"
            ],
            "text/plain": [
              "              date    state  county_code      county  daily_cases  \\\n",
              "625620  10/15/2020  Wyoming        56037  Sweetwater            4   \n",
              "625621  10/15/2020  Wyoming        56039       Teton            1   \n",
              "625622  10/15/2020  Wyoming        56041       Uinta            3   \n",
              "625623  10/15/2020  Wyoming        56043    Washakie            0   \n",
              "625624  10/15/2020  Wyoming        56045      Weston            5   \n",
              "\n",
              "        daily_deaths  \n",
              "625620             0  \n",
              "625621             0  \n",
              "625622             0  \n",
              "625623             0  \n",
              "625624             0  "
            ]
          },
          "execution_count": 3,
          "metadata": {},
          "output_type": "execute_result"
        }
      ],
      "source": [
        "# head\n",
        "covid.tail()"
      ]
    },
    {
      "cell_type": "code",
      "execution_count": 4,
      "metadata": {
        "id": "CeTPf8wr-ozt"
      },
      "outputs": [
        {
          "data": {
            "text/html": [
              "<div>\n",
              "<style scoped>\n",
              "    .dataframe tbody tr th:only-of-type {\n",
              "        vertical-align: middle;\n",
              "    }\n",
              "\n",
              "    .dataframe tbody tr th {\n",
              "        vertical-align: top;\n",
              "    }\n",
              "\n",
              "    .dataframe thead th {\n",
              "        text-align: right;\n",
              "    }\n",
              "</style>\n",
              "<table border=\"1\" class=\"dataframe\">\n",
              "  <thead>\n",
              "    <tr style=\"text-align: right;\">\n",
              "      <th></th>\n",
              "      <th>county_code</th>\n",
              "      <th>daily_cases</th>\n",
              "      <th>daily_deaths</th>\n",
              "    </tr>\n",
              "  </thead>\n",
              "  <tbody>\n",
              "    <tr>\n",
              "      <th>count</th>\n",
              "      <td>625625.000000</td>\n",
              "      <td>625625.000000</td>\n",
              "      <td>625625.000000</td>\n",
              "    </tr>\n",
              "    <tr>\n",
              "      <th>mean</th>\n",
              "      <td>31175.358971</td>\n",
              "      <td>12.333928</td>\n",
              "      <td>0.307016</td>\n",
              "    </tr>\n",
              "    <tr>\n",
              "      <th>std</th>\n",
              "      <td>16267.627306</td>\n",
              "      <td>67.809433</td>\n",
              "      <td>2.486959</td>\n",
              "    </tr>\n",
              "    <tr>\n",
              "      <th>min</th>\n",
              "      <td>1001.000000</td>\n",
              "      <td>-2321.000000</td>\n",
              "      <td>-512.000000</td>\n",
              "    </tr>\n",
              "    <tr>\n",
              "      <th>25%</th>\n",
              "      <td>18169.000000</td>\n",
              "      <td>0.000000</td>\n",
              "      <td>0.000000</td>\n",
              "    </tr>\n",
              "    <tr>\n",
              "      <th>50%</th>\n",
              "      <td>29195.000000</td>\n",
              "      <td>1.000000</td>\n",
              "      <td>0.000000</td>\n",
              "    </tr>\n",
              "    <tr>\n",
              "      <th>75%</th>\n",
              "      <td>46091.000000</td>\n",
              "      <td>6.000000</td>\n",
              "      <td>0.000000</td>\n",
              "    </tr>\n",
              "    <tr>\n",
              "      <th>max</th>\n",
              "      <td>78030.000000</td>\n",
              "      <td>14129.000000</td>\n",
              "      <td>455.000000</td>\n",
              "    </tr>\n",
              "  </tbody>\n",
              "</table>\n",
              "</div>"
            ],
            "text/plain": [
              "         county_code    daily_cases   daily_deaths\n",
              "count  625625.000000  625625.000000  625625.000000\n",
              "mean    31175.358971      12.333928       0.307016\n",
              "std     16267.627306      67.809433       2.486959\n",
              "min      1001.000000   -2321.000000    -512.000000\n",
              "25%     18169.000000       0.000000       0.000000\n",
              "50%     29195.000000       1.000000       0.000000\n",
              "75%     46091.000000       6.000000       0.000000\n",
              "max     78030.000000   14129.000000     455.000000"
            ]
          },
          "execution_count": 4,
          "metadata": {},
          "output_type": "execute_result"
        }
      ],
      "source": [
        "# describe\n",
        "covid.describe()"
      ]
    },
    {
      "cell_type": "code",
      "execution_count": 5,
      "metadata": {
        "id": "_rjxQ1zK-rrU"
      },
      "outputs": [
        {
          "data": {
            "text/plain": [
              "date            object\n",
              "state           object\n",
              "county_code      int64\n",
              "county          object\n",
              "daily_cases      int64\n",
              "daily_deaths     int64\n",
              "dtype: object"
            ]
          },
          "execution_count": 5,
          "metadata": {},
          "output_type": "execute_result"
        }
      ],
      "source": [
        "# dtypes\n",
        "covid.dtypes"
      ]
    },
    {
      "cell_type": "code",
      "execution_count": 6,
      "metadata": {
        "id": "EQPojiU_-ubT"
      },
      "outputs": [
        {
          "data": {
            "text/plain": [
              "(625625, 6)"
            ]
          },
          "execution_count": 6,
          "metadata": {},
          "output_type": "execute_result"
        }
      ],
      "source": [
        "# shape\n",
        "covid.shape"
      ]
    },
    {
      "cell_type": "markdown",
      "metadata": {
        "id": "9XqzzOsW-xMW"
      },
      "source": [
        "OK, we can see a few things. We have six columns. Our shape tells us that we have over 600,000 rows. Our dtypes call indicates that our `date` column isn't currently a datetime. So if we're going to want to roll up by week then we'll need to convert that."
      ]
    },
    {
      "cell_type": "markdown",
      "metadata": {
        "id": "mWUoi-f7EtFC"
      },
      "source": [
        "## Transforming our data\n",
        "\n",
        "Time to get our transform going. We're going to do the following steps:\n",
        "\n",
        "* Make `date` a datetime\n",
        "* Aggregate our data by week and state and count up the number of cases/deaths\n",
        "* Make a unique key that's needed for our database"
      ]
    },
    {
      "cell_type": "markdown",
      "metadata": {
        "id": "-6RS9s0MJQlo"
      },
      "source": [
        "### Make our datetime\n",
        "\n",
        "You know how this is done. Just convert `date` in place."
      ]
    },
    {
      "cell_type": "code",
      "execution_count": 7,
      "metadata": {
        "id": "IKMJfy0s_H8h"
      },
      "outputs": [],
      "source": [
        "# Convert date to datetime\n",
        "covid['date'] = pd.to_datetime(covid['date'])"
      ]
    },
    {
      "cell_type": "code",
      "execution_count": 8,
      "metadata": {
        "id": "923OwRl2_f-n"
      },
      "outputs": [
        {
          "data": {
            "text/plain": [
              "Timestamp('2020-01-22 00:00:00')"
            ]
          },
          "execution_count": 8,
          "metadata": {},
          "output_type": "execute_result"
        }
      ],
      "source": [
        "# Can we call a method on it to make sure it returns a datetime?\n",
        "covid['date'].min()"
      ]
    },
    {
      "cell_type": "markdown",
      "metadata": {
        "id": "PEaobP9sJpZL"
      },
      "source": [
        "### Groupby and aggregate\n",
        "\n",
        "Time to groupby. We're going to group by two levels. The first is `state`, which is easy. The second is that we want to group by the calendar week. You could go and do something where you extract days and then have some rolling function that counts in groups of seven. But, pandas can actually group by calendar week if we use the `Grouper()` function!\n",
        "\n",
        "To use `pd.Grouper()` you give it two arguments. The first is the key, which in this case is the `date` column. The second is the frequency that you want to group. We want to group on weeks so we can just specify `freq = 'w'`. The `W` tells it to group by calendar week. You can even specify what day you want the week to start on by adding a dash and a day abbreviation. So `W-MON` will tell it to group by weeks where weeks start on Monday.\n",
        "\n",
        "For our `.agg()` we just want to sum up `daily_cases` and `daily_death` which will give us the weekly cases and deaths.\n",
        "\n",
        "OK, let's do it and call the resulting object `covid_grouped`."
      ]
    },
    {
      "cell_type": "code",
      "execution_count": 10,
      "metadata": {
        "id": "KWaBhwKo9upN"
      },
      "outputs": [
        {
          "data": {
            "text/html": [
              "<div>\n",
              "<style scoped>\n",
              "    .dataframe tbody tr th:only-of-type {\n",
              "        vertical-align: middle;\n",
              "    }\n",
              "\n",
              "    .dataframe tbody tr th {\n",
              "        vertical-align: top;\n",
              "    }\n",
              "\n",
              "    .dataframe thead tr th {\n",
              "        text-align: left;\n",
              "    }\n",
              "\n",
              "    .dataframe thead tr:last-of-type th {\n",
              "        text-align: right;\n",
              "    }\n",
              "</style>\n",
              "<table border=\"1\" class=\"dataframe\">\n",
              "  <thead>\n",
              "    <tr>\n",
              "      <th></th>\n",
              "      <th></th>\n",
              "      <th>daily_cases</th>\n",
              "      <th>daily_deaths</th>\n",
              "    </tr>\n",
              "    <tr>\n",
              "      <th></th>\n",
              "      <th></th>\n",
              "      <th>sum</th>\n",
              "      <th>sum</th>\n",
              "    </tr>\n",
              "    <tr>\n",
              "      <th>state</th>\n",
              "      <th>date</th>\n",
              "      <th></th>\n",
              "      <th></th>\n",
              "    </tr>\n",
              "  </thead>\n",
              "  <tbody>\n",
              "    <tr>\n",
              "      <th rowspan=\"10\" valign=\"top\">Alabama</th>\n",
              "      <th>2020-03-15</th>\n",
              "      <td>13</td>\n",
              "      <td>0</td>\n",
              "    </tr>\n",
              "    <tr>\n",
              "      <th>2020-03-22</th>\n",
              "      <td>121</td>\n",
              "      <td>0</td>\n",
              "    </tr>\n",
              "    <tr>\n",
              "      <th>2020-03-29</th>\n",
              "      <td>631</td>\n",
              "      <td>5</td>\n",
              "    </tr>\n",
              "    <tr>\n",
              "      <th>2020-04-05</th>\n",
              "      <td>995</td>\n",
              "      <td>40</td>\n",
              "    </tr>\n",
              "    <tr>\n",
              "      <th>2020-04-12</th>\n",
              "      <td>1740</td>\n",
              "      <td>48</td>\n",
              "    </tr>\n",
              "    <tr>\n",
              "      <th>2020-04-19</th>\n",
              "      <td>1320</td>\n",
              "      <td>67</td>\n",
              "    </tr>\n",
              "    <tr>\n",
              "      <th>2020-04-26</th>\n",
              "      <td>1518</td>\n",
              "      <td>59</td>\n",
              "    </tr>\n",
              "    <tr>\n",
              "      <th>2020-05-03</th>\n",
              "      <td>1467</td>\n",
              "      <td>71</td>\n",
              "    </tr>\n",
              "    <tr>\n",
              "      <th>2020-05-10</th>\n",
              "      <td>2001</td>\n",
              "      <td>103</td>\n",
              "    </tr>\n",
              "    <tr>\n",
              "      <th>2020-05-17</th>\n",
              "      <td>1882</td>\n",
              "      <td>95</td>\n",
              "    </tr>\n",
              "  </tbody>\n",
              "</table>\n",
              "</div>"
            ],
            "text/plain": [
              "                   daily_cases daily_deaths\n",
              "                           sum          sum\n",
              "state   date                               \n",
              "Alabama 2020-03-15          13            0\n",
              "        2020-03-22         121            0\n",
              "        2020-03-29         631            5\n",
              "        2020-04-05         995           40\n",
              "        2020-04-12        1740           48\n",
              "        2020-04-19        1320           67\n",
              "        2020-04-26        1518           59\n",
              "        2020-05-03        1467           71\n",
              "        2020-05-10        2001          103\n",
              "        2020-05-17        1882           95"
            ]
          },
          "execution_count": 10,
          "metadata": {},
          "output_type": "execute_result"
        }
      ],
      "source": [
        "# Test out using grouper. Play around with different freq abbreviations and observe the result\n",
        "covid_grouped_test = covid.groupby([covid['state'], pd.Grouper(key = 'date', freq='W')]).agg({'daily_cases': ['sum'], 'daily_deaths': ['sum']})\n",
        "covid_grouped_test.head(10)"
      ]
    },
    {
      "cell_type": "code",
      "execution_count": 11,
      "metadata": {
        "id": "qnd20-CPJlOh"
      },
      "outputs": [],
      "source": [
        "# Make covid_grouped for real\n",
        "covid_grouped = covid.groupby([covid['state'], pd.Grouper(key = 'date', freq = 'W-MON')]).agg({'daily_cases' : ['sum'], 'daily_deaths': ['sum']})"
      ]
    },
    {
      "cell_type": "code",
      "execution_count": 12,
      "metadata": {
        "id": "NV-_pXOqMaa3"
      },
      "outputs": [
        {
          "data": {
            "text/html": [
              "<div>\n",
              "<style scoped>\n",
              "    .dataframe tbody tr th:only-of-type {\n",
              "        vertical-align: middle;\n",
              "    }\n",
              "\n",
              "    .dataframe tbody tr th {\n",
              "        vertical-align: top;\n",
              "    }\n",
              "\n",
              "    .dataframe thead tr th {\n",
              "        text-align: left;\n",
              "    }\n",
              "\n",
              "    .dataframe thead tr:last-of-type th {\n",
              "        text-align: right;\n",
              "    }\n",
              "</style>\n",
              "<table border=\"1\" class=\"dataframe\">\n",
              "  <thead>\n",
              "    <tr>\n",
              "      <th></th>\n",
              "      <th></th>\n",
              "      <th>daily_cases</th>\n",
              "      <th>daily_deaths</th>\n",
              "    </tr>\n",
              "    <tr>\n",
              "      <th></th>\n",
              "      <th></th>\n",
              "      <th>sum</th>\n",
              "      <th>sum</th>\n",
              "    </tr>\n",
              "    <tr>\n",
              "      <th>state</th>\n",
              "      <th>date</th>\n",
              "      <th></th>\n",
              "      <th></th>\n",
              "    </tr>\n",
              "  </thead>\n",
              "  <tbody>\n",
              "    <tr>\n",
              "      <th rowspan=\"5\" valign=\"top\">Alabama</th>\n",
              "      <th>2020-03-16</th>\n",
              "      <td>19</td>\n",
              "      <td>0</td>\n",
              "    </tr>\n",
              "    <tr>\n",
              "      <th>2020-03-23</th>\n",
              "      <td>151</td>\n",
              "      <td>0</td>\n",
              "    </tr>\n",
              "    <tr>\n",
              "      <th>2020-03-30</th>\n",
              "      <td>707</td>\n",
              "      <td>11</td>\n",
              "    </tr>\n",
              "    <tr>\n",
              "      <th>2020-04-06</th>\n",
              "      <td>1048</td>\n",
              "      <td>42</td>\n",
              "    </tr>\n",
              "    <tr>\n",
              "      <th>2020-04-13</th>\n",
              "      <td>1797</td>\n",
              "      <td>51</td>\n",
              "    </tr>\n",
              "  </tbody>\n",
              "</table>\n",
              "</div>"
            ],
            "text/plain": [
              "                   daily_cases daily_deaths\n",
              "                           sum          sum\n",
              "state   date                               \n",
              "Alabama 2020-03-16          19            0\n",
              "        2020-03-23         151            0\n",
              "        2020-03-30         707           11\n",
              "        2020-04-06        1048           42\n",
              "        2020-04-13        1797           51"
            ]
          },
          "execution_count": 12,
          "metadata": {},
          "output_type": "execute_result"
        }
      ],
      "source": [
        "# Check the head of covid_grouped\n",
        "covid_grouped.head()"
      ]
    },
    {
      "cell_type": "markdown",
      "metadata": {
        "id": "0eWIENbDMd5X"
      },
      "source": [
        "Right now see how the state and date columns are in bold. That means they got assigned as indexes and not columns. Let's reset the index to bring them back as columns. We want them as columns for date manipulation and key generation later."
      ]
    },
    {
      "cell_type": "code",
      "execution_count": 13,
      "metadata": {
        "id": "oNci2u8I_mMB"
      },
      "outputs": [
        {
          "data": {
            "text/html": [
              "<div>\n",
              "<style scoped>\n",
              "    .dataframe tbody tr th:only-of-type {\n",
              "        vertical-align: middle;\n",
              "    }\n",
              "\n",
              "    .dataframe tbody tr th {\n",
              "        vertical-align: top;\n",
              "    }\n",
              "\n",
              "    .dataframe thead tr th {\n",
              "        text-align: left;\n",
              "    }\n",
              "</style>\n",
              "<table border=\"1\" class=\"dataframe\">\n",
              "  <thead>\n",
              "    <tr>\n",
              "      <th></th>\n",
              "      <th>state</th>\n",
              "      <th>date</th>\n",
              "      <th>daily_cases</th>\n",
              "      <th>daily_deaths</th>\n",
              "    </tr>\n",
              "    <tr>\n",
              "      <th></th>\n",
              "      <th></th>\n",
              "      <th></th>\n",
              "      <th>sum</th>\n",
              "      <th>sum</th>\n",
              "    </tr>\n",
              "  </thead>\n",
              "  <tbody>\n",
              "    <tr>\n",
              "      <th>0</th>\n",
              "      <td>Alabama</td>\n",
              "      <td>2020-03-16</td>\n",
              "      <td>19</td>\n",
              "      <td>0</td>\n",
              "    </tr>\n",
              "    <tr>\n",
              "      <th>1</th>\n",
              "      <td>Alabama</td>\n",
              "      <td>2020-03-23</td>\n",
              "      <td>151</td>\n",
              "      <td>0</td>\n",
              "    </tr>\n",
              "    <tr>\n",
              "      <th>2</th>\n",
              "      <td>Alabama</td>\n",
              "      <td>2020-03-30</td>\n",
              "      <td>707</td>\n",
              "      <td>11</td>\n",
              "    </tr>\n",
              "    <tr>\n",
              "      <th>3</th>\n",
              "      <td>Alabama</td>\n",
              "      <td>2020-04-06</td>\n",
              "      <td>1048</td>\n",
              "      <td>42</td>\n",
              "    </tr>\n",
              "    <tr>\n",
              "      <th>4</th>\n",
              "      <td>Alabama</td>\n",
              "      <td>2020-04-13</td>\n",
              "      <td>1797</td>\n",
              "      <td>51</td>\n",
              "    </tr>\n",
              "  </tbody>\n",
              "</table>\n",
              "</div>"
            ],
            "text/plain": [
              "     state       date daily_cases daily_deaths\n",
              "                              sum          sum\n",
              "0  Alabama 2020-03-16          19            0\n",
              "1  Alabama 2020-03-23         151            0\n",
              "2  Alabama 2020-03-30         707           11\n",
              "3  Alabama 2020-04-06        1048           42\n",
              "4  Alabama 2020-04-13        1797           51"
            ]
          },
          "execution_count": 13,
          "metadata": {},
          "output_type": "execute_result"
        }
      ],
      "source": [
        "# Reset index and check head\n",
        "covid_grouped = covid_grouped.reset_index()\n",
        "covid_grouped.head()"
      ]
    },
    {
      "cell_type": "markdown",
      "metadata": {
        "id": "9ihyh0dvM3_7"
      },
      "source": [
        "Let's also rename our columns. We'll leave the first two as 'state' and 'date', but change the last two to 'weekly_cases' and 'weekly_deaths'"
      ]
    },
    {
      "cell_type": "code",
      "execution_count": 14,
      "metadata": {
        "id": "p0Nn8IkUG3oV"
      },
      "outputs": [
        {
          "data": {
            "text/html": [
              "<div>\n",
              "<style scoped>\n",
              "    .dataframe tbody tr th:only-of-type {\n",
              "        vertical-align: middle;\n",
              "    }\n",
              "\n",
              "    .dataframe tbody tr th {\n",
              "        vertical-align: top;\n",
              "    }\n",
              "\n",
              "    .dataframe thead th {\n",
              "        text-align: right;\n",
              "    }\n",
              "</style>\n",
              "<table border=\"1\" class=\"dataframe\">\n",
              "  <thead>\n",
              "    <tr style=\"text-align: right;\">\n",
              "      <th></th>\n",
              "      <th>state</th>\n",
              "      <th>date</th>\n",
              "      <th>weekly_cases</th>\n",
              "      <th>weekly_deaths</th>\n",
              "    </tr>\n",
              "  </thead>\n",
              "  <tbody>\n",
              "    <tr>\n",
              "      <th>0</th>\n",
              "      <td>Alabama</td>\n",
              "      <td>2020-03-16</td>\n",
              "      <td>19</td>\n",
              "      <td>0</td>\n",
              "    </tr>\n",
              "    <tr>\n",
              "      <th>1</th>\n",
              "      <td>Alabama</td>\n",
              "      <td>2020-03-23</td>\n",
              "      <td>151</td>\n",
              "      <td>0</td>\n",
              "    </tr>\n",
              "    <tr>\n",
              "      <th>2</th>\n",
              "      <td>Alabama</td>\n",
              "      <td>2020-03-30</td>\n",
              "      <td>707</td>\n",
              "      <td>11</td>\n",
              "    </tr>\n",
              "    <tr>\n",
              "      <th>3</th>\n",
              "      <td>Alabama</td>\n",
              "      <td>2020-04-06</td>\n",
              "      <td>1048</td>\n",
              "      <td>42</td>\n",
              "    </tr>\n",
              "    <tr>\n",
              "      <th>4</th>\n",
              "      <td>Alabama</td>\n",
              "      <td>2020-04-13</td>\n",
              "      <td>1797</td>\n",
              "      <td>51</td>\n",
              "    </tr>\n",
              "  </tbody>\n",
              "</table>\n",
              "</div>"
            ],
            "text/plain": [
              "     state       date  weekly_cases  weekly_deaths\n",
              "0  Alabama 2020-03-16            19              0\n",
              "1  Alabama 2020-03-23           151              0\n",
              "2  Alabama 2020-03-30           707             11\n",
              "3  Alabama 2020-04-06          1048             42\n",
              "4  Alabama 2020-04-13          1797             51"
            ]
          },
          "execution_count": 14,
          "metadata": {},
          "output_type": "execute_result"
        }
      ],
      "source": [
        "# rename to 'state', 'date', 'weekly_cases', 'weekly_deaths'\n",
        "covid_grouped.columns = ['state', 'date', 'weekly_cases', 'weekly_deaths']\n",
        "covid_grouped.head()"
      ]
    },
    {
      "cell_type": "markdown",
      "metadata": {
        "id": "inCqyvFDNFvY"
      },
      "source": [
        "### A quick validation of our data\n",
        "\n",
        "Let's take a minute and make sure our data makes sense. We'll extract out data from just Arizona and then do a quick barplot of the number of weekly cases in AZ."
      ]
    },
    {
      "cell_type": "code",
      "execution_count": 15,
      "metadata": {
        "id": "QsfR5M_wGoDg"
      },
      "outputs": [],
      "source": [
        "# Extract just AZ observations\n",
        "az_data = covid_grouped[covid_grouped['state'] == 'Arizona']"
      ]
    },
    {
      "cell_type": "code",
      "execution_count": 24,
      "metadata": {
        "id": "24Qhm-PnzQTF"
      },
      "outputs": [
        {
          "name": "stdout",
          "output_type": "stream",
          "text": [
            "Requirement already satisfied: seaborn in /home/qin/miniconda3/envs/322/lib/python3.11/site-packages (0.12.2)\n",
            "Requirement already satisfied: numpy!=1.24.0,>=1.17 in /home/qin/miniconda3/envs/322/lib/python3.11/site-packages (from seaborn) (1.25.2)\n",
            "Requirement already satisfied: pandas>=0.25 in /home/qin/miniconda3/envs/322/lib/python3.11/site-packages (from seaborn) (2.0.3)\n",
            "Requirement already satisfied: matplotlib!=3.6.1,>=3.1 in /home/qin/miniconda3/envs/322/lib/python3.11/site-packages (from seaborn) (3.7.2)\n",
            "Requirement already satisfied: contourpy>=1.0.1 in /home/qin/miniconda3/envs/322/lib/python3.11/site-packages (from matplotlib!=3.6.1,>=3.1->seaborn) (1.0.5)\n",
            "Requirement already satisfied: cycler>=0.10 in /home/qin/miniconda3/envs/322/lib/python3.11/site-packages (from matplotlib!=3.6.1,>=3.1->seaborn) (0.11.0)\n",
            "Requirement already satisfied: fonttools>=4.22.0 in /home/qin/miniconda3/envs/322/lib/python3.11/site-packages (from matplotlib!=3.6.1,>=3.1->seaborn) (4.25.0)\n",
            "Requirement already satisfied: kiwisolver>=1.0.1 in /home/qin/miniconda3/envs/322/lib/python3.11/site-packages (from matplotlib!=3.6.1,>=3.1->seaborn) (1.4.4)\n",
            "Requirement already satisfied: packaging>=20.0 in /home/qin/miniconda3/envs/322/lib/python3.11/site-packages (from matplotlib!=3.6.1,>=3.1->seaborn) (23.1)\n",
            "Requirement already satisfied: pillow>=6.2.0 in /home/qin/miniconda3/envs/322/lib/python3.11/site-packages (from matplotlib!=3.6.1,>=3.1->seaborn) (9.4.0)\n",
            "Requirement already satisfied: pyparsing<3.1,>=2.3.1 in /home/qin/miniconda3/envs/322/lib/python3.11/site-packages (from matplotlib!=3.6.1,>=3.1->seaborn) (3.0.9)\n",
            "Requirement already satisfied: python-dateutil>=2.7 in /home/qin/miniconda3/envs/322/lib/python3.11/site-packages (from matplotlib!=3.6.1,>=3.1->seaborn) (2.8.2)\n",
            "Requirement already satisfied: pytz>=2020.1 in /home/qin/miniconda3/envs/322/lib/python3.11/site-packages (from pandas>=0.25->seaborn) (2022.7)\n",
            "Requirement already satisfied: tzdata>=2022.1 in /home/qin/miniconda3/envs/322/lib/python3.11/site-packages (from pandas>=0.25->seaborn) (2023.3)\n",
            "Requirement already satisfied: six>=1.5 in /home/qin/miniconda3/envs/322/lib/python3.11/site-packages (from python-dateutil>=2.7->matplotlib!=3.6.1,>=3.1->seaborn) (1.16.0)\n"
          ]
        }
      ],
      "source": [
        "#For local machine you may need to install seaborn\n",
        "!pip install seaborn"
      ]
    },
    {
      "cell_type": "code",
      "execution_count": 17,
      "metadata": {
        "id": "ZcmpP2BpGvdh"
      },
      "outputs": [
        {
          "data": {
            "image/png": "[encoded data removed]",
            "text/plain": [
              "<Figure size 640x480 with 1 Axes>"
            ]
          },
          "metadata": {},
          "output_type": "display_data"
        }
      ],
      "source": [
        "# Make barplot using seaborn\n",
        "# The x-axis is a mess but data look right based on what we know about Covid in AZ\n",
        "import seaborn as sns\n",
        "import matplotlib.pyplot as plt\n",
        "g = sns.barplot(x = 'date', y = 'weekly_cases', data = az_data)\n",
        "g.set_xticklabels(labels = az_data['date'],rotation=90)\n",
        "plt.show()"
      ]
    },
    {
      "cell_type": "markdown",
      "metadata": {
        "id": "Ct9XQL2yYOIL"
      },
      "source": [
        "## Transforms - Making a key\n",
        "\n",
        "OK, our `covid_grouped` dataframe is now rolled up into a format that we want. But since we're going to push to a database we need to also make a key. A **primary key** is a unique identifying value for a row of the table. Such a key must not be duplicated in any of the rows (it wouldn't be unique if it was!).\n",
        "\n",
        "So, we need to make a key. What should we use? There isn't a firm rule here, but ideally you want something that is easy to generate. We could imagine making a table of a bunch of random values and selecting from that. The only issue is that if we want to add more data, every time you do you'd need to make sure the key you're giving a row hasn't already been used. You could also imagine making the ID just from a squence, but again if you update you need to know where the sequence ends.\n",
        "\n",
        "Instead of either of those two options we can do something simpler. Let's just take the date in YYYYMMDD format and then add on a code for the state. Any updates obviously won't duplicate dates. Adding on the state code ensures that each date is then unique as no states will have the same state code.\n",
        "\n",
        "To make the key we'll do the following steps:\n",
        "* Make a column called `week_start` that takes the date the grouped week began on and converts it back into a string.\n",
        "* We'll remove the dashes from the current YYYY-MM-DD format\n",
        "* Make numeric values for each state in the dataset\n",
        "* Add those state numeric values back to the date string"
      ]
    },
    {
      "cell_type": "markdown",
      "metadata": {
        "id": "QuH97sTHagl-"
      },
      "source": [
        "### Making our date string\n",
        "\n",
        "First we'll use our basic wrangling skills to take our date column and convert it back to a string with `.astype(str)`. We'll call the new column 'week_start'."
      ]
    },
    {
      "cell_type": "code",
      "execution_count": 26,
      "metadata": {
        "id": "1AQYUOnrIWMY"
      },
      "outputs": [
        {
          "data": {
            "text/plain": [
              "state                    object\n",
              "date             datetime64[ns]\n",
              "weekly_cases              int64\n",
              "weekly_deaths             int64\n",
              "week_start               object\n",
              "dtype: object"
            ]
          },
          "execution_count": 26,
          "metadata": {},
          "output_type": "execute_result"
        }
      ],
      "source": [
        "# Convert to string and check\n",
        "covid_grouped['week_start'] = covid_grouped['date'].astype(str)\n",
        "covid_grouped.dtypes # can see that week_start is an object"
      ]
    },
    {
      "cell_type": "markdown",
      "metadata": {
        "id": "CXNl5FLta3AS"
      },
      "source": [
        "Removing symbols from strings is really common. Luckily it's also quite easy here and we don't need regular expression. `.replace()` allows you to just specify what symbol you want it to remove first, in this case the \"-\", and then what you want to replace it with, in this case nothing.\n",
        "\n",
        "Let's do this operation on 'week_start'."
      ]
    },
    {
      "cell_type": "code",
      "execution_count": 27,
      "metadata": {
        "id": "cX4q1iTfw1wn"
      },
      "outputs": [
        {
          "data": {
            "text/html": [
              "<div>\n",
              "<style scoped>\n",
              "    .dataframe tbody tr th:only-of-type {\n",
              "        vertical-align: middle;\n",
              "    }\n",
              "\n",
              "    .dataframe tbody tr th {\n",
              "        vertical-align: top;\n",
              "    }\n",
              "\n",
              "    .dataframe thead th {\n",
              "        text-align: right;\n",
              "    }\n",
              "</style>\n",
              "<table border=\"1\" class=\"dataframe\">\n",
              "  <thead>\n",
              "    <tr style=\"text-align: right;\">\n",
              "      <th></th>\n",
              "      <th>state</th>\n",
              "      <th>date</th>\n",
              "      <th>weekly_cases</th>\n",
              "      <th>weekly_deaths</th>\n",
              "      <th>week_start</th>\n",
              "    </tr>\n",
              "  </thead>\n",
              "  <tbody>\n",
              "    <tr>\n",
              "      <th>0</th>\n",
              "      <td>Alabama</td>\n",
              "      <td>2020-03-16</td>\n",
              "      <td>19</td>\n",
              "      <td>0</td>\n",
              "      <td>2020-03-16</td>\n",
              "    </tr>\n",
              "    <tr>\n",
              "      <th>1</th>\n",
              "      <td>Alabama</td>\n",
              "      <td>2020-03-23</td>\n",
              "      <td>151</td>\n",
              "      <td>0</td>\n",
              "      <td>2020-03-23</td>\n",
              "    </tr>\n",
              "    <tr>\n",
              "      <th>2</th>\n",
              "      <td>Alabama</td>\n",
              "      <td>2020-03-30</td>\n",
              "      <td>707</td>\n",
              "      <td>11</td>\n",
              "      <td>2020-03-30</td>\n",
              "    </tr>\n",
              "    <tr>\n",
              "      <th>3</th>\n",
              "      <td>Alabama</td>\n",
              "      <td>2020-04-06</td>\n",
              "      <td>1048</td>\n",
              "      <td>42</td>\n",
              "      <td>2020-04-06</td>\n",
              "    </tr>\n",
              "    <tr>\n",
              "      <th>4</th>\n",
              "      <td>Alabama</td>\n",
              "      <td>2020-04-13</td>\n",
              "      <td>1797</td>\n",
              "      <td>51</td>\n",
              "      <td>2020-04-13</td>\n",
              "    </tr>\n",
              "  </tbody>\n",
              "</table>\n",
              "</div>"
            ],
            "text/plain": [
              "     state       date  weekly_cases  weekly_deaths  week_start\n",
              "0  Alabama 2020-03-16            19              0  2020-03-16\n",
              "1  Alabama 2020-03-23           151              0  2020-03-23\n",
              "2  Alabama 2020-03-30           707             11  2020-03-30\n",
              "3  Alabama 2020-04-06          1048             42  2020-04-06\n",
              "4  Alabama 2020-04-13          1797             51  2020-04-13"
            ]
          },
          "execution_count": 27,
          "metadata": {},
          "output_type": "execute_result"
        }
      ],
      "source": [
        "covid_grouped.head()"
      ]
    },
    {
      "cell_type": "code",
      "execution_count": 28,
      "metadata": {
        "id": "viFlaqTeIhjZ"
      },
      "outputs": [
        {
          "data": {
            "text/html": [
              "<div>\n",
              "<style scoped>\n",
              "    .dataframe tbody tr th:only-of-type {\n",
              "        vertical-align: middle;\n",
              "    }\n",
              "\n",
              "    .dataframe tbody tr th {\n",
              "        vertical-align: top;\n",
              "    }\n",
              "\n",
              "    .dataframe thead th {\n",
              "        text-align: right;\n",
              "    }\n",
              "</style>\n",
              "<table border=\"1\" class=\"dataframe\">\n",
              "  <thead>\n",
              "    <tr style=\"text-align: right;\">\n",
              "      <th></th>\n",
              "      <th>state</th>\n",
              "      <th>date</th>\n",
              "      <th>weekly_cases</th>\n",
              "      <th>weekly_deaths</th>\n",
              "      <th>week_start</th>\n",
              "    </tr>\n",
              "  </thead>\n",
              "  <tbody>\n",
              "    <tr>\n",
              "      <th>0</th>\n",
              "      <td>Alabama</td>\n",
              "      <td>2020-03-16</td>\n",
              "      <td>19</td>\n",
              "      <td>0</td>\n",
              "      <td>20200316</td>\n",
              "    </tr>\n",
              "    <tr>\n",
              "      <th>1</th>\n",
              "      <td>Alabama</td>\n",
              "      <td>2020-03-23</td>\n",
              "      <td>151</td>\n",
              "      <td>0</td>\n",
              "      <td>20200323</td>\n",
              "    </tr>\n",
              "    <tr>\n",
              "      <th>2</th>\n",
              "      <td>Alabama</td>\n",
              "      <td>2020-03-30</td>\n",
              "      <td>707</td>\n",
              "      <td>11</td>\n",
              "      <td>20200330</td>\n",
              "    </tr>\n",
              "    <tr>\n",
              "      <th>3</th>\n",
              "      <td>Alabama</td>\n",
              "      <td>2020-04-06</td>\n",
              "      <td>1048</td>\n",
              "      <td>42</td>\n",
              "      <td>20200406</td>\n",
              "    </tr>\n",
              "    <tr>\n",
              "      <th>4</th>\n",
              "      <td>Alabama</td>\n",
              "      <td>2020-04-13</td>\n",
              "      <td>1797</td>\n",
              "      <td>51</td>\n",
              "      <td>20200413</td>\n",
              "    </tr>\n",
              "  </tbody>\n",
              "</table>\n",
              "</div>"
            ],
            "text/plain": [
              "     state       date  weekly_cases  weekly_deaths week_start\n",
              "0  Alabama 2020-03-16            19              0   20200316\n",
              "1  Alabama 2020-03-23           151              0   20200323\n",
              "2  Alabama 2020-03-30           707             11   20200330\n",
              "3  Alabama 2020-04-06          1048             42   20200406\n",
              "4  Alabama 2020-04-13          1797             51   20200413"
            ]
          },
          "execution_count": 28,
          "metadata": {},
          "output_type": "execute_result"
        }
      ],
      "source": [
        "# Remove dash from week start\n",
        "covid_grouped['week_start'] = covid_grouped['week_start'].str.replace('-', '')\n",
        "covid_grouped.head()"
      ]
    },
    {
      "cell_type": "markdown",
      "metadata": {
        "id": "3alOQBFKbTkX"
      },
      "source": [
        "### Making our state names into numeric factors\n",
        "\n",
        "We want to assign each unique level in the 'state' column it's own numeric ID value. Pandas has a function called `factorize()` that does just that. As an argument you feed it a column that has multiple unique characters, and it'll return a unique numeric value for each. Here's an example on some test data\n",
        "\n",
        "```\n",
        ">>> states = ['washington', 'washington', 'arizona', 'california']\n",
        ">>> pd.factorize(states)\n",
        "(array([0, 0, 1, 2]),\n",
        " array(['washington', 'arizona', 'california'], dtype=object))\n",
        "```\n",
        "You can see that `pd.factorize()` took 'states` and gave the unique values a corresponding numeric value starting with zero. Test it out below if you want.\n"
      ]
    },
    {
      "cell_type": "code",
      "execution_count": 29,
      "metadata": {
        "id": "kXr2Tjnlb04f"
      },
      "outputs": [
        {
          "data": {
            "text/plain": [
              "(array([0, 0, 1, 2]),\n",
              " array(['washington', 'arizona', 'california'], dtype=object))"
            ]
          },
          "execution_count": 29,
          "metadata": {},
          "output_type": "execute_result"
        }
      ],
      "source": [
        "# If you want to test it out\n",
        "states = ['washington', 'washington', 'arizona', 'california']\n",
        "pd.factorize(states)"
      ]
    },
    {
      "cell_type": "markdown",
      "metadata": {
        "id": "D6pAqcRhcjmn"
      },
      "source": [
        "Let's apply factorize to create a new column called 'state_id'. Note how above `factorize()` returned two arrays. The first had the ID, the second the original level. We'll need to call just that first array with `[0]` as that's all we want in the new column.\n",
        "\n",
        "I'm also going to convert the numeric straight to a string using `.astype(str)` again. This will save us a step when we add the `state_id` string to the `week_start` string."
      ]
    },
    {
      "cell_type": "code",
      "execution_count": 101,
      "metadata": {
        "id": "ZH9eQtOrcjOe"
      },
      "outputs": [
        {
          "data": {
            "text/html": [
              "<div>\n",
              "<style scoped>\n",
              "    .dataframe tbody tr th:only-of-type {\n",
              "        vertical-align: middle;\n",
              "    }\n",
              "\n",
              "    .dataframe tbody tr th {\n",
              "        vertical-align: top;\n",
              "    }\n",
              "\n",
              "    .dataframe thead th {\n",
              "        text-align: right;\n",
              "    }\n",
              "</style>\n",
              "<table border=\"1\" class=\"dataframe\">\n",
              "  <thead>\n",
              "    <tr style=\"text-align: right;\">\n",
              "      <th></th>\n",
              "      <th>state</th>\n",
              "      <th>date</th>\n",
              "      <th>weekly_cases</th>\n",
              "      <th>weekly_deaths</th>\n",
              "      <th>state_id</th>\n",
              "    </tr>\n",
              "  </thead>\n",
              "  <tbody>\n",
              "    <tr>\n",
              "      <th>0</th>\n",
              "      <td>Alabama</td>\n",
              "      <td>2020-03-16</td>\n",
              "      <td>19</td>\n",
              "      <td>0</td>\n",
              "      <td>0</td>\n",
              "    </tr>\n",
              "    <tr>\n",
              "      <th>1</th>\n",
              "      <td>Alabama</td>\n",
              "      <td>2020-03-23</td>\n",
              "      <td>151</td>\n",
              "      <td>0</td>\n",
              "      <td>0</td>\n",
              "    </tr>\n",
              "    <tr>\n",
              "      <th>2</th>\n",
              "      <td>Alabama</td>\n",
              "      <td>2020-03-30</td>\n",
              "      <td>707</td>\n",
              "      <td>11</td>\n",
              "      <td>0</td>\n",
              "    </tr>\n",
              "    <tr>\n",
              "      <th>3</th>\n",
              "      <td>Alabama</td>\n",
              "      <td>2020-04-06</td>\n",
              "      <td>1048</td>\n",
              "      <td>42</td>\n",
              "      <td>0</td>\n",
              "    </tr>\n",
              "    <tr>\n",
              "      <th>4</th>\n",
              "      <td>Alabama</td>\n",
              "      <td>2020-04-13</td>\n",
              "      <td>1797</td>\n",
              "      <td>51</td>\n",
              "      <td>0</td>\n",
              "    </tr>\n",
              "    <tr>\n",
              "      <th>...</th>\n",
              "      <td>...</td>\n",
              "      <td>...</td>\n",
              "      <td>...</td>\n",
              "      <td>...</td>\n",
              "      <td>...</td>\n",
              "    </tr>\n",
              "    <tr>\n",
              "      <th>1765</th>\n",
              "      <td>Wyoming</td>\n",
              "      <td>2020-09-21</td>\n",
              "      <td>552</td>\n",
              "      <td>3</td>\n",
              "      <td>53</td>\n",
              "    </tr>\n",
              "    <tr>\n",
              "      <th>1766</th>\n",
              "      <td>Wyoming</td>\n",
              "      <td>2020-09-28</td>\n",
              "      <td>810</td>\n",
              "      <td>1</td>\n",
              "      <td>53</td>\n",
              "    </tr>\n",
              "    <tr>\n",
              "      <th>1767</th>\n",
              "      <td>Wyoming</td>\n",
              "      <td>2020-10-05</td>\n",
              "      <td>875</td>\n",
              "      <td>3</td>\n",
              "      <td>53</td>\n",
              "    </tr>\n",
              "    <tr>\n",
              "      <th>1768</th>\n",
              "      <td>Wyoming</td>\n",
              "      <td>2020-10-12</td>\n",
              "      <td>1173</td>\n",
              "      <td>1</td>\n",
              "      <td>53</td>\n",
              "    </tr>\n",
              "    <tr>\n",
              "      <th>1769</th>\n",
              "      <td>Wyoming</td>\n",
              "      <td>2020-10-19</td>\n",
              "      <td>573</td>\n",
              "      <td>3</td>\n",
              "      <td>53</td>\n",
              "    </tr>\n",
              "  </tbody>\n",
              "</table>\n",
              "<p>1770 rows × 5 columns</p>\n",
              "</div>"
            ],
            "text/plain": [
              "        state       date  weekly_cases  weekly_deaths state_id\n",
              "0     Alabama 2020-03-16            19              0        0\n",
              "1     Alabama 2020-03-23           151              0        0\n",
              "2     Alabama 2020-03-30           707             11        0\n",
              "3     Alabama 2020-04-06          1048             42        0\n",
              "4     Alabama 2020-04-13          1797             51        0\n",
              "...       ...        ...           ...            ...      ...\n",
              "1765  Wyoming 2020-09-21           552              3       53\n",
              "1766  Wyoming 2020-09-28           810              1       53\n",
              "1767  Wyoming 2020-10-05           875              3       53\n",
              "1768  Wyoming 2020-10-12          1173              1       53\n",
              "1769  Wyoming 2020-10-19           573              3       53\n",
              "\n",
              "[1770 rows x 5 columns]"
            ]
          },
          "execution_count": 101,
          "metadata": {},
          "output_type": "execute_result"
        }
      ],
      "source": [
        "covid_grouped['state_id'] = pd.factorize(covid_grouped['state'])[0].astype(str)\n",
        "covid_grouped # check it"
      ]
    },
    {
      "cell_type": "code",
      "execution_count": 102,
      "metadata": {},
      "outputs": [
        {
          "data": {
            "text/html": [
              "<div>\n",
              "<style scoped>\n",
              "    .dataframe tbody tr th:only-of-type {\n",
              "        vertical-align: middle;\n",
              "    }\n",
              "\n",
              "    .dataframe tbody tr th {\n",
              "        vertical-align: top;\n",
              "    }\n",
              "\n",
              "    .dataframe thead th {\n",
              "        text-align: right;\n",
              "    }\n",
              "</style>\n",
              "<table border=\"1\" class=\"dataframe\">\n",
              "  <thead>\n",
              "    <tr style=\"text-align: right;\">\n",
              "      <th></th>\n",
              "      <th>state</th>\n",
              "      <th>date</th>\n",
              "      <th>weekly_cases</th>\n",
              "      <th>weekly_deaths</th>\n",
              "      <th>state_id</th>\n",
              "    </tr>\n",
              "  </thead>\n",
              "  <tbody>\n",
              "    <tr>\n",
              "      <th>240</th>\n",
              "      <td>Delaware</td>\n",
              "      <td>2020-03-16</td>\n",
              "      <td>7</td>\n",
              "      <td>0</td>\n",
              "      <td>7</td>\n",
              "    </tr>\n",
              "    <tr>\n",
              "      <th>241</th>\n",
              "      <td>Delaware</td>\n",
              "      <td>2020-03-23</td>\n",
              "      <td>75</td>\n",
              "      <td>0</td>\n",
              "      <td>7</td>\n",
              "    </tr>\n",
              "    <tr>\n",
              "      <th>242</th>\n",
              "      <td>Delaware</td>\n",
              "      <td>2020-03-30</td>\n",
              "      <td>177</td>\n",
              "      <td>7</td>\n",
              "      <td>7</td>\n",
              "    </tr>\n",
              "    <tr>\n",
              "      <th>243</th>\n",
              "      <td>Delaware</td>\n",
              "      <td>2020-04-06</td>\n",
              "      <td>519</td>\n",
              "      <td>8</td>\n",
              "      <td>7</td>\n",
              "    </tr>\n",
              "    <tr>\n",
              "      <th>244</th>\n",
              "      <td>Delaware</td>\n",
              "      <td>2020-04-13</td>\n",
              "      <td>975</td>\n",
              "      <td>26</td>\n",
              "      <td>7</td>\n",
              "    </tr>\n",
              "    <tr>\n",
              "      <th>245</th>\n",
              "      <td>Delaware</td>\n",
              "      <td>2020-04-20</td>\n",
              "      <td>956</td>\n",
              "      <td>31</td>\n",
              "      <td>7</td>\n",
              "    </tr>\n",
              "    <tr>\n",
              "      <th>246</th>\n",
              "      <td>Delaware</td>\n",
              "      <td>2020-04-27</td>\n",
              "      <td>1437</td>\n",
              "      <td>53</td>\n",
              "      <td>7</td>\n",
              "    </tr>\n",
              "    <tr>\n",
              "      <th>247</th>\n",
              "      <td>Delaware</td>\n",
              "      <td>2020-05-04</td>\n",
              "      <td>1113</td>\n",
              "      <td>57</td>\n",
              "      <td>7</td>\n",
              "    </tr>\n",
              "    <tr>\n",
              "      <th>248</th>\n",
              "      <td>Delaware</td>\n",
              "      <td>2020-05-11</td>\n",
              "      <td>1261</td>\n",
              "      <td>43</td>\n",
              "      <td>7</td>\n",
              "    </tr>\n",
              "    <tr>\n",
              "      <th>249</th>\n",
              "      <td>Delaware</td>\n",
              "      <td>2020-05-18</td>\n",
              "      <td>1293</td>\n",
              "      <td>71</td>\n",
              "      <td>7</td>\n",
              "    </tr>\n",
              "    <tr>\n",
              "      <th>250</th>\n",
              "      <td>Delaware</td>\n",
              "      <td>2020-05-25</td>\n",
              "      <td>1092</td>\n",
              "      <td>35</td>\n",
              "      <td>7</td>\n",
              "    </tr>\n",
              "    <tr>\n",
              "      <th>251</th>\n",
              "      <td>Delaware</td>\n",
              "      <td>2020-06-01</td>\n",
              "      <td>640</td>\n",
              "      <td>37</td>\n",
              "      <td>7</td>\n",
              "    </tr>\n",
              "    <tr>\n",
              "      <th>252</th>\n",
              "      <td>Delaware</td>\n",
              "      <td>2020-06-08</td>\n",
              "      <td>411</td>\n",
              "      <td>30</td>\n",
              "      <td>7</td>\n",
              "    </tr>\n",
              "    <tr>\n",
              "      <th>253</th>\n",
              "      <td>Delaware</td>\n",
              "      <td>2020-06-15</td>\n",
              "      <td>365</td>\n",
              "      <td>25</td>\n",
              "      <td>7</td>\n",
              "    </tr>\n",
              "    <tr>\n",
              "      <th>254</th>\n",
              "      <td>Delaware</td>\n",
              "      <td>2020-06-22</td>\n",
              "      <td>477</td>\n",
              "      <td>12</td>\n",
              "      <td>7</td>\n",
              "    </tr>\n",
              "    <tr>\n",
              "      <th>255</th>\n",
              "      <td>Delaware</td>\n",
              "      <td>2020-06-29</td>\n",
              "      <td>537</td>\n",
              "      <td>72</td>\n",
              "      <td>7</td>\n",
              "    </tr>\n",
              "    <tr>\n",
              "      <th>256</th>\n",
              "      <td>Delaware</td>\n",
              "      <td>2020-07-06</td>\n",
              "      <td>862</td>\n",
              "      <td>5</td>\n",
              "      <td>7</td>\n",
              "    </tr>\n",
              "    <tr>\n",
              "      <th>257</th>\n",
              "      <td>Delaware</td>\n",
              "      <td>2020-07-13</td>\n",
              "      <td>571</td>\n",
              "      <td>5</td>\n",
              "      <td>7</td>\n",
              "    </tr>\n",
              "    <tr>\n",
              "      <th>258</th>\n",
              "      <td>Delaware</td>\n",
              "      <td>2020-07-20</td>\n",
              "      <td>698</td>\n",
              "      <td>6</td>\n",
              "      <td>7</td>\n",
              "    </tr>\n",
              "    <tr>\n",
              "      <th>259</th>\n",
              "      <td>Delaware</td>\n",
              "      <td>2020-07-27</td>\n",
              "      <td>743</td>\n",
              "      <td>56</td>\n",
              "      <td>7</td>\n",
              "    </tr>\n",
              "    <tr>\n",
              "      <th>260</th>\n",
              "      <td>Delaware</td>\n",
              "      <td>2020-08-03</td>\n",
              "      <td>612</td>\n",
              "      <td>6</td>\n",
              "      <td>7</td>\n",
              "    </tr>\n",
              "    <tr>\n",
              "      <th>261</th>\n",
              "      <td>Delaware</td>\n",
              "      <td>2020-08-10</td>\n",
              "      <td>559</td>\n",
              "      <td>6</td>\n",
              "      <td>7</td>\n",
              "    </tr>\n",
              "    <tr>\n",
              "      <th>262</th>\n",
              "      <td>Delaware</td>\n",
              "      <td>2020-08-17</td>\n",
              "      <td>888</td>\n",
              "      <td>2</td>\n",
              "      <td>7</td>\n",
              "    </tr>\n",
              "    <tr>\n",
              "      <th>263</th>\n",
              "      <td>Delaware</td>\n",
              "      <td>2020-08-24</td>\n",
              "      <td>394</td>\n",
              "      <td>11</td>\n",
              "      <td>7</td>\n",
              "    </tr>\n",
              "    <tr>\n",
              "      <th>264</th>\n",
              "      <td>Delaware</td>\n",
              "      <td>2020-08-31</td>\n",
              "      <td>477</td>\n",
              "      <td>1</td>\n",
              "      <td>7</td>\n",
              "    </tr>\n",
              "    <tr>\n",
              "      <th>265</th>\n",
              "      <td>Delaware</td>\n",
              "      <td>2020-09-07</td>\n",
              "      <td>652</td>\n",
              "      <td>4</td>\n",
              "      <td>7</td>\n",
              "    </tr>\n",
              "    <tr>\n",
              "      <th>266</th>\n",
              "      <td>Delaware</td>\n",
              "      <td>2020-09-14</td>\n",
              "      <td>671</td>\n",
              "      <td>8</td>\n",
              "      <td>7</td>\n",
              "    </tr>\n",
              "    <tr>\n",
              "      <th>267</th>\n",
              "      <td>Delaware</td>\n",
              "      <td>2020-09-21</td>\n",
              "      <td>720</td>\n",
              "      <td>10</td>\n",
              "      <td>7</td>\n",
              "    </tr>\n",
              "    <tr>\n",
              "      <th>268</th>\n",
              "      <td>Delaware</td>\n",
              "      <td>2020-09-28</td>\n",
              "      <td>709</td>\n",
              "      <td>7</td>\n",
              "      <td>7</td>\n",
              "    </tr>\n",
              "    <tr>\n",
              "      <th>269</th>\n",
              "      <td>Delaware</td>\n",
              "      <td>2020-10-05</td>\n",
              "      <td>1377</td>\n",
              "      <td>11</td>\n",
              "      <td>7</td>\n",
              "    </tr>\n",
              "    <tr>\n",
              "      <th>270</th>\n",
              "      <td>Delaware</td>\n",
              "      <td>2020-10-12</td>\n",
              "      <td>925</td>\n",
              "      <td>11</td>\n",
              "      <td>7</td>\n",
              "    </tr>\n",
              "    <tr>\n",
              "      <th>271</th>\n",
              "      <td>Delaware</td>\n",
              "      <td>2020-10-19</td>\n",
              "      <td>271</td>\n",
              "      <td>5</td>\n",
              "      <td>7</td>\n",
              "    </tr>\n",
              "  </tbody>\n",
              "</table>\n",
              "</div>"
            ],
            "text/plain": [
              "        state       date  weekly_cases  weekly_deaths state_id\n",
              "240  Delaware 2020-03-16             7              0        7\n",
              "241  Delaware 2020-03-23            75              0        7\n",
              "242  Delaware 2020-03-30           177              7        7\n",
              "243  Delaware 2020-04-06           519              8        7\n",
              "244  Delaware 2020-04-13           975             26        7\n",
              "245  Delaware 2020-04-20           956             31        7\n",
              "246  Delaware 2020-04-27          1437             53        7\n",
              "247  Delaware 2020-05-04          1113             57        7\n",
              "248  Delaware 2020-05-11          1261             43        7\n",
              "249  Delaware 2020-05-18          1293             71        7\n",
              "250  Delaware 2020-05-25          1092             35        7\n",
              "251  Delaware 2020-06-01           640             37        7\n",
              "252  Delaware 2020-06-08           411             30        7\n",
              "253  Delaware 2020-06-15           365             25        7\n",
              "254  Delaware 2020-06-22           477             12        7\n",
              "255  Delaware 2020-06-29           537             72        7\n",
              "256  Delaware 2020-07-06           862              5        7\n",
              "257  Delaware 2020-07-13           571              5        7\n",
              "258  Delaware 2020-07-20           698              6        7\n",
              "259  Delaware 2020-07-27           743             56        7\n",
              "260  Delaware 2020-08-03           612              6        7\n",
              "261  Delaware 2020-08-10           559              6        7\n",
              "262  Delaware 2020-08-17           888              2        7\n",
              "263  Delaware 2020-08-24           394             11        7\n",
              "264  Delaware 2020-08-31           477              1        7\n",
              "265  Delaware 2020-09-07           652              4        7\n",
              "266  Delaware 2020-09-14           671              8        7\n",
              "267  Delaware 2020-09-21           720             10        7\n",
              "268  Delaware 2020-09-28           709              7        7\n",
              "269  Delaware 2020-10-05          1377             11        7\n",
              "270  Delaware 2020-10-12           925             11        7\n",
              "271  Delaware 2020-10-19           271              5        7"
            ]
          },
          "execution_count": 102,
          "metadata": {},
          "output_type": "execute_result"
        }
      ],
      "source": [
        "covid_grouped[covid_grouped['state'] == 'Delaware']"
      ]
    },
    {
      "cell_type": "markdown",
      "metadata": {
        "id": "As7ZiyGweXmt"
      },
      "source": [
        "Great. We can see we have our 'state_id' column now. Let's join that to the front of 'week_start' so this way our key format is IDYYYYMMDD where ID at the start of the string is the state ID.\n",
        "\n",
        "If you want to merge two strings in different columns you can literally just add them together. So let's add the 'state_id' column to the 'week_start' column. Let's create a new column called 'wk_st_id' for \"week state id.\""
      ]
    },
    {
      "cell_type": "code",
      "execution_count": 31,
      "metadata": {
        "id": "ZIz1ENUlPQOA"
      },
      "outputs": [
        {
          "data": {
            "text/html": [
              "<div>\n",
              "<style scoped>\n",
              "    .dataframe tbody tr th:only-of-type {\n",
              "        vertical-align: middle;\n",
              "    }\n",
              "\n",
              "    .dataframe tbody tr th {\n",
              "        vertical-align: top;\n",
              "    }\n",
              "\n",
              "    .dataframe thead th {\n",
              "        text-align: right;\n",
              "    }\n",
              "</style>\n",
              "<table border=\"1\" class=\"dataframe\">\n",
              "  <thead>\n",
              "    <tr style=\"text-align: right;\">\n",
              "      <th></th>\n",
              "      <th>state</th>\n",
              "      <th>date</th>\n",
              "      <th>weekly_cases</th>\n",
              "      <th>weekly_deaths</th>\n",
              "      <th>week_start</th>\n",
              "      <th>state_id</th>\n",
              "      <th>wk_st_id</th>\n",
              "    </tr>\n",
              "  </thead>\n",
              "  <tbody>\n",
              "    <tr>\n",
              "      <th>0</th>\n",
              "      <td>Alabama</td>\n",
              "      <td>2020-03-16</td>\n",
              "      <td>19</td>\n",
              "      <td>0</td>\n",
              "      <td>20200316</td>\n",
              "      <td>0</td>\n",
              "      <td>020200316</td>\n",
              "    </tr>\n",
              "    <tr>\n",
              "      <th>1</th>\n",
              "      <td>Alabama</td>\n",
              "      <td>2020-03-23</td>\n",
              "      <td>151</td>\n",
              "      <td>0</td>\n",
              "      <td>20200323</td>\n",
              "      <td>0</td>\n",
              "      <td>020200323</td>\n",
              "    </tr>\n",
              "    <tr>\n",
              "      <th>2</th>\n",
              "      <td>Alabama</td>\n",
              "      <td>2020-03-30</td>\n",
              "      <td>707</td>\n",
              "      <td>11</td>\n",
              "      <td>20200330</td>\n",
              "      <td>0</td>\n",
              "      <td>020200330</td>\n",
              "    </tr>\n",
              "    <tr>\n",
              "      <th>3</th>\n",
              "      <td>Alabama</td>\n",
              "      <td>2020-04-06</td>\n",
              "      <td>1048</td>\n",
              "      <td>42</td>\n",
              "      <td>20200406</td>\n",
              "      <td>0</td>\n",
              "      <td>020200406</td>\n",
              "    </tr>\n",
              "    <tr>\n",
              "      <th>4</th>\n",
              "      <td>Alabama</td>\n",
              "      <td>2020-04-13</td>\n",
              "      <td>1797</td>\n",
              "      <td>51</td>\n",
              "      <td>20200413</td>\n",
              "      <td>0</td>\n",
              "      <td>020200413</td>\n",
              "    </tr>\n",
              "    <tr>\n",
              "      <th>...</th>\n",
              "      <td>...</td>\n",
              "      <td>...</td>\n",
              "      <td>...</td>\n",
              "      <td>...</td>\n",
              "      <td>...</td>\n",
              "      <td>...</td>\n",
              "      <td>...</td>\n",
              "    </tr>\n",
              "    <tr>\n",
              "      <th>1765</th>\n",
              "      <td>Wyoming</td>\n",
              "      <td>2020-09-21</td>\n",
              "      <td>552</td>\n",
              "      <td>3</td>\n",
              "      <td>20200921</td>\n",
              "      <td>53</td>\n",
              "      <td>5320200921</td>\n",
              "    </tr>\n",
              "    <tr>\n",
              "      <th>1766</th>\n",
              "      <td>Wyoming</td>\n",
              "      <td>2020-09-28</td>\n",
              "      <td>810</td>\n",
              "      <td>1</td>\n",
              "      <td>20200928</td>\n",
              "      <td>53</td>\n",
              "      <td>5320200928</td>\n",
              "    </tr>\n",
              "    <tr>\n",
              "      <th>1767</th>\n",
              "      <td>Wyoming</td>\n",
              "      <td>2020-10-05</td>\n",
              "      <td>875</td>\n",
              "      <td>3</td>\n",
              "      <td>20201005</td>\n",
              "      <td>53</td>\n",
              "      <td>5320201005</td>\n",
              "    </tr>\n",
              "    <tr>\n",
              "      <th>1768</th>\n",
              "      <td>Wyoming</td>\n",
              "      <td>2020-10-12</td>\n",
              "      <td>1173</td>\n",
              "      <td>1</td>\n",
              "      <td>20201012</td>\n",
              "      <td>53</td>\n",
              "      <td>5320201012</td>\n",
              "    </tr>\n",
              "    <tr>\n",
              "      <th>1769</th>\n",
              "      <td>Wyoming</td>\n",
              "      <td>2020-10-19</td>\n",
              "      <td>573</td>\n",
              "      <td>3</td>\n",
              "      <td>20201019</td>\n",
              "      <td>53</td>\n",
              "      <td>5320201019</td>\n",
              "    </tr>\n",
              "  </tbody>\n",
              "</table>\n",
              "<p>1770 rows × 7 columns</p>\n",
              "</div>"
            ],
            "text/plain": [
              "        state       date  weekly_cases  weekly_deaths week_start state_id  \\\n",
              "0     Alabama 2020-03-16            19              0   20200316        0   \n",
              "1     Alabama 2020-03-23           151              0   20200323        0   \n",
              "2     Alabama 2020-03-30           707             11   20200330        0   \n",
              "3     Alabama 2020-04-06          1048             42   20200406        0   \n",
              "4     Alabama 2020-04-13          1797             51   20200413        0   \n",
              "...       ...        ...           ...            ...        ...      ...   \n",
              "1765  Wyoming 2020-09-21           552              3   20200921       53   \n",
              "1766  Wyoming 2020-09-28           810              1   20200928       53   \n",
              "1767  Wyoming 2020-10-05           875              3   20201005       53   \n",
              "1768  Wyoming 2020-10-12          1173              1   20201012       53   \n",
              "1769  Wyoming 2020-10-19           573              3   20201019       53   \n",
              "\n",
              "        wk_st_id  \n",
              "0      020200316  \n",
              "1      020200323  \n",
              "2      020200330  \n",
              "3      020200406  \n",
              "4      020200413  \n",
              "...          ...  \n",
              "1765  5320200921  \n",
              "1766  5320200928  \n",
              "1767  5320201005  \n",
              "1768  5320201012  \n",
              "1769  5320201019  \n",
              "\n",
              "[1770 rows x 7 columns]"
            ]
          },
          "execution_count": 31,
          "metadata": {},
          "output_type": "execute_result"
        }
      ],
      "source": [
        "# Add strings\n",
        "covid_grouped['wk_st_id'] = covid_grouped['state_id'] + covid_grouped['week_start']\n",
        "covid_grouped #check"
      ]
    },
    {
      "cell_type": "markdown",
      "metadata": {
        "id": "xparPAPxf2Cf"
      },
      "source": [
        "## Making our table of state keys\n",
        "\n",
        "Now that we have our encoded key for our covid_grouped table we need to do two final things. First, let's make a second table that contains the relationship between the state_id and the state. This way people can make sql queries on the covid data using the state name if they wanted.\n",
        "\n",
        "After that we'll drop the unnecessary columns from `covid_grouped`."
      ]
    },
    {
      "cell_type": "markdown",
      "metadata": {
        "id": "zNauOlS2gVbx"
      },
      "source": [
        "Making our 'states' table is easy. Just select the two columns of 'state_id' and 'state' and use `drop_duplicates() to get just unique values. This way we'll have each state only once. Call the resulting dataframe 'states'"
      ]
    },
    {
      "cell_type": "code",
      "execution_count": 32,
      "metadata": {
        "id": "cusIG-KbR8j7"
      },
      "outputs": [
        {
          "data": {
            "text/html": [
              "<div>\n",
              "<style scoped>\n",
              "    .dataframe tbody tr th:only-of-type {\n",
              "        vertical-align: middle;\n",
              "    }\n",
              "\n",
              "    .dataframe tbody tr th {\n",
              "        vertical-align: top;\n",
              "    }\n",
              "\n",
              "    .dataframe thead th {\n",
              "        text-align: right;\n",
              "    }\n",
              "</style>\n",
              "<table border=\"1\" class=\"dataframe\">\n",
              "  <thead>\n",
              "    <tr style=\"text-align: right;\">\n",
              "      <th></th>\n",
              "      <th>state_id</th>\n",
              "      <th>state</th>\n",
              "    </tr>\n",
              "  </thead>\n",
              "  <tbody>\n",
              "    <tr>\n",
              "      <th>0</th>\n",
              "      <td>0</td>\n",
              "      <td>Alabama</td>\n",
              "    </tr>\n",
              "    <tr>\n",
              "      <th>32</th>\n",
              "      <td>1</td>\n",
              "      <td>Alaska</td>\n",
              "    </tr>\n",
              "    <tr>\n",
              "      <th>64</th>\n",
              "      <td>2</td>\n",
              "      <td>Arizona</td>\n",
              "    </tr>\n",
              "    <tr>\n",
              "      <th>103</th>\n",
              "      <td>3</td>\n",
              "      <td>Arkansas</td>\n",
              "    </tr>\n",
              "    <tr>\n",
              "      <th>135</th>\n",
              "      <td>4</td>\n",
              "      <td>California</td>\n",
              "    </tr>\n",
              "  </tbody>\n",
              "</table>\n",
              "</div>"
            ],
            "text/plain": [
              "    state_id       state\n",
              "0          0     Alabama\n",
              "32         1      Alaska\n",
              "64         2     Arizona\n",
              "103        3    Arkansas\n",
              "135        4  California"
            ]
          },
          "execution_count": 32,
          "metadata": {},
          "output_type": "execute_result"
        }
      ],
      "source": [
        "# Make states by selecting columns and dropping duplicates\n",
        "states = covid_grouped[['state_id', 'state']].drop_duplicates()\n",
        "states.head() # check"
      ]
    },
    {
      "cell_type": "markdown",
      "metadata": {
        "id": "bANdkYFpgsUJ"
      },
      "source": [
        "Now we'll drop 'week_start' and 'state' from `covid_grouped` as those columns are redundant. The week start is just the 'date' column which we'll keep. And we have a 'state_id' column so we don't need the state name.\n",
        "\n",
        "`.drop()` is useful here."
      ]
    },
    {
      "cell_type": "code",
      "execution_count": 33,
      "metadata": {
        "id": "2ClK9mllLxR-"
      },
      "outputs": [
        {
          "data": {
            "text/html": [
              "<div>\n",
              "<style scoped>\n",
              "    .dataframe tbody tr th:only-of-type {\n",
              "        vertical-align: middle;\n",
              "    }\n",
              "\n",
              "    .dataframe tbody tr th {\n",
              "        vertical-align: top;\n",
              "    }\n",
              "\n",
              "    .dataframe thead th {\n",
              "        text-align: right;\n",
              "    }\n",
              "</style>\n",
              "<table border=\"1\" class=\"dataframe\">\n",
              "  <thead>\n",
              "    <tr style=\"text-align: right;\">\n",
              "      <th></th>\n",
              "      <th>date</th>\n",
              "      <th>weekly_cases</th>\n",
              "      <th>weekly_deaths</th>\n",
              "      <th>state_id</th>\n",
              "      <th>wk_st_id</th>\n",
              "    </tr>\n",
              "  </thead>\n",
              "  <tbody>\n",
              "    <tr>\n",
              "      <th>0</th>\n",
              "      <td>2020-03-16</td>\n",
              "      <td>19</td>\n",
              "      <td>0</td>\n",
              "      <td>0</td>\n",
              "      <td>020200316</td>\n",
              "    </tr>\n",
              "    <tr>\n",
              "      <th>1</th>\n",
              "      <td>2020-03-23</td>\n",
              "      <td>151</td>\n",
              "      <td>0</td>\n",
              "      <td>0</td>\n",
              "      <td>020200323</td>\n",
              "    </tr>\n",
              "    <tr>\n",
              "      <th>2</th>\n",
              "      <td>2020-03-30</td>\n",
              "      <td>707</td>\n",
              "      <td>11</td>\n",
              "      <td>0</td>\n",
              "      <td>020200330</td>\n",
              "    </tr>\n",
              "    <tr>\n",
              "      <th>3</th>\n",
              "      <td>2020-04-06</td>\n",
              "      <td>1048</td>\n",
              "      <td>42</td>\n",
              "      <td>0</td>\n",
              "      <td>020200406</td>\n",
              "    </tr>\n",
              "    <tr>\n",
              "      <th>4</th>\n",
              "      <td>2020-04-13</td>\n",
              "      <td>1797</td>\n",
              "      <td>51</td>\n",
              "      <td>0</td>\n",
              "      <td>020200413</td>\n",
              "    </tr>\n",
              "  </tbody>\n",
              "</table>\n",
              "</div>"
            ],
            "text/plain": [
              "        date  weekly_cases  weekly_deaths state_id   wk_st_id\n",
              "0 2020-03-16            19              0        0  020200316\n",
              "1 2020-03-23           151              0        0  020200323\n",
              "2 2020-03-30           707             11        0  020200330\n",
              "3 2020-04-06          1048             42        0  020200406\n",
              "4 2020-04-13          1797             51        0  020200413"
            ]
          },
          "execution_count": 33,
          "metadata": {},
          "output_type": "execute_result"
        }
      ],
      "source": [
        "# Drop columns\n",
        "covid_grouped = covid_grouped.drop(columns=['week_start', 'state'])\n",
        "covid_grouped.head()"
      ]
    },
    {
      "cell_type": "markdown",
      "metadata": {
        "id": "i2Ah2aLIpbkJ"
      },
      "source": [
        "## Pushing to our/your SQL database\n",
        "\n",
        "Alright, let's go and push our two tables to the database that we set up earlier in the week.\n",
        "\n",
        "Pushing data to a database has two steps.\n",
        "\n",
        "1. We define our table columns and the datatypes within in\n",
        "2. We upload data into the columns that we created\n",
        "3. We commit the changes\n",
        "\n",
        "Steps 1 and 2 are done using SQL syntax in a similar structure as we used to make queries. We'll write our commands and then execute them using a cursor just like before. Then we'll commit our changes and close our cursor."
      ]
    },
    {
      "cell_type": "markdown",
      "metadata": {
        "id": "IRnzVNEhfwqu"
      },
      "source": [
        "### Import SQL functions\n",
        "\n",
        "First, go and run the functions we've been using. **Update** the `get_conn_cur()` function so that it connects to your database!"
      ]
    },
    {
      "cell_type": "code",
      "execution_count": null,
      "metadata": {
        "id": "cL_VSnhjfKnu"
      },
      "outputs": [],
      "source": []
    },
    {
      "cell_type": "code",
      "execution_count": 34,
      "metadata": {
        "id": "yOx5P_uEqoiE"
      },
      "outputs": [],
      "source": [
        "#If you are using AWS, use this cell\n",
        "import psycopg2\n",
        "aws_host = \"test-hw-db.ctxkekv3vnim.us-east-2.rds.amazonaws.com\"\n",
        "def get_conn_cur():\n",
        " # UPDATE WITH YOUR INFO!\n",
        "\n",
        " conn = psycopg2.connect(\n",
        "    host=aws_host,\n",
        "    database=\"hw3_db\",\n",
        "    user=\"postgres\",\n",
        "    password=\"123456789\",\n",
        "    port='5432'\n",
        "    )\n",
        "\n",
        " cur = conn.cursor()\n",
        " return(conn, cur)"
      ]
    },
    {
      "cell_type": "code",
      "execution_count": null,
      "metadata": {
        "id": "bhQelKRsa3Sq"
      },
      "outputs": [],
      "source": [
        "#If you using local MySQL use this cell. (Note: if you are using local MySQL you must run this notebook on your local Jupyter, it won't work on Google Colab)\n",
        "import mysql.connector\n",
        "def get_conn_cur():\n",
        "    cnx = mysql.connector.connect(user='root', password='',\n",
        "          host='127.0.0.1',\n",
        "          database='YOUR DB NAME HERE');\n",
        "    return (cnx, cnx.cursor())"
      ]
    },
    {
      "cell_type": "code",
      "execution_count": 35,
      "metadata": {
        "id": "GMR4jkCueZnd"
      },
      "outputs": [],
      "source": [
        "# Run or old functions in case we want to check our data!\n",
        "\n",
        "# run_query function\n",
        "def run_query(query_string):\n",
        "\n",
        " conn, cur = get_conn_cur() # get connection and cursor\n",
        "\n",
        " cur.execute(query_string) # executing string as before\n",
        "\n",
        " my_data = cur.fetchall() # fetch query data as before\n",
        "\n",
        " # here we're extracting the 0th element for each item in cur.description\n",
        " colnames = [desc[0] for desc in cur.description]\n",
        "\n",
        " cur.close() # close\n",
        " conn.close() # close\n",
        "\n",
        " return(colnames, my_data) # return column names AND data\n",
        "\n",
        "# Column name function for checking out what's in a table\n",
        "def get_column_names(table_name): # arguement of table_name\n",
        " conn, cur = get_conn_cur() # get connection and cursor\n",
        "\n",
        " # Now select column names while inserting the table name into the WERE\n",
        " column_name_query = \"\"\"SELECT column_name FROM information_schema.columns\n",
        "    WHERE table_name = '%s' \"\"\" %table_name\n",
        "\n",
        " cur.execute(column_name_query) # exectue\n",
        " my_data = cur.fetchall() # store\n",
        "\n",
        " cur.close() # close\n",
        " conn.close() # close\n",
        "\n",
        " return(my_data) # return\n",
        "\n",
        "# Check table_names\n",
        "def get_table_names():\n",
        "  conn, cur = get_conn_cur() # get connection and cursor\n",
        "\n",
        "  # query to get table names\n",
        "  table_name_query = \"\"\"SELECT table_name FROM information_schema.tables\n",
        "       WHERE table_schema = 'public' \"\"\"\n",
        "\n",
        "  cur.execute(table_name_query) # execute\n",
        "  my_data = cur.fetchall() # fetch results\n",
        "\n",
        "  cur.close() #close cursor\n",
        "  conn.close() # close connection\n",
        "\n",
        "  return(my_data) # return your fetched results\n",
        "\n",
        "# make sql_head function\n",
        "def sql_head(table_name):\n",
        " conn, cur = get_conn_cur() # get connection and cursor\n",
        "\n",
        " # Now select column names while inserting the table name into the WERE\n",
        " head_query = \"\"\"SELECT * FROM %s LIMIT 5; \"\"\" %table_name\n",
        "\n",
        " cur.execute(head_query) # exectue\n",
        " colnames = [desc[0] for desc in cur.description] # get column names\n",
        " my_data = cur.fetchall() # store first five rows\n",
        "\n",
        " cur.close() # close\n",
        " conn.close() # close\n",
        "\n",
        " df = pd.DataFrame(data = my_data, columns = colnames) # make into df\n",
        "\n",
        " return(df) # return\n",
        "\n",
        "# drop a table from your rdb (if you try to create a table that already exists, it'll throw an error)\n",
        "def my_drop_table(tab_name):\n",
        "  conn, cur = get_conn_cur()\n",
        "  tq = \"\"\"DROP TABLE IF EXISTS %s CASCADE;\"\"\" %tab_name\n",
        "  cur.execute(tq)\n",
        "  conn.commit()"
      ]
    },
    {
      "cell_type": "markdown",
      "metadata": {
        "id": "lNpGP1VYhPOK"
      },
      "source": [
        "## Create weekly table in database\n",
        "\n",
        "Let's go and make a table called 'weekly' that we'll insert our main 'covid_grouped' dataset into'\n",
        "\n",
        "The main call to make a table is `CREATE TABLE new_table_name ()`. Inside the parentheses you then give it your column name, your datatype, and if you can have null values in there. We want to make five columns. The first one we want to be our 'wk_st_id' which we'll set as an integer and a primary key.\n",
        "\n",
        "I've written the query for you.\n",
        "\n",
        "**NOTE** - `VARCHAR(255)` is the way to specify a character column. Inside the parentheses is the max length allowed. 'state_id' doesn't need to be a character, but I specified it as one to demonstrate some variety. It's also how we already had the datatype specified in our 'covid_grouped' dataframe. We could specify the column as an integer but then we'd have to also change 'state_id' in 'covid_grouped' to an integer so the datatypes being pushed match."
      ]
    },
    {
      "cell_type": "code",
      "execution_count": 36,
      "metadata": {
        "id": "7HXGEgk8hR-7"
      },
      "outputs": [],
      "source": [
        "# drop the table if it already exists (uncomment)\n",
        "# my_drop_table('weekly_stats')\n",
        "\n",
        "# query with wk_st_id as an integer and primary key\n",
        "# date as a timestamp\n",
        "# cases and deaths as intergers\n",
        "# state_id as characters\n",
        "tq = \"\"\"CREATE TABLE weekly_stats (\n",
        "     wk_st_id INT PRIMARY KEY,\n",
        "     date timestamp NOT NULL ,\n",
        "     weekly_cases BIGINT NOT NULL,\n",
        "     weekly_deaths BIGINT NOT NULL,\n",
        "     state_id BIGINT NOT NULL\n",
        "     );\"\"\""
      ]
    },
    {
      "cell_type": "markdown",
      "metadata": {
        "id": "yYPHdIkevWm-"
      },
      "source": [
        "Now that we have that let's get a connection and cursor object"
      ]
    },
    {
      "cell_type": "code",
      "execution_count": 37,
      "metadata": {
        "id": "tJVkBmFhjD_r"
      },
      "outputs": [],
      "source": [
        "# Get our connection and cursor and assign to conn and cur\n",
        "conn, cur = get_conn_cur()\n"
      ]
    },
    {
      "cell_type": "markdown",
      "metadata": {
        "id": "swWdW24Ovfmo"
      },
      "source": [
        "To create the table we can just execute the query using `cur.execute()`."
      ]
    },
    {
      "cell_type": "code",
      "execution_count": 38,
      "metadata": {
        "id": "r_c5RGs1jIt5"
      },
      "outputs": [],
      "source": [
        "# execute our query we wrote above\n",
        "cur.execute(tq)"
      ]
    },
    {
      "cell_type": "markdown",
      "metadata": {
        "id": "sy4lPfVTvslH"
      },
      "source": [
        "And finally just commit the table. Doing so just finalizes everything you did and will make it accessable to other users."
      ]
    },
    {
      "cell_type": "code",
      "execution_count": 39,
      "metadata": {
        "id": "l4KsIlnajURe"
      },
      "outputs": [],
      "source": [
        "# commit\n",
        "conn.commit()"
      ]
    },
    {
      "cell_type": "markdown",
      "metadata": {
        "id": "mwoohk_ywEIM"
      },
      "source": [
        "Let's check that our table name and column names are in there using the functions we made in previous lessons."
      ]
    },
    {
      "cell_type": "code",
      "execution_count": 40,
      "metadata": {
        "id": "OQFKS6FajQlQ"
      },
      "outputs": [
        {
          "data": {
            "text/plain": [
              "[('weekly_stats',)]"
            ]
          },
          "execution_count": 40,
          "metadata": {},
          "output_type": "execute_result"
        }
      ],
      "source": [
        "# Is the table there?\n",
        "get_table_names()"
      ]
    },
    {
      "cell_type": "code",
      "execution_count": 41,
      "metadata": {
        "id": "e6I51tdcjXVU"
      },
      "outputs": [
        {
          "data": {
            "text/plain": [
              "[('wk_st_id',),\n",
              " ('date',),\n",
              " ('weekly_cases',),\n",
              " ('weekly_deaths',),\n",
              " ('state_id',)]"
            ]
          },
          "execution_count": 41,
          "metadata": {},
          "output_type": "execute_result"
        }
      ],
      "source": [
        "# All of our column names?\n",
        "get_column_names(table_name='weekly_stats')"
      ]
    },
    {
      "cell_type": "markdown",
      "metadata": {
        "id": "mbG0djKZwT2a"
      },
      "source": [
        "### Updating our table\n",
        "\n",
        "I actually made a mistake above. I said the primary key should be an integer, but actually it needs to be something called a big interger. This is because regular integers can only store values between -2147483648 and +2147483647. Our current wk_st_id values get larger than that. So, we need to change the datatype of that column!\n",
        "\n",
        "To do this, or change any datatype for that matter, we write another query. In this case, the main arguments are ALTER TABLE and ALTER COLUMN. The first just points to the table in the database, the second the column in that database. Then you just tell it what datatype you want to use. the general format is as follows:\n",
        "\n",
        "```\n",
        "ALTER TABLE table_name\n",
        " ALTER COLUMN column_to_update TYPE datatype_to_use\n",
        "```\n",
        "\n",
        "I've written the query below. We'll create a cursor and commit everything in one go just like above."
      ]
    },
    {
      "cell_type": "code",
      "execution_count": 42,
      "metadata": {
        "id": "lmd9mg9VwQ5J"
      },
      "outputs": [],
      "source": [
        "conn, cur = get_conn_cur()\n",
        "cur = conn.cursor()\n",
        "uq = \"\"\"ALTER TABLE weekly_stats\n",
        "     ALTER COLUMN wk_st_id TYPE BIGINT;\"\"\"\n",
        "cur.execute(uq)\n",
        "conn.commit()"
      ]
    },
    {
      "cell_type": "markdown",
      "metadata": {
        "id": "ND85NyTnx2rh"
      },
      "source": [
        "We can run a quick query to get the datatypes. Remember how we called the 'information_schema' before to get column names? We can also get the data types by selecting that information."
      ]
    },
    {
      "cell_type": "code",
      "execution_count": 43,
      "metadata": {
        "id": "XCX-l8HXyB55"
      },
      "outputs": [
        {
          "name": "stdout",
          "output_type": "stream",
          "text": [
            "[('wk_st_id', 'bigint'), ('date', 'timestamp without time zone'), ('weekly_cases', 'bigint'), ('weekly_deaths', 'bigint'), ('state_id', 'bigint')]\n"
          ]
        }
      ],
      "source": [
        "conn, cur = get_conn_cur()\n",
        "cur = conn.cursor()\n",
        "uq = \"\"\"SELECT column_name, data_type\n",
        "     FROM information_schema.columns\n",
        "     WHERE table_name = 'weekly_stats';\"\"\"\n",
        "cur.execute(uq)\n",
        "print(cur.fetchall())\n",
        "conn.close()"
      ]
    },
    {
      "cell_type": "markdown",
      "metadata": {
        "id": "IBrVCN4l0T7n"
      },
      "source": [
        "Great, we can see all of our column names and corresponding datatypes. We can see that 'wk_st_id' is now a 'bigint.' This brings up an important point when designing a database. You need to be sure to make your columns are big enough to store approved values now, but also in the future."
      ]
    },
    {
      "cell_type": "markdown",
      "metadata": {
        "id": "FRcj0loX0ksb"
      },
      "source": [
        "## Make states table\n",
        "\n",
        "Can you go and make a second table called 'states'? We're going to want to take that 'states' dataframe and add it to our database. This one should have only two columns, both with character datatypes like above. The primary key should be 'state_id'"
      ]
    },
    {
      "cell_type": "code",
      "execution_count": null,
      "metadata": {
        "id": "N4WActB00-Qj"
      },
      "outputs": [],
      "source": [
        "states.head()"
      ]
    },
    {
      "cell_type": "code",
      "execution_count": 44,
      "metadata": {
        "id": "bxqtaq5f079e"
      },
      "outputs": [],
      "source": [
        "# Make your states table\n",
        "conn, cur = get_conn_cur()\n",
        "cur = conn.cursor()\n",
        "tq = \"\"\"CREATE TABLE states (\n",
        "     state_id BIGINT PRIMARY KEY,\n",
        "     state VARCHAR(255) NOT NULL\n",
        "     );\"\"\"\n",
        "cur.execute(tq)\n",
        "conn.commit()\n",
        "conn.close()"
      ]
    },
    {
      "cell_type": "code",
      "execution_count": 45,
      "metadata": {
        "id": "d680EFe_1WoQ"
      },
      "outputs": [
        {
          "data": {
            "text/plain": [
              "[('weekly_stats',), ('states',)]"
            ]
          },
          "execution_count": 45,
          "metadata": {},
          "output_type": "execute_result"
        }
      ],
      "source": [
        "# check that the table is tere\n",
        "get_table_names()"
      ]
    },
    {
      "cell_type": "code",
      "execution_count": 46,
      "metadata": {
        "id": "I8bs01A01a3-"
      },
      "outputs": [
        {
          "data": {
            "text/html": [
              "<div>\n",
              "<style scoped>\n",
              "    .dataframe tbody tr th:only-of-type {\n",
              "        vertical-align: middle;\n",
              "    }\n",
              "\n",
              "    .dataframe tbody tr th {\n",
              "        vertical-align: top;\n",
              "    }\n",
              "\n",
              "    .dataframe thead th {\n",
              "        text-align: right;\n",
              "    }\n",
              "</style>\n",
              "<table border=\"1\" class=\"dataframe\">\n",
              "  <thead>\n",
              "    <tr style=\"text-align: right;\">\n",
              "      <th></th>\n",
              "      <th>state_id</th>\n",
              "      <th>state</th>\n",
              "    </tr>\n",
              "  </thead>\n",
              "  <tbody>\n",
              "  </tbody>\n",
              "</table>\n",
              "</div>"
            ],
            "text/plain": [
              "Empty DataFrame\n",
              "Columns: [state_id, state]\n",
              "Index: []"
            ]
          },
          "execution_count": 46,
          "metadata": {},
          "output_type": "execute_result"
        }
      ],
      "source": [
        "# Check that the column names are there\n",
        "get_column_names(table_name='states')\n",
        "sql_head('states')"
      ]
    },
    {
      "cell_type": "code",
      "execution_count": 47,
      "metadata": {
        "id": "4N288c6_1kvW"
      },
      "outputs": [
        {
          "name": "stdout",
          "output_type": "stream",
          "text": [
            "[('state_id', 'bigint'), ('state', 'character varying')]\n"
          ]
        }
      ],
      "source": [
        "# Might as well check the datatypes\n",
        "conn, cur = get_conn_cur()\n",
        "cur = conn.cursor()\n",
        "uq = \"\"\"SELECT column_name, data_type\n",
        "     FROM information_schema.columns\n",
        "     WHERE table_name = 'states';\"\"\"\n",
        "cur.execute(uq)\n",
        "print(cur.fetchall())\n",
        "conn.close()"
      ]
    },
    {
      "cell_type": "markdown",
      "metadata": {
        "id": "4FUvTOAr2gMN"
      },
      "source": [
        "## Putting information in the database\n",
        "\n",
        "Now we have a couple empty tables sitting in our database waiting for data. As you can imagine, the general process is an extension of what we did above. We write a query that specifies the table and columns we want to insert data into, and then what data we want to put in there.\n",
        "\n",
        "The main argument to do this is INSERT into followed by VALUES. The generalized string format is:\n",
        "\n",
        "```\n",
        "\"INSERT INTO table_name(column_names) VALUES (values_for_each_column)\"\n",
        "```\n",
        "\n",
        "This process is typically done row-wise meaning you insert one row at a time. For example, this string would add just a single row of data into our 'weekly_stats' table:\n",
        "\n",
        "```\n",
        "\"INSERT INTO weekly_stats(wk_st_id,date,weekly_cases,weekly_deaths,state_id\n",
        " VALUES(0020200316, 2020-03-16 00:00:00, 19, 0, 00)\"\n",
        "```\n",
        "\n",
        "**OK, but does this mean we have to write and execute a query for each and every row in our dataframe?** No, of course not. While you could update it a single row at a time using `cur.execute()` and loop through every row of your dataset, that would be super slow as you'd be generating a cursor, executing, and closing each and every time.\n",
        "\n",
        "Instead you can use `cur.executemany()`. This allows you to, well, execute many actions at once. It is a bit more involved in the string you'll have to write as you'll have to use string formatting (`%s`) to generate the string for each row. But, this is simpler and MUCH MUCH faster than using a loop with single operations.\n",
        "\n",
        "There are some other bits to make this work, but we'll cover them as we go. Let's get started!"
      ]
    },
    {
      "cell_type": "markdown",
      "metadata": {
        "id": "OEY-gwvm5qyE"
      },
      "source": [
        "First, we need to reorder our columns in the dataframe to match the column order of the database."
      ]
    },
    {
      "cell_type": "code",
      "execution_count": 48,
      "metadata": {
        "id": "UnOa3j585vhS"
      },
      "outputs": [
        {
          "data": {
            "text/plain": [
              "[('wk_st_id',),\n",
              " ('date',),\n",
              " ('weekly_cases',),\n",
              " ('weekly_deaths',),\n",
              " ('state_id',)]"
            ]
          },
          "execution_count": 48,
          "metadata": {},
          "output_type": "execute_result"
        }
      ],
      "source": [
        "# What's the order of our weekly_stats column?\n",
        "get_column_names(table_name='weekly_stats')"
      ]
    },
    {
      "cell_type": "code",
      "execution_count": 49,
      "metadata": {
        "id": "tpPYmBbcjkzU"
      },
      "outputs": [
        {
          "data": {
            "text/html": [
              "<div>\n",
              "<style scoped>\n",
              "    .dataframe tbody tr th:only-of-type {\n",
              "        vertical-align: middle;\n",
              "    }\n",
              "\n",
              "    .dataframe tbody tr th {\n",
              "        vertical-align: top;\n",
              "    }\n",
              "\n",
              "    .dataframe thead th {\n",
              "        text-align: right;\n",
              "    }\n",
              "</style>\n",
              "<table border=\"1\" class=\"dataframe\">\n",
              "  <thead>\n",
              "    <tr style=\"text-align: right;\">\n",
              "      <th></th>\n",
              "      <th>wk_st_id</th>\n",
              "      <th>date</th>\n",
              "      <th>weekly_cases</th>\n",
              "      <th>weekly_deaths</th>\n",
              "      <th>state_id</th>\n",
              "    </tr>\n",
              "  </thead>\n",
              "  <tbody>\n",
              "    <tr>\n",
              "      <th>0</th>\n",
              "      <td>020200316</td>\n",
              "      <td>2020-03-16</td>\n",
              "      <td>19</td>\n",
              "      <td>0</td>\n",
              "      <td>0</td>\n",
              "    </tr>\n",
              "    <tr>\n",
              "      <th>1</th>\n",
              "      <td>020200323</td>\n",
              "      <td>2020-03-23</td>\n",
              "      <td>151</td>\n",
              "      <td>0</td>\n",
              "      <td>0</td>\n",
              "    </tr>\n",
              "    <tr>\n",
              "      <th>2</th>\n",
              "      <td>020200330</td>\n",
              "      <td>2020-03-30</td>\n",
              "      <td>707</td>\n",
              "      <td>11</td>\n",
              "      <td>0</td>\n",
              "    </tr>\n",
              "    <tr>\n",
              "      <th>3</th>\n",
              "      <td>020200406</td>\n",
              "      <td>2020-04-06</td>\n",
              "      <td>1048</td>\n",
              "      <td>42</td>\n",
              "      <td>0</td>\n",
              "    </tr>\n",
              "    <tr>\n",
              "      <th>4</th>\n",
              "      <td>020200413</td>\n",
              "      <td>2020-04-13</td>\n",
              "      <td>1797</td>\n",
              "      <td>51</td>\n",
              "      <td>0</td>\n",
              "    </tr>\n",
              "  </tbody>\n",
              "</table>\n",
              "</div>"
            ],
            "text/plain": [
              "    wk_st_id       date  weekly_cases  weekly_deaths state_id\n",
              "0  020200316 2020-03-16            19              0        0\n",
              "1  020200323 2020-03-23           151              0        0\n",
              "2  020200330 2020-03-30           707             11        0\n",
              "3  020200406 2020-04-06          1048             42        0\n",
              "4  020200413 2020-04-13          1797             51        0"
            ]
          },
          "execution_count": 49,
          "metadata": {},
          "output_type": "execute_result"
        }
      ],
      "source": [
        "# Reorder covid_grouped to match\n",
        "covid_grouped = covid_grouped[['wk_st_id', 'date', 'weekly_cases', 'weekly_deaths', 'state_id']]\n",
        "covid_grouped.head()"
      ]
    },
    {
      "cell_type": "markdown",
      "metadata": {
        "id": "LcXTpE_o5-ni"
      },
      "source": [
        "OK, first think to point out. SQL wants to receive the data as a tuple. Each row of ours is currently a row in a dataframe. So we need to convert each row to a tuple. We can use numpy to do this. Below I write a list comprehension to do this. List comprehensions are essentially simplified for loops.\n",
        "\n",
        "The first part is the action. It's saying 'make a tuple with x'. The second part is just saying the variable name in the sequence. The third part is the list of data. In this case we're making a list of data by converting our dataframe to a numpy array. Play around making a cell and running `covid_grouped.to_numpy()` if you want to see more specifically what this is doing. I'm going to just run the list comprehension for now."
      ]
    },
    {
      "cell_type": "code",
      "execution_count": 50,
      "metadata": {
        "id": "f4XoGuBCf5we"
      },
      "outputs": [],
      "source": [
        "import numpy as np\n",
        "\n",
        "covid_np = covid_grouped.to_numpy();\n",
        "#Mysql does not understand the timestamp from python so we can convert the timestamp to string.\n",
        "covid_np[:,1] = np.vectorize(lambda x: str(x))(covid_np[:,1])\n",
        "data_tups = [tuple(x) for x in covid_np]\n"
      ]
    },
    {
      "cell_type": "markdown",
      "metadata": {
        "id": "K-fbhcpj7Tl2"
      },
      "source": [
        "What's in `data_tups`? Let's look at the 3rd position."
      ]
    },
    {
      "cell_type": "code",
      "execution_count": 51,
      "metadata": {
        "id": "XdIPyIwelTbn"
      },
      "outputs": [
        {
          "data": {
            "text/plain": [
              "('020200330', '2020-03-30 00:00:00', 707, 11, '0')"
            ]
          },
          "execution_count": 51,
          "metadata": {},
          "output_type": "execute_result"
        }
      ],
      "source": [
        "# Check out an example\n",
        "data_tups[2]"
      ]
    },
    {
      "cell_type": "markdown",
      "metadata": {
        "id": "OR5mZaZC7e5r"
      },
      "source": [
        "Great, so now that's in a format that's ready for VALUES part of our INSERT string. Now we can write our insert string that will take those values.\n",
        "\n",
        "Remember from before that %s allows you to insert a value into a string. So if we did something like `'I need %s points to pass' % points_needed` it would insert whatever 'points_needed' is defined as into that string."
      ]
    },
    {
      "cell_type": "code",
      "execution_count": 52,
      "metadata": {
        "id": "ZkabmU7R7eav"
      },
      "outputs": [
        {
          "data": {
            "text/plain": [
              "'I need 20 points to pass'"
            ]
          },
          "execution_count": 52,
          "metadata": {},
          "output_type": "execute_result"
        }
      ],
      "source": [
        "# and example\n",
        "points_needed = 20\n",
        "'I need %s points to pass' % points_needed"
      ]
    },
    {
      "cell_type": "markdown",
      "metadata": {
        "id": "IzGucyz19nSH"
      },
      "source": [
        "What we need to do for our query is insert one of our tuples from 'data_tups' into VALUES. WE have five values in each tuple, so we need to just write '%s inside that string five times. Let's write our insert string."
      ]
    },
    {
      "cell_type": "code",
      "execution_count": 53,
      "metadata": {
        "id": "0IJ-OYeZgxXx"
      },
      "outputs": [
        {
          "data": {
            "text/plain": [
              "'INSERT INTO weekly_stats(wk_st_id,date,weekly_cases,weekly_deaths,state_id) VALUES(%s, %s, %s, %s, %s);'"
            ]
          },
          "execution_count": 53,
          "metadata": {},
          "output_type": "execute_result"
        }
      ],
      "source": [
        "iq = \"\"\"INSERT INTO weekly_stats(wk_st_id,date,weekly_cases,weekly_deaths,state_id) VALUES(%s, %s, %s, %s, %s);\"\"\"\n",
        "iq"
      ]
    },
    {
      "cell_type": "markdown",
      "metadata": {
        "id": "PrsM7GmG-D-g"
      },
      "source": [
        "You can test if it's working by trying to add a tuple to your insert string."
      ]
    },
    {
      "cell_type": "code",
      "execution_count": 54,
      "metadata": {
        "id": "mLIO1aDwmBYU"
      },
      "outputs": [
        {
          "data": {
            "text/plain": [
              "'INSERT INTO weekly_stats(wk_st_id,date,weekly_cases,weekly_deaths,state_id) VALUES(020200413, 2020-04-13 00:00:00, 1797, 51, 0);'"
            ]
          },
          "execution_count": 54,
          "metadata": {},
          "output_type": "execute_result"
        }
      ],
      "source": [
        "# Does it work?\n",
        "iq % data_tups[4]"
      ]
    },
    {
      "cell_type": "markdown",
      "metadata": {
        "id": "QJ4evTb8-Nuz"
      },
      "source": [
        "### Finally pushing data to the database\n",
        "\n",
        "Now we can finally use `executemany() to push our database. This'll take two arguments. The first is the query string, the section is our tuples. It'll go and make an insert string for each and every tuple and therefore insert each row. We still need to open a connection, make a cursor, close, and commit.\n",
        "\n",
        "**NOTE** this will take a minute or so!"
      ]
    },
    {
      "cell_type": "code",
      "execution_count": 55,
      "metadata": {
        "id": "7pkhXYuZkbk5"
      },
      "outputs": [],
      "source": [
        "# Upload data\n",
        "conn, cur = get_conn_cur()\n",
        "cur.executemany(iq, data_tups)\n",
        "conn.commit()\n",
        "conn.close()"
      ]
    },
    {
      "cell_type": "markdown",
      "metadata": {
        "id": "BRoOz_dn-sT-"
      },
      "source": [
        "Let's give it a check with a simple query"
      ]
    },
    {
      "cell_type": "code",
      "execution_count": 56,
      "metadata": {
        "id": "tE9jjalHqPuQ"
      },
      "outputs": [
        {
          "data": {
            "text/plain": [
              "(['count'], [(1770,)])"
            ]
          },
          "execution_count": 56,
          "metadata": {},
          "output_type": "execute_result"
        }
      ],
      "source": [
        "sq = \"\"\" SELECT COUNT(DISTINCT(wk_st_id)) FROM weekly_stats\n",
        "     LIMIT 5;\"\"\"\n",
        "run_query(sq)"
      ]
    },
    {
      "cell_type": "markdown",
      "metadata": {
        "id": "MUMozTaSADlx"
      },
      "source": [
        "**SUCCESS**"
      ]
    },
    {
      "cell_type": "markdown",
      "metadata": {
        "id": "1G_eEaAvAB23"
      },
      "source": [
        "### Add data to states table\n",
        "\n",
        "Wonderful! Can you now go and populate the 'states' table?\n",
        "\n",
        "You'll need to make tuples and modify the insert statement to take only two arguments along with the proper table name and column names"
      ]
    },
    {
      "cell_type": "code",
      "execution_count": 63,
      "metadata": {
        "id": "AhBhhkn9AVo0"
      },
      "outputs": [
        {
          "data": {
            "text/plain": [
              "[(0, 'Alabama'),\n",
              " (1, 'Alaska'),\n",
              " (2, 'Arizona'),\n",
              " (3, 'Arkansas'),\n",
              " (4, 'California'),\n",
              " (5, 'Colorado'),\n",
              " (6, 'Connecticut'),\n",
              " (7, 'Delaware'),\n",
              " (8, 'District of Columbia'),\n",
              " (9, 'Florida'),\n",
              " (10, 'Georgia'),\n",
              " (11, 'Hawaii'),\n",
              " (12, 'Idaho'),\n",
              " (13, 'Illinois'),\n",
              " (14, 'Indiana'),\n",
              " (15, 'Iowa'),\n",
              " (16, 'Kansas'),\n",
              " (17, 'Kentucky'),\n",
              " (18, 'Louisiana'),\n",
              " (19, 'Maine'),\n",
              " (20, 'Maryland'),\n",
              " (21, 'Massachusetts'),\n",
              " (22, 'Michigan'),\n",
              " (23, 'Minnesota'),\n",
              " (24, 'Mississippi'),\n",
              " (25, 'Missouri'),\n",
              " (26, 'Montana'),\n",
              " (27, 'Nebraska'),\n",
              " (28, 'Nevada'),\n",
              " (29, 'New Hampshire'),\n",
              " (30, 'New Jersey'),\n",
              " (31, 'New Mexico'),\n",
              " (32, 'New York'),\n",
              " (33, 'North Carolina'),\n",
              " (34, 'North Dakota'),\n",
              " (35, 'Northern Mariana Islands'),\n",
              " (36, 'Ohio'),\n",
              " (37, 'Oklahoma'),\n",
              " (38, 'Oregon'),\n",
              " (39, 'Pennsylvania'),\n",
              " (40, 'Puerto Rico'),\n",
              " (41, 'Rhode Island'),\n",
              " (42, 'South Carolina'),\n",
              " (43, 'South Dakota'),\n",
              " (44, 'Tennessee'),\n",
              " (45, 'Texas'),\n",
              " (46, 'Utah'),\n",
              " (47, 'Vermont'),\n",
              " (48, 'Virgin Islands'),\n",
              " (49, 'Virginia'),\n",
              " (50, 'Washington'),\n",
              " (51, 'West Virginia'),\n",
              " (52, 'Wisconsin'),\n",
              " (53, 'Wyoming')]"
            ]
          },
          "execution_count": 63,
          "metadata": {},
          "output_type": "execute_result"
        }
      ],
      "source": [
        "import numpy as np\n",
        "states_np = states.to_numpy()\n",
        "states_np[:,0] = np.vectorize(lambda x: int(x))(states_np[:,0])\n",
        "state_tup = [tuple(x) for x in states_np]\n",
        "state_tup"
      ]
    },
    {
      "cell_type": "code",
      "execution_count": 58,
      "metadata": {
        "id": "0RO8GO2cAd2A"
      },
      "outputs": [
        {
          "data": {
            "text/plain": [
              "[('state_id',), ('state',)]"
            ]
          },
          "execution_count": 58,
          "metadata": {},
          "output_type": "execute_result"
        }
      ],
      "source": [
        "get_column_names(table_name='states')"
      ]
    },
    {
      "cell_type": "code",
      "execution_count": 65,
      "metadata": {
        "id": "775P2OKpAlOZ"
      },
      "outputs": [],
      "source": [
        "# new insert query\n",
        "iq = \"\"\"INSERT INTO states(state_id, state) VALUES (%s,%s);\"\"\""
      ]
    },
    {
      "cell_type": "code",
      "execution_count": 66,
      "metadata": {
        "id": "tiDQzrOtAW9T"
      },
      "outputs": [],
      "source": [
        "# Upload data\n",
        "conn,cur = get_conn_cur()\n",
        "cur.executemany(iq,state_tup)\n",
        "conn.commit()\n",
        "conn.close()"
      ]
    },
    {
      "cell_type": "markdown",
      "metadata": {
        "id": "hnVrRQeXq1i6"
      },
      "source": [
        "## Run some test queries!"
      ]
    },
    {
      "cell_type": "code",
      "execution_count": 67,
      "metadata": {
        "id": "5qfG7_yAmnqT"
      },
      "outputs": [
        {
          "data": {
            "text/plain": [
              "(['state_id', 'state'],\n",
              " [(0, 'Alabama'),\n",
              "  (1, 'Alaska'),\n",
              "  (2, 'Arizona'),\n",
              "  (3, 'Arkansas'),\n",
              "  (4, 'California')])"
            ]
          },
          "execution_count": 67,
          "metadata": {},
          "output_type": "execute_result"
        }
      ],
      "source": [
        "# Test query to look at the first five rows of states\n",
        "sq = \"\"\" SELECT * FROM states\n",
        "     LIMIT 5;\"\"\"\n",
        "run_query(sq)"
      ]
    },
    {
      "cell_type": "code",
      "execution_count": 68,
      "metadata": {
        "id": "6AlVln5PoTKX"
      },
      "outputs": [
        {
          "data": {
            "text/plain": [
              "(['wk_st_id', 'date', 'weekly_cases', 'weekly_deaths', 'state_id'],\n",
              " [(20200316, datetime.datetime(2020, 3, 16, 0, 0), 19, 0, 0),\n",
              "  (20200323, datetime.datetime(2020, 3, 23, 0, 0), 151, 0, 0),\n",
              "  (20200330, datetime.datetime(2020, 3, 30, 0, 0), 707, 11, 0),\n",
              "  (20200406, datetime.datetime(2020, 4, 6, 0, 0), 1048, 42, 0),\n",
              "  (20200413, datetime.datetime(2020, 4, 13, 0, 0), 1797, 51, 0)])"
            ]
          },
          "execution_count": 68,
          "metadata": {},
          "output_type": "execute_result"
        }
      ],
      "source": [
        "# And weekly_stats\n",
        "sq = \"\"\" SELECT * FROM weekly_stats\n",
        "     LIMIT 5;\"\"\"\n",
        "run_query(sq)"
      ]
    },
    {
      "cell_type": "code",
      "execution_count": 107,
      "metadata": {},
      "outputs": [
        {
          "data": {
            "text/plain": [
              "(['count'], [(1770,)])"
            ]
          },
          "execution_count": 107,
          "metadata": {},
          "output_type": "execute_result"
        }
      ],
      "source": [
        "sql = \"\"\"SELECT count(DISTINCT(wk_st_id)) as count FROM weekly_stats;\"\"\"\n",
        "run_query(sql)"
      ]
    },
    {
      "cell_type": "code",
      "execution_count": 104,
      "metadata": {
        "id": "O-ptbT6eCHkp"
      },
      "outputs": [
        {
          "data": {
            "text/plain": [
              "(['wk_st_id', 'date', 'weekly_cases', 'weekly_deaths', 'state_id'],\n",
              " [(220200127, datetime.datetime(2020, 1, 27, 0, 0), 0, 0, 2),\n",
              "  (220200203, datetime.datetime(2020, 2, 3, 0, 0), 0, 0, 2),\n",
              "  (220200210, datetime.datetime(2020, 2, 10, 0, 0), 0, 0, 2),\n",
              "  (220200217, datetime.datetime(2020, 2, 17, 0, 0), 0, 0, 2),\n",
              "  (220200224, datetime.datetime(2020, 2, 24, 0, 0), 0, 0, 2)])"
            ]
          },
          "execution_count": 104,
          "metadata": {},
          "output_type": "execute_result"
        }
      ],
      "source": [
        "\n",
        "# Do a subquery getting just weekly stats where the state is 'Arizona'\n",
        "sq = \"\"\" SELECT * FROM weekly_stats\n",
        "     WHERE state_id = (SELECT state_id FROM states WHERE state = 'Arizona')\n",
        "     LIMIT 5;\"\"\"\n",
        "run_query(sq)"
      ]
    },
    {
      "cell_type": "code",
      "execution_count": 103,
      "metadata": {},
      "outputs": [
        {
          "data": {
            "text/plain": [
              "[]"
            ]
          },
          "execution_count": 103,
          "metadata": {},
          "output_type": "execute_result"
        }
      ],
      "source": [
        "get_column_names(table_name='weekly_states')"
      ]
    }
  ],
  "metadata": {
    "colab": {
      "include_colab_link": true,
      "provenance": []
    },
    "kernelspec": {
      "display_name": "Python 3",
      "name": "python3"
    },
    "language_info": {
      "codemirror_mode": {
        "name": "ipython",
        "version": 3
      },
      "file_extension": ".py",
      "mimetype": "text/x-python",
      "name": "python",
      "nbconvert_exporter": "python",
      "pygments_lexer": "ipython3",
      "version": "3.11.0"
    }
  },
  "nbformat": 4,
  "nbformat_minor": 0
}
