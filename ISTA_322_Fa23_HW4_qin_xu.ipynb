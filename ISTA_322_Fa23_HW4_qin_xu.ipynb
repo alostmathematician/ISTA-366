{
  "cells": [
    {
      "cell_type": "markdown",
      "metadata": {
        "colab_type": "text",
        "id": "view-in-github"
      },
      "source": [
        "<a href=\"https://colab.research.google.com/github/alostmathematician/ISTA-366/blob/main/HW4_ISTA_322_Data_into_databases_blank.ipynb\" target=\"_parent\"><img src=\"https://colab.research.google.com/assets/colab-badge.svg\" alt=\"Open In Colab\"/></a>"
      ]
    },
    {
      "cell_type": "markdown",
      "metadata": {
        "id": "PIVONmeB6R-W"
      },
      "source": [
        "# HW 4 - Building a normalized RDB\n",
        "\n",
        "The goal of this homework is to take a semi-structured non-normalized CSV file and turn it into a set of normalized tables that you then push to your postgres database on AWS.\n",
        "\n",
        "The original dataset contains 100k district court decisions, although I've downsampled it to only 1000 rows to make the uploads faster. Each row contains info about a judge, their demographics, party affiliation, etc. Rows also contain information about the case they were deciding on. Was it a criminal or civil case? What year was it? Was the direction of the decision liberal or conservative?\n",
        "\n",
        "While the current denormalized format is fine for analysis, it's not fine for a database as it violates many normalization rules. Your goal is to normalize it by designing a simple schema, then wrangling it into the proper dataframes, then pushing it all to AWS.\n",
        "\n",
        "For the first part of this assignment you should wind up with three tables. One with case information, one with judge information, and one that has casetype information. Each table should be reduced so that there are not then repeating rows, and primary keys should be assigned within each. These tables should be called 'cases', 'judges', and 'casetype'.\n",
        "\n",
        "For the last part you should make a rollup table that calculates the percent of liberal decisions for each party level and each case category. This will allow for one to get a quick look at how the political party affiliation of judges impacts the direction of a decision for different case categories (e.g. criminal, civil, labor)."
      ]
    },
    {
      "cell_type": "markdown",
      "metadata": {
        "id": "rfsXUUUU5k1w"
      },
      "source": [
        "**Submission**\n",
        "1) Run all cells.\n",
        "2) Create a directory with your name.\n",
        "3) Create a pdf copy of your notebook.\n",
        "4) Download .py and .ipynb of the notebook.\n",
        "5) Put all three files in it.\n",
        "6) Zip and submit."
      ]
    },
    {
      "cell_type": "markdown",
      "metadata": {
        "id": "_jWNnlFk-vrU"
      },
      "source": [
        "## Q1 Bring in data, explore, make schema - 3 point\n",
        "\n",
        "Start by bringing in your data to `cases`. Call a `.head()` on it to see what columns are there and what they contain."
      ]
    },
    {
      "cell_type": "code",
      "execution_count": null,
      "metadata": {
        "id": "GlsBOmibKzFV"
      },
      "outputs": [],
      "source": [
        "## Q1 Your code starts here\n",
        "import pandas as pd\n",
        "cases = pd.read_csv('https://docs.google.com/spreadsheets/d/1AWLK06JOlSKImgoHNTbj7oXR5mRfsL2WWeQF6ofMq1g/gviz/tq?tqx=out:csv')"
      ]
    },
    {
      "cell_type": "code",
      "execution_count": null,
      "metadata": {
        "id": "UQS-dq--K31L"
      },
      "outputs": [],
      "source": [
        "# head of cases\n",
        "...\n",
        "## Q1 Your function ends here - Any code outside of these start/end markers won't be graded"
      ]
    },
    {
      "cell_type": "markdown",
      "metadata": {
        "id": "ZxZrpJn7AoBV"
      },
      "source": [
        "### Make schema\n",
        "\n",
        "OK, given that head, you need to make three related tables that will make up a normalized database. Those tables are 'cases', 'judges', and 'casetype'. If it's not clear what info should go into each, explore the data more.\n",
        "\n",
        "*For each of the tables you create, keep the original column names from the imported cases file above. I'll be using these to test your tables, so if they don't match I won't be able to test them and you'll lose points*\n",
        "\n",
        "Remember, you might not have keys, will need to reduce the rows, select certain columns, etc. There isn't a defined path here.\n",
        "\n",
        "***Include an image file of your schema in your zip file in order to get the 3 points***"
      ]
    },
    {
      "cell_type": "markdown",
      "metadata": {
        "id": "owGhO5VuA-Tw"
      },
      "source": [
        "## Q2 Make cases table. - 6 points\n",
        "\n",
        "Start by making a table that contains just each case's info. I would call this table that you're going to upload `cases_df` so you don't overwrite your raw data.\n",
        "\n",
        "This table should have six columns and 1000 rows.\n",
        "\n",
        "Note, one of these columns should be a judge_id that links to the judges table. You'll need to make this foreign key.\n",
        "\n",
        "Also, you can leave 'category_name' in this table as well as its id. Normally you'd split that off into it's own table as well, but you're already doing that for casetype which is enough for now."
      ]
    },
    {
      "cell_type": "code",
      "execution_count": null,
      "metadata": {
        "id": "Uf_ovFQYPCKO"
      },
      "outputs": [],
      "source": [
        "## Q2 part 1 Your code starts here\n",
        "# Make judge_id in cases\n",
        "..."
      ]
    },
    {
      "cell_type": "code",
      "execution_count": null,
      "metadata": {
        "id": "ewrQQhsdPRRx"
      },
      "outputs": [],
      "source": [
        "# select necessary columns to make cases_df\n",
        "..."
      ]
    },
    {
      "cell_type": "code",
      "execution_count": null,
      "metadata": {
        "id": "u7Yi1pSqQ8E2"
      },
      "outputs": [],
      "source": [
        "# Show the head of cases_df and print it's shape?\n",
        "...\n",
        "## Q2 part 1 Your function ends here - Any code outside of these start/end markers won't be graded"
      ]
    },
    {
      "cell_type": "markdown",
      "metadata": {
        "id": "6afDwjG9B-1m"
      },
      "source": [
        "### Make cases table in your database\n",
        "\n",
        "Put the helper functions (*get_conn_cur()*, *get_table_names()*, etc. from previous NB and HW) to create the connection here.\n",
        "Once you do that you'll need to do the following\n",
        "\n",
        "* Connect, make a table called 'cases' with the correct column names and data types. Be sure to execute and commit the table.\n",
        "* Make tuples of your data\n",
        "* Write a SQL string that allows you to insert each tuple of data into the correct columns\n",
        "* Execute the string many times to fill out 'cases'\n",
        "* Commit changes and check the table.\n",
        "\n",
        "I'm not going to leave a full roadmap beyond this. Feel free to add cells as needed to do the above."
      ]
    },
    {
      "cell_type": "code",
      "execution_count": null,
      "metadata": {
        "id": "1ngd0J1oR1l5"
      },
      "outputs": [],
      "source": [
        "## Q2 part 2 Your code starts here\n",
        "import psycopg2\n",
        "aws_host = \"test-hw-db.ctxkekv3vnim.us-east-2.rds.amazonaws.com\"\n",
        "def get_conn_cur(): # define function name and arguments (there aren't any)\n",
        "  # Make a connection\n",
        "  conn = psycopg2.connect(\n",
        "    host= aws_host,\n",
        "    database= 'hw3_db',\n",
        "    user= 'postgres',\n",
        "    password= ...,\n",
        "    port='5432')\n",
        "\n",
        "  cur = conn.cursor()   # Make a cursor after\n",
        "\n",
        "  return(conn, cur)   # Return both the connection and the cursor\n",
        "\n",
        "...\n",
        "...\n",
        "...\n",
        "### This is an extra function I'm giving you that allows you to drop tables from your RDB. This will be vital as you can only create your table once.\n",
        "# If you try creating the same table when it already exists on your RDB, you'll get an error.\n",
        "# I recommend calling this function one line above your code creating your table. eg for cases, you'd call it like this: my_drop_table('cases')\n",
        "def my_drop_table(tab_name):\n",
        "  conn, cur = get_conn_cur()\n",
        "  tq = \"\"\"DROP TABLE IF EXISTS %s CASCADE;\"\"\" %tab_name\n",
        "  cur.execute(tq)\n",
        "  conn.commit()"
      ]
    },
    {
      "cell_type": "code",
      "execution_count": null,
      "metadata": {
        "id": "dZ_eVmrmZMQS"
      },
      "outputs": [],
      "source": [
        "# Use sql_head to check cases\n",
        "sql_head(table_name='cases')\n",
        "## Q2 part 2 Your function ends here - Any code outside of these start/end markers won't be graded"
      ]
    },
    {
      "cell_type": "markdown",
      "metadata": {
        "id": "Cb9Q6spxDvrh"
      },
      "source": [
        "## Q3 Make judges - 6 points\n",
        "\n",
        "Now make your judges table from the original `cases` dataframe (not the SQL table you just made).\n",
        "\n",
        "Judges should have five columns, including the `judge_id` column you made. There should be 553 rows after you drop duplicates (remember that judges may have had more than one case).\n",
        "\n",
        "After you make the dataset go and push to a SQL table called 'judges'."
      ]
    },
    {
      "cell_type": "code",
      "execution_count": null,
      "metadata": {
        "id": "7_sffqddclwz"
      },
      "outputs": [],
      "source": [
        "## Q3 Your code starts here\n",
        "#Your answer\n",
        "...\n"
      ]
    },
    {
      "cell_type": "code",
      "execution_count": null,
      "metadata": {
        "id": "uTIRLstJfX2D"
      },
      "outputs": [],
      "source": [
        "#Run this cell\n",
        "sql_head(table_name='judges')\n",
        "## Q3 Your function ends here - Any code outside of these start/end markers won't be graded"
      ]
    },
    {
      "cell_type": "markdown",
      "metadata": {
        "id": "OCipTbdcHQzN"
      },
      "source": [
        "## Q4 Make casetype - 6 points\n",
        "\n",
        "Go make the casetype table. This should have only two columns that allow you to link the casetype name back to the ID in the 'cases' table. There should be 27 rows as well."
      ]
    },
    {
      "cell_type": "code",
      "execution_count": null,
      "metadata": {
        "id": "2F5Bd5foIhdi"
      },
      "outputs": [],
      "source": [
        "## Q4 Your code starts here\n",
        "#Your answer\n",
        "..."
      ]
    },
    {
      "cell_type": "code",
      "execution_count": null,
      "metadata": {
        "id": "gWmt23_9fJg4"
      },
      "outputs": [],
      "source": [
        "#run this cell\n",
        "sql_head(table_name='casetype')\n",
        "## Q4 Your function ends here - Any code outside of these start/end markers won't be graded"
      ]
    },
    {
      "cell_type": "markdown",
      "metadata": {
        "id": "WaThd4pgJVAa"
      },
      "source": [
        "## Q5 A quick test of your tables - 3 point\n",
        "\n",
        "Below is a query to get the number of unique judges that have ruled on criminal court motion cases. You should get a value of 119 as your return if your database is set up correctly!"
      ]
    },
    {
      "cell_type": "code",
      "execution_count": null,
      "metadata": {
        "id": "UTvY-T16JXoL"
      },
      "outputs": [],
      "source": [
        "## Nothing to code here! Just run this and, if it returns 119 you should get full points!\n",
        "run_query(\"\"\"SELECT COUNT(DISTINCT(judges.judge_id)) FROM cases\n",
        "    JOIN judges ON cases.judge_id = judges.judge_id\n",
        "        WHERE casetype_id = (SELECT casetype_id FROM casetype\n",
        "                  WHERE casetype_name = 'criminal court motions'); \"\"\")\n"
      ]
    },
    {
      "cell_type": "markdown",
      "metadata": {
        "id": "wyx-UfY3KY7z"
      },
      "source": [
        "## Q6 Make rollup table - 6 points\n",
        "\n",
        "Now let's make that rollup table! The goal here is to make a summary table easily accessed. We're going to roll the whole thing up by the judges party and the category, but you could imagine doing this for each judge to track how they make decisions over time which would then be useful for an analytics database. The one we're making could also be used as a dimension table where we needed overall party averages.\n",
        "\n",
        "We want to get a percentage of liberal decisions by each grouping level (party_name, category_name). To do this we need first, the number of cases seen at each level, and second, the number of liberal decisions made at each level. `cases` contains the columns `libcon_id` which is a 0 if the decision was conservative in its ruling, and a 1 if it was liberal in its ruling. Thus, you can get a percentage of liberal decisions if you divide the sum of that column by the total observations. Your `agg()` can both get the sum and count.\n",
        "\n",
        "After you groupby you'll need to reset the index, rename the columns, then make the percentage.\n",
        "\n",
        "Once you do that you can push to a SQL table called 'rollup'\n",
        "\n",
        "Let's get started"
      ]
    },
    {
      "cell_type": "code",
      "execution_count": null,
      "metadata": {
        "id": "zDWZ_LJyKdNw"
      },
      "outputs": [],
      "source": [
        "## Q6 Your code starts here\n",
        "# Make a groupby called cases_rollup. This should group by party_name and categrory name. It should aggregate the count and sum of libcon_id\n",
        "..."
      ]
    },
    {
      "cell_type": "code",
      "execution_count": null,
      "metadata": {
        "id": "nQ2UOxTsKfOE"
      },
      "outputs": [],
      "source": [
        "# reset your index\n",
        "..."
      ]
    },
    {
      "cell_type": "code",
      "execution_count": null,
      "metadata": {
        "id": "plS7fzUiLCyi"
      },
      "outputs": [],
      "source": [
        "# rename your columns now. Keep the first to the same but call the last two 'total_cases' and 'num_lib_decisions'\n",
        "..."
      ]
    },
    {
      "cell_type": "markdown",
      "metadata": {
        "id": "b7pn9Bj5NSuM"
      },
      "source": [
        "Now make a new column called 'percent_liberal'\n",
        "\n",
        "This should calculate the percentage of decisions that were liberal in nature. Multiple it by 100 so that it's a full percent. Also use the `round()` function on the whole thing to keep it in whole percentages."
      ]
    },
    {
      "cell_type": "code",
      "execution_count": null,
      "metadata": {
        "id": "lRbgcHXhNKhv"
      },
      "outputs": [],
      "source": [
        "# make your metric called 'percent_liberal'\n",
        "..."
      ]
    },
    {
      "cell_type": "markdown",
      "metadata": {
        "id": "AoBcuXvJN_pl"
      },
      "source": [
        "\n",
        "Now go and push the whole thing to a table called 'rollup'\n",
        "\n",
        "There should be five columns and nine rows."
      ]
    },
    {
      "cell_type": "code",
      "execution_count": null,
      "metadata": {
        "id": "BKyrsDMeOoHG"
      },
      "outputs": [],
      "source": [
        "..."
      ]
    },
    {
      "cell_type": "code",
      "execution_count": null,
      "metadata": {
        "id": "X7qTkp1SO1mb"
      },
      "outputs": [],
      "source": [
        "# Run this cell\n",
        "sql_head('rollup')\n",
        "## Q6 Your function ends here - Any code outside of these start/end markers won't be graded"
      ]
    }
  ],
  "metadata": {
    "colab": {
      "include_colab_link": true,
      "provenance": []
    },
    "kernelspec": {
      "display_name": "Python 3",
      "name": "python3"
    },
    "language_info": {
      "name": "python",
      "version": "3.11.4"
    }
  },
  "nbformat": 4,
  "nbformat_minor": 0
}
