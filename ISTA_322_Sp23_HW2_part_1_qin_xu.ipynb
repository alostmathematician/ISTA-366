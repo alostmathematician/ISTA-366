{
  "cells": [
    {
      "cell_type": "markdown",
      "metadata": {
        "colab_type": "text",
        "id": "view-in-github"
      },
      "source": [
        "<a href=\"https://colab.research.google.com/github/alostmathematician/ISTA-366/blob/main/ISTA_322_Sp23_HW2_part_1_qin_xu.ipynb\" target=\"_parent\"><img src=\"https://colab.research.google.com/assets/colab-badge.svg\" alt=\"Open In Colab\"/></a>"
      ]
    },
    {
      "cell_type": "markdown",
      "metadata": {
        "id": "Hm-lEcSS1qVm"
      },
      "source": [
        "# HW2 - Part 1: Movies!\n",
        "\n",
        "\n"
      ]
    },
    {
      "cell_type": "markdown",
      "metadata": {
        "id": "DSQNkoMn2UL_"
      },
      "source": [
        "# Reminder about Submission Instructions\n",
        "\n",
        "1) First create a copy of this notebook in your drive and rename it so that it contains the course number (ISTA322), the semester (Sp22 for Spring 2022, Su22 for Summer 2022, and Fa22 for Fall 2022), the assigment code (HW2 for this assignment) and your name.\n",
        "\n",
        "    e.g. my copy for Spring 2023 would be ISTA_322_Sp23_HW2_part_1_dan_charbonneau)\n",
        "\n",
        "2) When you are ready to submit. Prepare three files: the python file (File->Download->Download .py), the notebook file (File->Download->Download .ipynb), and PDF version of your notebook (after running all cells). Note: you can take a screenshot and create the pdf out of them.\n",
        "\n",
        "3) Create a new directory named firstname_lastname_hw1 (e.g my directory would be dan_charbonneau_hw2_part1) put all three files in it. Compress (Zip) the folder you created with the files inside of it and submit this .zip file to D2L.\n",
        "\n",
        "**incorrect filenames or submission formats will result in a loss of 50% of your grade**"
      ]
    },
    {
      "cell_type": "markdown",
      "metadata": {
        "id": "4dK6_6V0_VY0"
      },
      "source": [
        "## Wranging and aggregating movie review data\n",
        "\n",
        "The website MovieLens.com has a research group which provides open access to millions of reviews, for free!  We're going to work with those data for this homework.  [Feel free to check out the website here.](https://grouplens.org/datasets/movielens/)  You can go and download the raw data, but in order to make things a bit easier, the files have been uploaded the Google drive for fast direct downloads.  \n",
        "\n",
        "There are two datasets we'll be working with.\n",
        "* movies - this is a file of 60,000+ movies\n",
        "* reviews - this is a file of 25 *million* individual reviews for the 60k movies\n",
        "\n",
        "The goal for this section of the homework is to do two types of data aggregations that will allow for someone to make inferences on which movies were the most popular, reviewed, polarizing and were cult classics.  \n",
        "\n",
        "To do this we'll first start by making a simple data set that brings just overall review properties together with movies.  We'll then do some deeper groupings to create a dataset that looks at the same properties but over time."
      ]
    },
    {
      "cell_type": "markdown",
      "metadata": {
        "id": "EGSFQInVD6ws"
      },
      "source": [
        "### Data first\n",
        "\n",
        "Let's bring in our two files and libraries.  The ratings file is understandably large.  So it's a good idea to download it and then save a copy as something else and work with that.  This way if you mess up you don't have to download it all over again\n"
      ]
    },
    {
      "cell_type": "code",
      "execution_count": 2,
      "metadata": {
        "id": "39GB_QJjD57f"
      },
      "outputs": [],
      "source": [
        "# Libraries\n",
        "import pandas as pd\n",
        "from datetime import datetime\n",
        "import seaborn as sns\n",
        "import matplotlib.pyplot as plt\n",
        "import numpy as np\n",
        "\n"
      ]
    },
    {
      "cell_type": "code",
      "execution_count": 3,
      "metadata": {
        "id": "6MZ0784dEfia"
      },
      "outputs": [],
      "source": [
        "# Movies data\n",
        "movies = pd.read_csv('https://itsa322.s3.us-east-2.amazonaws.com/movies.csv')"
      ]
    },
    {
      "cell_type": "code",
      "execution_count": 4,
      "metadata": {
        "colab": {
          "base_uri": "https://localhost:8080/",
          "height": 419
        },
        "id": "eIjN-nKyvnbu",
        "outputId": "206b3ba0-107e-4eac-96d9-0a2e98b69242"
      },
      "outputs": [
        {
          "data": {
            "text/html": [
              "<div>\n",
              "<style scoped>\n",
              "    .dataframe tbody tr th:only-of-type {\n",
              "        vertical-align: middle;\n",
              "    }\n",
              "\n",
              "    .dataframe tbody tr th {\n",
              "        vertical-align: top;\n",
              "    }\n",
              "\n",
              "    .dataframe thead th {\n",
              "        text-align: right;\n",
              "    }\n",
              "</style>\n",
              "<table border=\"1\" class=\"dataframe\">\n",
              "  <thead>\n",
              "    <tr style=\"text-align: right;\">\n",
              "      <th></th>\n",
              "      <th>movieId</th>\n",
              "      <th>title</th>\n",
              "      <th>genres</th>\n",
              "    </tr>\n",
              "  </thead>\n",
              "  <tbody>\n",
              "    <tr>\n",
              "      <th>0</th>\n",
              "      <td>1</td>\n",
              "      <td>Toy Story (1995)</td>\n",
              "      <td>Adventure|Animation|Children|Comedy|Fantasy</td>\n",
              "    </tr>\n",
              "    <tr>\n",
              "      <th>1</th>\n",
              "      <td>2</td>\n",
              "      <td>Jumanji (1995)</td>\n",
              "      <td>Adventure|Children|Fantasy</td>\n",
              "    </tr>\n",
              "    <tr>\n",
              "      <th>2</th>\n",
              "      <td>3</td>\n",
              "      <td>Grumpier Old Men (1995)</td>\n",
              "      <td>Comedy|Romance</td>\n",
              "    </tr>\n",
              "    <tr>\n",
              "      <th>3</th>\n",
              "      <td>4</td>\n",
              "      <td>Waiting to Exhale (1995)</td>\n",
              "      <td>Comedy|Drama|Romance</td>\n",
              "    </tr>\n",
              "    <tr>\n",
              "      <th>4</th>\n",
              "      <td>5</td>\n",
              "      <td>Father of the Bride Part II (1995)</td>\n",
              "      <td>Comedy</td>\n",
              "    </tr>\n",
              "    <tr>\n",
              "      <th>...</th>\n",
              "      <td>...</td>\n",
              "      <td>...</td>\n",
              "      <td>...</td>\n",
              "    </tr>\n",
              "    <tr>\n",
              "      <th>62418</th>\n",
              "      <td>209157</td>\n",
              "      <td>We (2018)</td>\n",
              "      <td>Drama</td>\n",
              "    </tr>\n",
              "    <tr>\n",
              "      <th>62419</th>\n",
              "      <td>209159</td>\n",
              "      <td>Window of the Soul (2001)</td>\n",
              "      <td>Documentary</td>\n",
              "    </tr>\n",
              "    <tr>\n",
              "      <th>62420</th>\n",
              "      <td>209163</td>\n",
              "      <td>Bad Poems (2018)</td>\n",
              "      <td>Comedy|Drama</td>\n",
              "    </tr>\n",
              "    <tr>\n",
              "      <th>62421</th>\n",
              "      <td>209169</td>\n",
              "      <td>A Girl Thing (2001)</td>\n",
              "      <td>(no genres listed)</td>\n",
              "    </tr>\n",
              "    <tr>\n",
              "      <th>62422</th>\n",
              "      <td>209171</td>\n",
              "      <td>Women of Devil's Island (1962)</td>\n",
              "      <td>Action|Adventure|Drama</td>\n",
              "    </tr>\n",
              "  </tbody>\n",
              "</table>\n",
              "<p>62423 rows × 3 columns</p>\n",
              "</div>"
            ],
            "text/plain": [
              "       movieId                               title  \\\n",
              "0            1                    Toy Story (1995)   \n",
              "1            2                      Jumanji (1995)   \n",
              "2            3             Grumpier Old Men (1995)   \n",
              "3            4            Waiting to Exhale (1995)   \n",
              "4            5  Father of the Bride Part II (1995)   \n",
              "...        ...                                 ...   \n",
              "62418   209157                           We (2018)   \n",
              "62419   209159           Window of the Soul (2001)   \n",
              "62420   209163                    Bad Poems (2018)   \n",
              "62421   209169                 A Girl Thing (2001)   \n",
              "62422   209171      Women of Devil's Island (1962)   \n",
              "\n",
              "                                            genres  \n",
              "0      Adventure|Animation|Children|Comedy|Fantasy  \n",
              "1                       Adventure|Children|Fantasy  \n",
              "2                                   Comedy|Romance  \n",
              "3                             Comedy|Drama|Romance  \n",
              "4                                           Comedy  \n",
              "...                                            ...  \n",
              "62418                                        Drama  \n",
              "62419                                  Documentary  \n",
              "62420                                 Comedy|Drama  \n",
              "62421                           (no genres listed)  \n",
              "62422                       Action|Adventure|Drama  \n",
              "\n",
              "[62423 rows x 3 columns]"
            ]
          },
          "execution_count": 4,
          "metadata": {},
          "output_type": "execute_result"
        }
      ],
      "source": [
        "movies"
      ]
    },
    {
      "cell_type": "code",
      "execution_count": 5,
      "metadata": {
        "id": "p0yc4ooJdcUC"
      },
      "outputs": [],
      "source": [
        "# Ratings data\n",
        "ratings = pd.read_csv('https://itsa322.s3.us-east-2.amazonaws.com/ratings.csv')\n",
        "# ratings = pd.read_csv('ratings.csv')"
      ]
    },
    {
      "cell_type": "code",
      "execution_count": 6,
      "metadata": {},
      "outputs": [],
      "source": [
        "# save the file for future reference\n",
        "ratings.to_csv('ratings.csv', index=False)"
      ]
    },
    {
      "cell_type": "code",
      "execution_count": 7,
      "metadata": {
        "id": "qI52SkIGPmAW"
      },
      "outputs": [],
      "source": [
        "# Make a copy of ratings; Generally, it's good practice to keep original copies saved before starting to mess with them\n",
        "# Also if you want to re-do some of the cells you can use rating_backup instead of loading data from servers!\n",
        "ratings_backup = ratings.copy"
      ]
    },
    {
      "cell_type": "markdown",
      "metadata": {
        "id": "iPR1QogNFAgm"
      },
      "source": [
        "## Q1 Explore your data - [3 points]\n",
        "\n",
        "Below take some time to explore your date.  \n",
        "In one cell, check the following items for **both** datasets:\n",
        "\n",
        "* Head and tail\n",
        "* Shape\n",
        "* Datatypes\n",
        "\n",
        "In a new cell:\n",
        "* The total number of NaN values for the movies and ratings tables (a single value for each table)\n",
        "\n",
        "**Task** Do the head,tail, and shape operations all in one cell.  Count the number of NaNs in another."
      ]
    },
    {
      "cell_type": "code",
      "execution_count": 8,
      "metadata": {
        "id": "E6hE7ikTYeGk"
      },
      "outputs": [
        {
          "name": "stdout",
          "output_type": "stream",
          "text": [
            "movies shape: (62423, 3)\n"
          ]
        }
      ],
      "source": [
        "## Q1 Your code starts here\n",
        "# shape of movies\n",
        "print(\"movies shape:\", movies.shape);\n"
      ]
    },
    {
      "cell_type": "code",
      "execution_count": 9,
      "metadata": {
        "id": "6xsRcu3IEyxi"
      },
      "outputs": [
        {
          "data": {
            "text/html": [
              "<div>\n",
              "<style scoped>\n",
              "    .dataframe tbody tr th:only-of-type {\n",
              "        vertical-align: middle;\n",
              "    }\n",
              "\n",
              "    .dataframe tbody tr th {\n",
              "        vertical-align: top;\n",
              "    }\n",
              "\n",
              "    .dataframe thead th {\n",
              "        text-align: right;\n",
              "    }\n",
              "</style>\n",
              "<table border=\"1\" class=\"dataframe\">\n",
              "  <thead>\n",
              "    <tr style=\"text-align: right;\">\n",
              "      <th></th>\n",
              "      <th>movieId</th>\n",
              "      <th>title</th>\n",
              "      <th>genres</th>\n",
              "    </tr>\n",
              "  </thead>\n",
              "  <tbody>\n",
              "    <tr>\n",
              "      <th>0</th>\n",
              "      <td>1</td>\n",
              "      <td>Toy Story (1995)</td>\n",
              "      <td>Adventure|Animation|Children|Comedy|Fantasy</td>\n",
              "    </tr>\n",
              "    <tr>\n",
              "      <th>1</th>\n",
              "      <td>2</td>\n",
              "      <td>Jumanji (1995)</td>\n",
              "      <td>Adventure|Children|Fantasy</td>\n",
              "    </tr>\n",
              "    <tr>\n",
              "      <th>2</th>\n",
              "      <td>3</td>\n",
              "      <td>Grumpier Old Men (1995)</td>\n",
              "      <td>Comedy|Romance</td>\n",
              "    </tr>\n",
              "    <tr>\n",
              "      <th>3</th>\n",
              "      <td>4</td>\n",
              "      <td>Waiting to Exhale (1995)</td>\n",
              "      <td>Comedy|Drama|Romance</td>\n",
              "    </tr>\n",
              "    <tr>\n",
              "      <th>4</th>\n",
              "      <td>5</td>\n",
              "      <td>Father of the Bride Part II (1995)</td>\n",
              "      <td>Comedy</td>\n",
              "    </tr>\n",
              "  </tbody>\n",
              "</table>\n",
              "</div>"
            ],
            "text/plain": [
              "   movieId                               title  \\\n",
              "0        1                    Toy Story (1995)   \n",
              "1        2                      Jumanji (1995)   \n",
              "2        3             Grumpier Old Men (1995)   \n",
              "3        4            Waiting to Exhale (1995)   \n",
              "4        5  Father of the Bride Part II (1995)   \n",
              "\n",
              "                                        genres  \n",
              "0  Adventure|Animation|Children|Comedy|Fantasy  \n",
              "1                   Adventure|Children|Fantasy  \n",
              "2                               Comedy|Romance  \n",
              "3                         Comedy|Drama|Romance  \n",
              "4                                       Comedy  "
            ]
          },
          "execution_count": 9,
          "metadata": {},
          "output_type": "execute_result"
        }
      ],
      "source": [
        "#head of movies\n",
        "movies.head()"
      ]
    },
    {
      "cell_type": "code",
      "execution_count": 10,
      "metadata": {
        "id": "aHKbnbfjE64t"
      },
      "outputs": [
        {
          "data": {
            "text/html": [
              "<div>\n",
              "<style scoped>\n",
              "    .dataframe tbody tr th:only-of-type {\n",
              "        vertical-align: middle;\n",
              "    }\n",
              "\n",
              "    .dataframe tbody tr th {\n",
              "        vertical-align: top;\n",
              "    }\n",
              "\n",
              "    .dataframe thead th {\n",
              "        text-align: right;\n",
              "    }\n",
              "</style>\n",
              "<table border=\"1\" class=\"dataframe\">\n",
              "  <thead>\n",
              "    <tr style=\"text-align: right;\">\n",
              "      <th></th>\n",
              "      <th>movieId</th>\n",
              "      <th>title</th>\n",
              "      <th>genres</th>\n",
              "    </tr>\n",
              "  </thead>\n",
              "  <tbody>\n",
              "    <tr>\n",
              "      <th>62418</th>\n",
              "      <td>209157</td>\n",
              "      <td>We (2018)</td>\n",
              "      <td>Drama</td>\n",
              "    </tr>\n",
              "    <tr>\n",
              "      <th>62419</th>\n",
              "      <td>209159</td>\n",
              "      <td>Window of the Soul (2001)</td>\n",
              "      <td>Documentary</td>\n",
              "    </tr>\n",
              "    <tr>\n",
              "      <th>62420</th>\n",
              "      <td>209163</td>\n",
              "      <td>Bad Poems (2018)</td>\n",
              "      <td>Comedy|Drama</td>\n",
              "    </tr>\n",
              "    <tr>\n",
              "      <th>62421</th>\n",
              "      <td>209169</td>\n",
              "      <td>A Girl Thing (2001)</td>\n",
              "      <td>(no genres listed)</td>\n",
              "    </tr>\n",
              "    <tr>\n",
              "      <th>62422</th>\n",
              "      <td>209171</td>\n",
              "      <td>Women of Devil's Island (1962)</td>\n",
              "      <td>Action|Adventure|Drama</td>\n",
              "    </tr>\n",
              "  </tbody>\n",
              "</table>\n",
              "</div>"
            ],
            "text/plain": [
              "       movieId                           title                  genres\n",
              "62418   209157                       We (2018)                   Drama\n",
              "62419   209159       Window of the Soul (2001)             Documentary\n",
              "62420   209163                Bad Poems (2018)            Comedy|Drama\n",
              "62421   209169             A Girl Thing (2001)      (no genres listed)\n",
              "62422   209171  Women of Devil's Island (1962)  Action|Adventure|Drama"
            ]
          },
          "execution_count": 10,
          "metadata": {},
          "output_type": "execute_result"
        }
      ],
      "source": [
        "#tail of movies\n",
        "movies.tail()"
      ]
    },
    {
      "cell_type": "code",
      "execution_count": 11,
      "metadata": {
        "id": "NIxsJVC1F7jK"
      },
      "outputs": [
        {
          "name": "stdout",
          "output_type": "stream",
          "text": [
            "Number of NaNs in movies: 0\n"
          ]
        }
      ],
      "source": [
        "# Get the total count of NaNs for movies\n",
        "number_of_NaNs_in_movies = movies.isna().sum().sum() #replace 0 here with your code calculating the NaNs. Variable should be an int\n",
        "print(\"Number of NaNs in movies:\", number_of_NaNs_in_movies)"
      ]
    },
    {
      "cell_type": "code",
      "execution_count": 12,
      "metadata": {
        "id": "ww4Ft5diE7Ba"
      },
      "outputs": [
        {
          "name": "stdout",
          "output_type": "stream",
          "text": [
            "ratings shape: (25000095, 4)\n",
            "ratings head:\n",
            "   userId  movieId  rating   timestamp\n",
            "0       1      296     5.0  1147880044\n",
            "1       1      306     3.5  1147868817\n",
            "2       1      307     5.0  1147868828\n",
            "3       1      665     5.0  1147878820\n",
            "4       1      899     3.5  1147868510\n",
            "ratings tail:\n",
            "          userId  movieId  rating   timestamp\n",
            "25000090  162541    50872     4.5  1240953372\n",
            "25000091  162541    55768     2.5  1240951998\n",
            "25000092  162541    56176     2.0  1240950697\n",
            "25000093  162541    58559     4.0  1240953434\n",
            "25000094  162541    63876     5.0  1240952515\n",
            "Number of NaNs in ratings: 0\n"
          ]
        }
      ],
      "source": [
        "#Do the same steps for shape, head, and tail, and NaNs of ratings\n",
        "print(f\"ratings shape: {ratings.shape}\")\n",
        "print(f\"ratings head:\\n{ratings.head()}\")\n",
        "print(f\"ratings tail:\\n{ratings.tail()}\")\n",
        "\n",
        "number_of_NaNs_in_ratings = ratings.isna().sum().sum() #replace 0 here with your code calculating the NaNs\n",
        "print(\"Number of NaNs in ratings:\", number_of_NaNs_in_ratings)\n",
        "## Q1 Your code ends here - Any code outside of these start/end markers won't be graded"
      ]
    },
    {
      "cell_type": "markdown",
      "metadata": {
        "id": "IbY5XgE33Kmc"
      },
      "source": [
        "## Q2 Convert timestamp in ratings to a datetime. - [1.5 points]\n",
        "\n",
        "One issue that you can see from your exploration is that the ratings only have a timestamp.  This timestamp is measured in the number of seconds since 00:00:00 on January 1st, 1970.  You'll need to convert this to a datetime in order to actually do our later data aggregations.  \n",
        "\n",
        "You use `pd.to_datetime` on timestamps like this.  [For full details on the various ways to use this function please look at the Pandas documentation.](https://pandas.pydata.org/pandas-docs/stable/reference/api/pandas.to_datetime.html) Briefly, this is how it's used.\n",
        "\n",
        "```\n",
        ">>> pd.to_datetime(1490195805, unit='s')\n",
        "Timestamp('2017-03-22 15:16:45')\n",
        "```\n",
        "\n",
        "**Task** Make a new column in the movies dataframe called `review_dt` that contains the data from the timestamp column but converted to a datetime datatype.  \n",
        "\n",
        "Note, it's good practice to do this by first assigning the output to a test vector first, rather than directly adding the output to the dataframe. This allows you to make sure your operation did what you wanted before modifying your dataframe. Once you're confident of the output, you can assign the vector to the `reviews` dataframe as a new column.\n",
        "\n",
        "For example\n",
        "```\n",
        "test_vec = pd.to_datetime(arguments)\n",
        "test_vec # to check what it contains\n",
        "```"
      ]
    },
    {
      "cell_type": "code",
      "execution_count": 13,
      "metadata": {
        "id": "ecldZK15dqQC"
      },
      "outputs": [],
      "source": [
        "## Q2 Your code starts here\n",
        "# Make test vector\n",
        "test_vec = pd.to_datetime(ratings['timestamp'], unit='s')"
      ]
    },
    {
      "cell_type": "code",
      "execution_count": 14,
      "metadata": {
        "id": "0rWM0NKhowev"
      },
      "outputs": [
        {
          "data": {
            "text/plain": [
              "0          2006-05-17 15:34:04\n",
              "1          2006-05-17 12:26:57\n",
              "2          2006-05-17 12:27:08\n",
              "3          2006-05-17 15:13:40\n",
              "4          2006-05-17 12:21:50\n",
              "                   ...        \n",
              "25000090   2009-04-28 21:16:12\n",
              "25000091   2009-04-28 20:53:18\n",
              "25000092   2009-04-28 20:31:37\n",
              "25000093   2009-04-28 21:17:14\n",
              "25000094   2009-04-28 21:01:55\n",
              "Name: timestamp, Length: 25000095, dtype: datetime64[ns]"
            ]
          },
          "execution_count": 14,
          "metadata": {},
          "output_type": "execute_result"
        }
      ],
      "source": [
        "# Check vector and datatype to make sure it make sense.\n",
        "test_vec"
      ]
    },
    {
      "cell_type": "code",
      "execution_count": 15,
      "metadata": {
        "id": "RBXoYE2Mo1pR"
      },
      "outputs": [],
      "source": [
        "# Now add this to the ratings dataframe\n",
        "ratings['review_dt'] = test_vec"
      ]
    },
    {
      "cell_type": "code",
      "execution_count": 16,
      "metadata": {
        "id": "5RQV_35CdqdS"
      },
      "outputs": [
        {
          "data": {
            "text/html": [
              "<div>\n",
              "<style scoped>\n",
              "    .dataframe tbody tr th:only-of-type {\n",
              "        vertical-align: middle;\n",
              "    }\n",
              "\n",
              "    .dataframe tbody tr th {\n",
              "        vertical-align: top;\n",
              "    }\n",
              "\n",
              "    .dataframe thead th {\n",
              "        text-align: right;\n",
              "    }\n",
              "</style>\n",
              "<table border=\"1\" class=\"dataframe\">\n",
              "  <thead>\n",
              "    <tr style=\"text-align: right;\">\n",
              "      <th></th>\n",
              "      <th>userId</th>\n",
              "      <th>movieId</th>\n",
              "      <th>rating</th>\n",
              "      <th>timestamp</th>\n",
              "      <th>review_dt</th>\n",
              "    </tr>\n",
              "  </thead>\n",
              "  <tbody>\n",
              "    <tr>\n",
              "      <th>0</th>\n",
              "      <td>1</td>\n",
              "      <td>296</td>\n",
              "      <td>5.0</td>\n",
              "      <td>1147880044</td>\n",
              "      <td>2006-05-17 15:34:04</td>\n",
              "    </tr>\n",
              "    <tr>\n",
              "      <th>1</th>\n",
              "      <td>1</td>\n",
              "      <td>306</td>\n",
              "      <td>3.5</td>\n",
              "      <td>1147868817</td>\n",
              "      <td>2006-05-17 12:26:57</td>\n",
              "    </tr>\n",
              "    <tr>\n",
              "      <th>2</th>\n",
              "      <td>1</td>\n",
              "      <td>307</td>\n",
              "      <td>5.0</td>\n",
              "      <td>1147868828</td>\n",
              "      <td>2006-05-17 12:27:08</td>\n",
              "    </tr>\n",
              "    <tr>\n",
              "      <th>3</th>\n",
              "      <td>1</td>\n",
              "      <td>665</td>\n",
              "      <td>5.0</td>\n",
              "      <td>1147878820</td>\n",
              "      <td>2006-05-17 15:13:40</td>\n",
              "    </tr>\n",
              "    <tr>\n",
              "      <th>4</th>\n",
              "      <td>1</td>\n",
              "      <td>899</td>\n",
              "      <td>3.5</td>\n",
              "      <td>1147868510</td>\n",
              "      <td>2006-05-17 12:21:50</td>\n",
              "    </tr>\n",
              "  </tbody>\n",
              "</table>\n",
              "</div>"
            ],
            "text/plain": [
              "   userId  movieId  rating   timestamp           review_dt\n",
              "0       1      296     5.0  1147880044 2006-05-17 15:34:04\n",
              "1       1      306     3.5  1147868817 2006-05-17 12:26:57\n",
              "2       1      307     5.0  1147868828 2006-05-17 12:27:08\n",
              "3       1      665     5.0  1147878820 2006-05-17 15:13:40\n",
              "4       1      899     3.5  1147868510 2006-05-17 12:21:50"
            ]
          },
          "execution_count": 16,
          "metadata": {},
          "output_type": "execute_result"
        }
      ],
      "source": [
        "# Check the head of your dataframe again\n",
        "ratings.head()"
      ]
    },
    {
      "cell_type": "code",
      "execution_count": 17,
      "metadata": {
        "id": "jt8syWKWdqji"
      },
      "outputs": [
        {
          "name": "stdout",
          "output_type": "stream",
          "text": [
            "oldest review: 1995-01-09\n",
            "newest review: 2019-11-21\n"
          ]
        }
      ],
      "source": [
        "# What's the oldest and newest review?  It should be 1995-01-09 and 2019-11-21, respectively.\n",
        "print(f\"oldest review: {ratings['review_dt'].min().date()}\")\n",
        "print(f\"newest review: {ratings['review_dt'].max().date()}\")\n",
        "## Q2 Your code ends here - Any code outside of these start/end markers won't be graded"
      ]
    },
    {
      "cell_type": "markdown",
      "metadata": {
        "id": "3lQ8tFNgpPjF"
      },
      "source": [
        "## Q3 Your first aggregation and join - [4.5 points]\n",
        "\n",
        "The first aggregation and join I want you to do is at the whole movie level.  Your movies dataframe should only have a single row for each movie, but there are obviously thousands of individual reviews for each of those movies. Our goal here is to produce some summary statistics about the reviews for each movie and then join them to the movies dataframe.\n",
        "\n",
        "**Task:** Do the following:\n",
        "* Create an aggregated dataframe called `ratings_by_movie`. This dataframe should be grouped by movie. Use `.agg()` to calculate the mean, standard deviation ('std'), and the number of reviews for each movie.  \n",
        "* Rename the columns of that dataframe `'movieId', 'rating_mean', 'rating_std', and 'rating_count'`\n",
        "* Join this new `ratings_by_movie` dataframe such that it attaches all those summary statistics to their corresponding movies from the 'movies' dataframe.\n",
        "* Call the joined dataframe `movies_with_ratings`"
      ]
    },
    {
      "cell_type": "code",
      "execution_count": 18,
      "metadata": {
        "id": "1diokGd0fghb"
      },
      "outputs": [],
      "source": [
        "## Q3 Your code starts here\n",
        "# Make ratings_by_movie\n",
        "ratings_by_movie = ratings.groupby('movieId', as_index=False).agg(\n",
        "    {'rating':['mean','std','count']}\n",
        "    )"
      ]
    },
    {
      "cell_type": "code",
      "execution_count": 19,
      "metadata": {
        "id": "vaoGm6endqVu"
      },
      "outputs": [
        {
          "data": {
            "text/html": [
              "<div>\n",
              "<style scoped>\n",
              "    .dataframe tbody tr th:only-of-type {\n",
              "        vertical-align: middle;\n",
              "    }\n",
              "\n",
              "    .dataframe tbody tr th {\n",
              "        vertical-align: top;\n",
              "    }\n",
              "\n",
              "    .dataframe thead tr th {\n",
              "        text-align: left;\n",
              "    }\n",
              "</style>\n",
              "<table border=\"1\" class=\"dataframe\">\n",
              "  <thead>\n",
              "    <tr>\n",
              "      <th></th>\n",
              "      <th>movieId</th>\n",
              "      <th colspan=\"3\" halign=\"left\">rating</th>\n",
              "    </tr>\n",
              "    <tr>\n",
              "      <th></th>\n",
              "      <th></th>\n",
              "      <th>mean</th>\n",
              "      <th>std</th>\n",
              "      <th>count</th>\n",
              "    </tr>\n",
              "  </thead>\n",
              "  <tbody>\n",
              "    <tr>\n",
              "      <th>0</th>\n",
              "      <td>1</td>\n",
              "      <td>3.893708</td>\n",
              "      <td>0.921552</td>\n",
              "      <td>57309</td>\n",
              "    </tr>\n",
              "    <tr>\n",
              "      <th>1</th>\n",
              "      <td>2</td>\n",
              "      <td>3.251527</td>\n",
              "      <td>0.959851</td>\n",
              "      <td>24228</td>\n",
              "    </tr>\n",
              "    <tr>\n",
              "      <th>2</th>\n",
              "      <td>3</td>\n",
              "      <td>3.142028</td>\n",
              "      <td>1.008443</td>\n",
              "      <td>11804</td>\n",
              "    </tr>\n",
              "    <tr>\n",
              "      <th>3</th>\n",
              "      <td>4</td>\n",
              "      <td>2.853547</td>\n",
              "      <td>1.108531</td>\n",
              "      <td>2523</td>\n",
              "    </tr>\n",
              "    <tr>\n",
              "      <th>4</th>\n",
              "      <td>5</td>\n",
              "      <td>3.058434</td>\n",
              "      <td>0.996611</td>\n",
              "      <td>11714</td>\n",
              "    </tr>\n",
              "    <tr>\n",
              "      <th>...</th>\n",
              "      <td>...</td>\n",
              "      <td>...</td>\n",
              "      <td>...</td>\n",
              "      <td>...</td>\n",
              "    </tr>\n",
              "    <tr>\n",
              "      <th>59042</th>\n",
              "      <td>209157</td>\n",
              "      <td>1.500000</td>\n",
              "      <td>NaN</td>\n",
              "      <td>1</td>\n",
              "    </tr>\n",
              "    <tr>\n",
              "      <th>59043</th>\n",
              "      <td>209159</td>\n",
              "      <td>3.000000</td>\n",
              "      <td>NaN</td>\n",
              "      <td>1</td>\n",
              "    </tr>\n",
              "    <tr>\n",
              "      <th>59044</th>\n",
              "      <td>209163</td>\n",
              "      <td>4.500000</td>\n",
              "      <td>NaN</td>\n",
              "      <td>1</td>\n",
              "    </tr>\n",
              "    <tr>\n",
              "      <th>59045</th>\n",
              "      <td>209169</td>\n",
              "      <td>3.000000</td>\n",
              "      <td>NaN</td>\n",
              "      <td>1</td>\n",
              "    </tr>\n",
              "    <tr>\n",
              "      <th>59046</th>\n",
              "      <td>209171</td>\n",
              "      <td>3.000000</td>\n",
              "      <td>NaN</td>\n",
              "      <td>1</td>\n",
              "    </tr>\n",
              "  </tbody>\n",
              "</table>\n",
              "<p>59047 rows × 4 columns</p>\n",
              "</div>"
            ],
            "text/plain": [
              "      movieId    rating                 \n",
              "                   mean       std  count\n",
              "0           1  3.893708  0.921552  57309\n",
              "1           2  3.251527  0.959851  24228\n",
              "2           3  3.142028  1.008443  11804\n",
              "3           4  2.853547  1.108531   2523\n",
              "4           5  3.058434  0.996611  11714\n",
              "...       ...       ...       ...    ...\n",
              "59042  209157  1.500000       NaN      1\n",
              "59043  209159  3.000000       NaN      1\n",
              "59044  209163  4.500000       NaN      1\n",
              "59045  209169  3.000000       NaN      1\n",
              "59046  209171  3.000000       NaN      1\n",
              "\n",
              "[59047 rows x 4 columns]"
            ]
          },
          "execution_count": 19,
          "metadata": {},
          "output_type": "execute_result"
        }
      ],
      "source": [
        "# Check it\n",
        "ratings_by_movie"
      ]
    },
    {
      "cell_type": "code",
      "execution_count": 20,
      "metadata": {
        "id": "eiNm1Qo4sUIr"
      },
      "outputs": [],
      "source": [
        "# Rename columns\n",
        "ratings_by_movie.columns = ['movieId','rating_mean','rating_std','rating_count']"
      ]
    },
    {
      "cell_type": "code",
      "execution_count": 21,
      "metadata": {
        "id": "gfwRPPcxrY71"
      },
      "outputs": [],
      "source": [
        "# Join it and call movies with ratings\n",
        "movies_with_ratings = movies.merge(ratings_by_movie,on=\"movieId\",how='left')"
      ]
    },
    {
      "cell_type": "code",
      "execution_count": 22,
      "metadata": {
        "id": "_Ee4dKTTsIqd"
      },
      "outputs": [
        {
          "data": {
            "text/html": [
              "<div>\n",
              "<style scoped>\n",
              "    .dataframe tbody tr th:only-of-type {\n",
              "        vertical-align: middle;\n",
              "    }\n",
              "\n",
              "    .dataframe tbody tr th {\n",
              "        vertical-align: top;\n",
              "    }\n",
              "\n",
              "    .dataframe thead th {\n",
              "        text-align: right;\n",
              "    }\n",
              "</style>\n",
              "<table border=\"1\" class=\"dataframe\">\n",
              "  <thead>\n",
              "    <tr style=\"text-align: right;\">\n",
              "      <th></th>\n",
              "      <th>movieId</th>\n",
              "      <th>title</th>\n",
              "      <th>genres</th>\n",
              "      <th>rating_mean</th>\n",
              "      <th>rating_std</th>\n",
              "      <th>rating_count</th>\n",
              "    </tr>\n",
              "  </thead>\n",
              "  <tbody>\n",
              "    <tr>\n",
              "      <th>0</th>\n",
              "      <td>1</td>\n",
              "      <td>Toy Story (1995)</td>\n",
              "      <td>Adventure|Animation|Children|Comedy|Fantasy</td>\n",
              "      <td>3.893708</td>\n",
              "      <td>0.921552</td>\n",
              "      <td>57309.0</td>\n",
              "    </tr>\n",
              "    <tr>\n",
              "      <th>1</th>\n",
              "      <td>2</td>\n",
              "      <td>Jumanji (1995)</td>\n",
              "      <td>Adventure|Children|Fantasy</td>\n",
              "      <td>3.251527</td>\n",
              "      <td>0.959851</td>\n",
              "      <td>24228.0</td>\n",
              "    </tr>\n",
              "    <tr>\n",
              "      <th>2</th>\n",
              "      <td>3</td>\n",
              "      <td>Grumpier Old Men (1995)</td>\n",
              "      <td>Comedy|Romance</td>\n",
              "      <td>3.142028</td>\n",
              "      <td>1.008443</td>\n",
              "      <td>11804.0</td>\n",
              "    </tr>\n",
              "    <tr>\n",
              "      <th>3</th>\n",
              "      <td>4</td>\n",
              "      <td>Waiting to Exhale (1995)</td>\n",
              "      <td>Comedy|Drama|Romance</td>\n",
              "      <td>2.853547</td>\n",
              "      <td>1.108531</td>\n",
              "      <td>2523.0</td>\n",
              "    </tr>\n",
              "    <tr>\n",
              "      <th>4</th>\n",
              "      <td>5</td>\n",
              "      <td>Father of the Bride Part II (1995)</td>\n",
              "      <td>Comedy</td>\n",
              "      <td>3.058434</td>\n",
              "      <td>0.996611</td>\n",
              "      <td>11714.0</td>\n",
              "    </tr>\n",
              "    <tr>\n",
              "      <th>...</th>\n",
              "      <td>...</td>\n",
              "      <td>...</td>\n",
              "      <td>...</td>\n",
              "      <td>...</td>\n",
              "      <td>...</td>\n",
              "      <td>...</td>\n",
              "    </tr>\n",
              "    <tr>\n",
              "      <th>62418</th>\n",
              "      <td>209157</td>\n",
              "      <td>We (2018)</td>\n",
              "      <td>Drama</td>\n",
              "      <td>1.500000</td>\n",
              "      <td>NaN</td>\n",
              "      <td>1.0</td>\n",
              "    </tr>\n",
              "    <tr>\n",
              "      <th>62419</th>\n",
              "      <td>209159</td>\n",
              "      <td>Window of the Soul (2001)</td>\n",
              "      <td>Documentary</td>\n",
              "      <td>3.000000</td>\n",
              "      <td>NaN</td>\n",
              "      <td>1.0</td>\n",
              "    </tr>\n",
              "    <tr>\n",
              "      <th>62420</th>\n",
              "      <td>209163</td>\n",
              "      <td>Bad Poems (2018)</td>\n",
              "      <td>Comedy|Drama</td>\n",
              "      <td>4.500000</td>\n",
              "      <td>NaN</td>\n",
              "      <td>1.0</td>\n",
              "    </tr>\n",
              "    <tr>\n",
              "      <th>62421</th>\n",
              "      <td>209169</td>\n",
              "      <td>A Girl Thing (2001)</td>\n",
              "      <td>(no genres listed)</td>\n",
              "      <td>3.000000</td>\n",
              "      <td>NaN</td>\n",
              "      <td>1.0</td>\n",
              "    </tr>\n",
              "    <tr>\n",
              "      <th>62422</th>\n",
              "      <td>209171</td>\n",
              "      <td>Women of Devil's Island (1962)</td>\n",
              "      <td>Action|Adventure|Drama</td>\n",
              "      <td>3.000000</td>\n",
              "      <td>NaN</td>\n",
              "      <td>1.0</td>\n",
              "    </tr>\n",
              "  </tbody>\n",
              "</table>\n",
              "<p>62423 rows × 6 columns</p>\n",
              "</div>"
            ],
            "text/plain": [
              "       movieId                               title  \\\n",
              "0            1                    Toy Story (1995)   \n",
              "1            2                      Jumanji (1995)   \n",
              "2            3             Grumpier Old Men (1995)   \n",
              "3            4            Waiting to Exhale (1995)   \n",
              "4            5  Father of the Bride Part II (1995)   \n",
              "...        ...                                 ...   \n",
              "62418   209157                           We (2018)   \n",
              "62419   209159           Window of the Soul (2001)   \n",
              "62420   209163                    Bad Poems (2018)   \n",
              "62421   209169                 A Girl Thing (2001)   \n",
              "62422   209171      Women of Devil's Island (1962)   \n",
              "\n",
              "                                            genres  rating_mean  rating_std  \\\n",
              "0      Adventure|Animation|Children|Comedy|Fantasy     3.893708    0.921552   \n",
              "1                       Adventure|Children|Fantasy     3.251527    0.959851   \n",
              "2                                   Comedy|Romance     3.142028    1.008443   \n",
              "3                             Comedy|Drama|Romance     2.853547    1.108531   \n",
              "4                                           Comedy     3.058434    0.996611   \n",
              "...                                            ...          ...         ...   \n",
              "62418                                        Drama     1.500000         NaN   \n",
              "62419                                  Documentary     3.000000         NaN   \n",
              "62420                                 Comedy|Drama     4.500000         NaN   \n",
              "62421                           (no genres listed)     3.000000         NaN   \n",
              "62422                       Action|Adventure|Drama     3.000000         NaN   \n",
              "\n",
              "       rating_count  \n",
              "0           57309.0  \n",
              "1           24228.0  \n",
              "2           11804.0  \n",
              "3            2523.0  \n",
              "4           11714.0  \n",
              "...             ...  \n",
              "62418           1.0  \n",
              "62419           1.0  \n",
              "62420           1.0  \n",
              "62421           1.0  \n",
              "62422           1.0  \n",
              "\n",
              "[62423 rows x 6 columns]"
            ]
          },
          "execution_count": 22,
          "metadata": {},
          "output_type": "execute_result"
        }
      ],
      "source": [
        "# Check movies_with_ratings.\n",
        "movies_with_ratings\n",
        "## Q3 Your code ends here - Any code outside of these start/end markers won't be graded"
      ]
    },
    {
      "cell_type": "markdown",
      "metadata": {
        "id": "T7OgtiDVqJob"
      },
      "source": [
        "Is your merged dataframe 62423 rows × 6 columns?"
      ]
    },
    {
      "cell_type": "markdown",
      "metadata": {
        "id": "V7asUN4XtlA6"
      },
      "source": [
        "## Q4 Filtering and more transformations - [3 points]\n",
        "\n",
        "Now we want to clean up this dataset a bit and then do a couple more transforms. One issue you can see from your check above is that many movies only have one rating.  We're going to choose to set a minimum number of reviews needed to be included.  We also want to do some binning where movies with certain ratings levels\n",
        "\n",
        "**Task:** Please do the following operations\n",
        "* Filter `movies_with_ratings` so it only contains movies that have at least 10 ratings\n",
        "* Use the function `cut()` to automatically bin our `rating_mean` column into three groups of 'bad', 'fine', or 'good' movies.  Call this `rating_group`.\n",
        "* Use the same function to take the standard deviation in rating and make three groups of 'agreement', 'average', 'controversial'.  Thus, movies with low standard deviation have agreement in the rating, while movies with high standard deviation have controversy in the ratings.  Call this column `ratings_agreement`."
      ]
    },
    {
      "cell_type": "code",
      "execution_count": 23,
      "metadata": {
        "id": "A-q2L_UDtoVU"
      },
      "outputs": [],
      "source": [
        "## Q4 part 1 Your code starts here\n",
        "# Filter first being sure to overwrite dataframe\n",
        "movies_with_ratings = movies_with_ratings[movies_with_ratings['rating_count'] >= 10]"
      ]
    },
    {
      "cell_type": "code",
      "execution_count": 24,
      "metadata": {
        "id": "51jG155vvC64"
      },
      "outputs": [
        {
          "data": {
            "text/plain": [
              "24330"
            ]
          },
          "execution_count": 24,
          "metadata": {},
          "output_type": "execute_result"
        }
      ],
      "source": [
        "# Check how many rows you're left with. You should have a little over 24000\n",
        "len(movies_with_ratings)\n",
        "## Q4 part 1 Your code ends here - Any code outside of these start/end markers won't be graded"
      ]
    },
    {
      "cell_type": "markdown",
      "metadata": {
        "id": "Gdax-0B9x2dN"
      },
      "source": [
        "I didn't show you how to use `cut()` in the lesson, but it's a transform just like anything else.  You could use a `np.where()` statement like we did, but `cut()` is a bit easier.  All it does is take 1) a column as the first argument, 2) the number of bins you want to group it in as the second argument, and then 3) the labels you want to give those bins as the third.  It automatically divides them up into equal sized bins.\n",
        "\n",
        "For example, if I make the following list:\n",
        "```\n",
        "rating = [2, 4, 9, 8, 5, 3, 6, 10, 2, 1, 6, 7]\n",
        "```\n",
        "\n",
        "And run `cut()` on it with three bins and levels 'bad', 'fine', and 'good':\n",
        "```\n",
        "pd.cut(rating, 3, labels=['bad', 'fine', 'good'])\n",
        "```\n",
        "\n",
        "I get a return of:\n",
        "```\n",
        "[bad, bad, good, good, fine, ..., good, bad, bad, fine, fine]\n",
        "Length: 12\n",
        "Categories (3, object): [bad < fine < good]\n",
        "```\n",
        "\n",
        "Note how it orders them for you based on the order of the labels.  "
      ]
    },
    {
      "cell_type": "code",
      "execution_count": 25,
      "metadata": {
        "id": "SYVhXGaGx1-7"
      },
      "outputs": [
        {
          "data": {
            "text/plain": [
              "['bad', 'bad', 'good', 'good', 'fine', ..., 'good', 'bad', 'bad', 'fine', 'fine']\n",
              "Length: 12\n",
              "Categories (3, object): ['bad' < 'fine' < 'good']"
            ]
          },
          "execution_count": 25,
          "metadata": {},
          "output_type": "execute_result"
        }
      ],
      "source": [
        "# If you want to test it!\n",
        "rating = [2, 4, 9, 8, 5, 3, 6, 10, 2, 1, 6, 7]\n",
        "pd.cut(rating, 3, labels=['bad', 'fine', 'good'])"
      ]
    },
    {
      "cell_type": "markdown",
      "metadata": {
        "id": "gFPOYIVQNCdD"
      },
      "source": [
        "Note: if get a SettingWithCopyWarning that's ok here.\n",
        "Pandas tries to warn us that we are working with a copy of movies_with_rating,\n",
        "and the changes won't reflace back to the original movies_with_rating dataframe. But that's ok for us"
      ]
    },
    {
      "cell_type": "code",
      "execution_count": 26,
      "metadata": {
        "id": "3DVYIrbDvG4i"
      },
      "outputs": [
        {
          "name": "stderr",
          "output_type": "stream",
          "text": [
            "/tmp/ipykernel_26070/263545949.py:5: SettingWithCopyWarning: \n",
            "A value is trying to be set on a copy of a slice from a DataFrame.\n",
            "Try using .loc[row_indexer,col_indexer] = value instead\n",
            "\n",
            "See the caveats in the documentation: https://pandas.pydata.org/pandas-docs/stable/user_guide/indexing.html#returning-a-view-versus-a-copy\n",
            "  movies_with_ratings['rating_group'] = pd.cut(\n"
          ]
        }
      ],
      "source": [
        "## Q4 part 2 Your code starts here\n",
        "# Now make 'bad', 'fine', 'good' levels for ratings\n",
        "# Assign to new column called 'rating_group'\n",
        "\n",
        "movies_with_ratings['rating_group'] = pd.cut(\n",
        "    movies_with_ratings['rating_mean'], \n",
        "    3, \n",
        "    labels=['bad', 'fine', 'good']\n",
        "    )"
      ]
    },
    {
      "cell_type": "code",
      "execution_count": 27,
      "metadata": {
        "id": "VmC2I-kFwWgo"
      },
      "outputs": [
        {
          "data": {
            "text/html": [
              "<div>\n",
              "<style scoped>\n",
              "    .dataframe tbody tr th:only-of-type {\n",
              "        vertical-align: middle;\n",
              "    }\n",
              "\n",
              "    .dataframe tbody tr th {\n",
              "        vertical-align: top;\n",
              "    }\n",
              "\n",
              "    .dataframe thead th {\n",
              "        text-align: right;\n",
              "    }\n",
              "</style>\n",
              "<table border=\"1\" class=\"dataframe\">\n",
              "  <thead>\n",
              "    <tr style=\"text-align: right;\">\n",
              "      <th></th>\n",
              "      <th>movieId</th>\n",
              "      <th>title</th>\n",
              "      <th>genres</th>\n",
              "      <th>rating_mean</th>\n",
              "      <th>rating_std</th>\n",
              "      <th>rating_count</th>\n",
              "      <th>rating_group</th>\n",
              "    </tr>\n",
              "  </thead>\n",
              "  <tbody>\n",
              "    <tr>\n",
              "      <th>0</th>\n",
              "      <td>1</td>\n",
              "      <td>Toy Story (1995)</td>\n",
              "      <td>Adventure|Animation|Children|Comedy|Fantasy</td>\n",
              "      <td>3.893708</td>\n",
              "      <td>0.921552</td>\n",
              "      <td>57309.0</td>\n",
              "      <td>good</td>\n",
              "    </tr>\n",
              "    <tr>\n",
              "      <th>1</th>\n",
              "      <td>2</td>\n",
              "      <td>Jumanji (1995)</td>\n",
              "      <td>Adventure|Children|Fantasy</td>\n",
              "      <td>3.251527</td>\n",
              "      <td>0.959851</td>\n",
              "      <td>24228.0</td>\n",
              "      <td>good</td>\n",
              "    </tr>\n",
              "    <tr>\n",
              "      <th>2</th>\n",
              "      <td>3</td>\n",
              "      <td>Grumpier Old Men (1995)</td>\n",
              "      <td>Comedy|Romance</td>\n",
              "      <td>3.142028</td>\n",
              "      <td>1.008443</td>\n",
              "      <td>11804.0</td>\n",
              "      <td>fine</td>\n",
              "    </tr>\n",
              "    <tr>\n",
              "      <th>3</th>\n",
              "      <td>4</td>\n",
              "      <td>Waiting to Exhale (1995)</td>\n",
              "      <td>Comedy|Drama|Romance</td>\n",
              "      <td>2.853547</td>\n",
              "      <td>1.108531</td>\n",
              "      <td>2523.0</td>\n",
              "      <td>fine</td>\n",
              "    </tr>\n",
              "    <tr>\n",
              "      <th>4</th>\n",
              "      <td>5</td>\n",
              "      <td>Father of the Bride Part II (1995)</td>\n",
              "      <td>Comedy</td>\n",
              "      <td>3.058434</td>\n",
              "      <td>0.996611</td>\n",
              "      <td>11714.0</td>\n",
              "      <td>fine</td>\n",
              "    </tr>\n",
              "    <tr>\n",
              "      <th>...</th>\n",
              "      <td>...</td>\n",
              "      <td>...</td>\n",
              "      <td>...</td>\n",
              "      <td>...</td>\n",
              "      <td>...</td>\n",
              "      <td>...</td>\n",
              "      <td>...</td>\n",
              "    </tr>\n",
              "    <tr>\n",
              "      <th>61967</th>\n",
              "      <td>207405</td>\n",
              "      <td>Doctor Sleep (2019)</td>\n",
              "      <td>Horror</td>\n",
              "      <td>3.730769</td>\n",
              "      <td>0.785109</td>\n",
              "      <td>39.0</td>\n",
              "      <td>good</td>\n",
              "    </tr>\n",
              "    <tr>\n",
              "      <th>62027</th>\n",
              "      <td>207612</td>\n",
              "      <td>Tell Me Who I Am (2019)</td>\n",
              "      <td>Documentary</td>\n",
              "      <td>3.357143</td>\n",
              "      <td>1.099450</td>\n",
              "      <td>14.0</td>\n",
              "      <td>good</td>\n",
              "    </tr>\n",
              "    <tr>\n",
              "      <th>62088</th>\n",
              "      <td>207830</td>\n",
              "      <td>Terminator: Dark Fate (2019)</td>\n",
              "      <td>Action|Sci-Fi</td>\n",
              "      <td>3.372727</td>\n",
              "      <td>0.794764</td>\n",
              "      <td>55.0</td>\n",
              "      <td>good</td>\n",
              "    </tr>\n",
              "    <tr>\n",
              "      <th>62313</th>\n",
              "      <td>208715</td>\n",
              "      <td>Let It Snow (2019)</td>\n",
              "      <td>Comedy|Romance</td>\n",
              "      <td>2.933333</td>\n",
              "      <td>1.222799</td>\n",
              "      <td>15.0</td>\n",
              "      <td>fine</td>\n",
              "    </tr>\n",
              "    <tr>\n",
              "      <th>62319</th>\n",
              "      <td>208737</td>\n",
              "      <td>Midway (2019)</td>\n",
              "      <td>Action|Drama|War</td>\n",
              "      <td>3.333333</td>\n",
              "      <td>0.887625</td>\n",
              "      <td>12.0</td>\n",
              "      <td>good</td>\n",
              "    </tr>\n",
              "  </tbody>\n",
              "</table>\n",
              "<p>24330 rows × 7 columns</p>\n",
              "</div>"
            ],
            "text/plain": [
              "       movieId                               title  \\\n",
              "0            1                    Toy Story (1995)   \n",
              "1            2                      Jumanji (1995)   \n",
              "2            3             Grumpier Old Men (1995)   \n",
              "3            4            Waiting to Exhale (1995)   \n",
              "4            5  Father of the Bride Part II (1995)   \n",
              "...        ...                                 ...   \n",
              "61967   207405                 Doctor Sleep (2019)   \n",
              "62027   207612             Tell Me Who I Am (2019)   \n",
              "62088   207830        Terminator: Dark Fate (2019)   \n",
              "62313   208715                  Let It Snow (2019)   \n",
              "62319   208737                       Midway (2019)   \n",
              "\n",
              "                                            genres  rating_mean  rating_std  \\\n",
              "0      Adventure|Animation|Children|Comedy|Fantasy     3.893708    0.921552   \n",
              "1                       Adventure|Children|Fantasy     3.251527    0.959851   \n",
              "2                                   Comedy|Romance     3.142028    1.008443   \n",
              "3                             Comedy|Drama|Romance     2.853547    1.108531   \n",
              "4                                           Comedy     3.058434    0.996611   \n",
              "...                                            ...          ...         ...   \n",
              "61967                                       Horror     3.730769    0.785109   \n",
              "62027                                  Documentary     3.357143    1.099450   \n",
              "62088                                Action|Sci-Fi     3.372727    0.794764   \n",
              "62313                               Comedy|Romance     2.933333    1.222799   \n",
              "62319                             Action|Drama|War     3.333333    0.887625   \n",
              "\n",
              "       rating_count rating_group  \n",
              "0           57309.0         good  \n",
              "1           24228.0         good  \n",
              "2           11804.0         fine  \n",
              "3            2523.0         fine  \n",
              "4           11714.0         fine  \n",
              "...             ...          ...  \n",
              "61967          39.0         good  \n",
              "62027          14.0         good  \n",
              "62088          55.0         good  \n",
              "62313          15.0         fine  \n",
              "62319          12.0         good  \n",
              "\n",
              "[24330 rows x 7 columns]"
            ]
          },
          "execution_count": 27,
          "metadata": {},
          "output_type": "execute_result"
        }
      ],
      "source": [
        "# Check it\n",
        "movies_with_ratings"
      ]
    },
    {
      "cell_type": "markdown",
      "metadata": {
        "id": "-AA4ffUqrHoU"
      },
      "source": [
        "Do Toy Story and Jumanji have 'good' ratings?  Does Grumpier Old Men have a 'fair' rating?"
      ]
    },
    {
      "cell_type": "code",
      "execution_count": 28,
      "metadata": {
        "id": "xZpmz44l0AZB"
      },
      "outputs": [
        {
          "name": "stderr",
          "output_type": "stream",
          "text": [
            "/tmp/ipykernel_26070/2632043157.py:3: SettingWithCopyWarning: \n",
            "A value is trying to be set on a copy of a slice from a DataFrame.\n",
            "Try using .loc[row_indexer,col_indexer] = value instead\n",
            "\n",
            "See the caveats in the documentation: https://pandas.pydata.org/pandas-docs/stable/user_guide/indexing.html#returning-a-view-versus-a-copy\n",
            "  movies_with_ratings['rating_agreement'] = pd.cut(\n"
          ]
        }
      ],
      "source": [
        "# Now use cut() again to create your ratings_agreement column.\n",
        "# Use three bins and order of 'agreement', 'average',  and 'controversial'\n",
        "movies_with_ratings['rating_agreement'] = pd.cut(\n",
        "    movies_with_ratings['rating_std'], \n",
        "    3, \n",
        "    labels=['agreement', 'average', 'controversial']\n",
        "    )"
      ]
    },
    {
      "cell_type": "code",
      "execution_count": 49,
      "metadata": {
        "id": "jQ1Nk7nbIkhl"
      },
      "outputs": [
        {
          "name": "stdout",
          "output_type": "stream",
          "text": [
            "rating_group\n",
            "bad     0.678571\n",
            "fine    1.946970\n",
            "good    3.215035\n",
            "dtype: float64\n",
            "rating_group\n",
            "bad     1.943946\n",
            "fine    3.214552\n",
            "good    4.483096\n",
            "dtype: float64\n",
            "rating_agreement\n",
            "agreement        0.000000\n",
            "average          0.690497\n",
            "controversial    1.381137\n",
            "dtype: float64\n",
            "rating_agreement\n",
            "agreement        0.690378\n",
            "average          1.380733\n",
            "controversial    2.071382\n",
            "dtype: float64\n"
          ]
        }
      ],
      "source": [
        "# Check to make sure that your bin categories make sense. e.g. 'good' movies should have higher ratings than 'fine', 'controversial' movies should ... ?\n",
        "mean_min = movies_with_ratings.groupby('rating_group').apply(lambda x: x['rating_mean'].min())\n",
        "mean_max = movies_with_ratings.groupby('rating_group').apply(lambda x: x['rating_mean'].max())\n",
        "print(mean_min)\n",
        "print(mean_max)\n",
        "\n",
        "std_min = movies_with_ratings.groupby('rating_agreement').apply(lambda x: x['rating_std'].min())\n",
        "std_max = movies_with_ratings.groupby('rating_agreement').apply(lambda x: x['rating_std'].max())\n",
        "\n",
        "print(std_min)\n",
        "print(std_max)\n",
        "## Q4 part 2 Your code ends here - Any code outside of these start/end markers won't be graded"
      ]
    },
    {
      "cell_type": "markdown",
      "metadata": {
        "id": "SwMX5K530m-j"
      },
      "source": [
        "###  Exploring our data\n",
        "\n",
        "Making bins like this allows us to figure out things like which movies are both bad, but have differing opinions on.  For example, we can filter out movies that are in the bad category but have a lot of controversy about those ratings.  This could mean they're 'cult classic' movies where despite the low rating some people actually really love the movies.  \n",
        "\n",
        "A dataset like this could be used in a recommendation engine where if you see people liking these 'bad but good' movies you could suggest others that meet the came criteria.  \n",
        "\n",
        "**Task:** There are no points here - only code to let you make figures to see what the dataset could be used for. Also, if this code works it means you probably did your answers above are right :)"
      ]
    },
    {
      "cell_type": "code",
      "execution_count": 30,
      "metadata": {
        "id": "8k2C-Lzs0Z33"
      },
      "outputs": [
        {
          "data": {
            "text/html": [
              "<div>\n",
              "<style scoped>\n",
              "    .dataframe tbody tr th:only-of-type {\n",
              "        vertical-align: middle;\n",
              "    }\n",
              "\n",
              "    .dataframe tbody tr th {\n",
              "        vertical-align: top;\n",
              "    }\n",
              "\n",
              "    .dataframe thead th {\n",
              "        text-align: right;\n",
              "    }\n",
              "</style>\n",
              "<table border=\"1\" class=\"dataframe\">\n",
              "  <thead>\n",
              "    <tr style=\"text-align: right;\">\n",
              "      <th></th>\n",
              "      <th>movieId</th>\n",
              "      <th>title</th>\n",
              "      <th>genres</th>\n",
              "      <th>rating_mean</th>\n",
              "      <th>rating_std</th>\n",
              "      <th>rating_count</th>\n",
              "      <th>rating_group</th>\n",
              "      <th>rating_agreement</th>\n",
              "    </tr>\n",
              "  </thead>\n",
              "  <tbody>\n",
              "    <tr>\n",
              "      <th>8618</th>\n",
              "      <td>26157</td>\n",
              "      <td>Manos: The Hands of Fate (1966)</td>\n",
              "      <td>Horror</td>\n",
              "      <td>1.798165</td>\n",
              "      <td>1.550268</td>\n",
              "      <td>109.0</td>\n",
              "      <td>bad</td>\n",
              "      <td>controversial</td>\n",
              "    </tr>\n",
              "    <tr>\n",
              "      <th>16964</th>\n",
              "      <td>89281</td>\n",
              "      <td>Birdemic: Shock and Terror (2010)</td>\n",
              "      <td>Romance|Thriller</td>\n",
              "      <td>1.521739</td>\n",
              "      <td>1.503492</td>\n",
              "      <td>115.0</td>\n",
              "      <td>bad</td>\n",
              "      <td>controversial</td>\n",
              "    </tr>\n",
              "  </tbody>\n",
              "</table>\n",
              "</div>"
            ],
            "text/plain": [
              "       movieId                              title            genres  \\\n",
              "8618     26157    Manos: The Hands of Fate (1966)            Horror   \n",
              "16964    89281  Birdemic: Shock and Terror (2010)  Romance|Thriller   \n",
              "\n",
              "       rating_mean  rating_std  rating_count rating_group rating_agreement  \n",
              "8618      1.798165    1.550268         109.0          bad    controversial  \n",
              "16964     1.521739    1.503492         115.0          bad    controversial  "
            ]
          },
          "execution_count": 30,
          "metadata": {},
          "output_type": "execute_result"
        }
      ],
      "source": [
        "movies_with_ratings[(movies_with_ratings['rating_group'] == 'bad') &\n",
        "                    (movies_with_ratings['rating_agreement'] == 'controversial') &\n",
        "                    (movies_with_ratings['rating_count'] >= 100)]"
      ]
    },
    {
      "cell_type": "markdown",
      "metadata": {
        "id": "oV_12zdoUn3s"
      },
      "source": [
        "If you have done everything correctly so far, you will get:\n",
        "The Hands of Fate (1966)\tHorror and\tBirdemic: Shock and Terror (2010)\tas the outcome.\n"
      ]
    },
    {
      "cell_type": "markdown",
      "metadata": {
        "id": "zPBvEkD42NDF"
      },
      "source": [
        "## Q5 Grouping within years - [3 point]\n",
        "\n",
        "Now that we've done our overall grouping by movie, let's get a bit more detail about these ratings. Specifically, let's engineer a dataset that breaks down the average rating not only by movie, but also by the year the person provided the review.  This would allow for someone to see which movies continue to do well over time, which ones become more popular, and which ones don't age well!\n",
        "\n",
        "**Task:** You're going to do the following steps:\n",
        "* Create a new `ratings_by_movie_year` that groups both by `movieId` but also by your `review_dt` column.  I want you to group into year intervals.  \n",
        "* Join `movies` to `ratings_by_movie_year` so that you have the summary review statistics for each year the movie has been out\n",
        "* Clean up and filter your dataframe"
      ]
    },
    {
      "cell_type": "markdown",
      "metadata": {
        "id": "tioZCC2YB7Qa"
      },
      "source": [
        "First, create `ratings_by_movie_year`.  You can group by two levels by just adding a list of what levels you want to group by in the `groupby()` statement.  I'll give you some help there, but you have to complete the rest in order to group by movieId first and review_dt second."
      ]
    },
    {
      "cell_type": "code",
      "execution_count": 31,
      "metadata": {
        "id": "nXvUmhqxyiAp"
      },
      "outputs": [],
      "source": [
        "# Note the groupby syntax.  I first am grouping by movieId\n",
        "# But then also am calling dt.year on our datetime column\n",
        "# This will then tell Python to do the aggregations within year as well\n",
        "\n",
        "## Q5 Your code starts here\n",
        "ratings_by_movie_year = ratings.groupby(\n",
        "    ['movieId', ratings['review_dt'].dt.year]).agg(\n",
        "        {'rating': ['mean','std','count']}\n",
        "    )"
      ]
    },
    {
      "cell_type": "code",
      "execution_count": 32,
      "metadata": {
        "id": "jZ8EJYtD0QXM"
      },
      "outputs": [
        {
          "data": {
            "text/html": [
              "<div>\n",
              "<style scoped>\n",
              "    .dataframe tbody tr th:only-of-type {\n",
              "        vertical-align: middle;\n",
              "    }\n",
              "\n",
              "    .dataframe tbody tr th {\n",
              "        vertical-align: top;\n",
              "    }\n",
              "\n",
              "    .dataframe thead tr th {\n",
              "        text-align: left;\n",
              "    }\n",
              "\n",
              "    .dataframe thead tr:last-of-type th {\n",
              "        text-align: right;\n",
              "    }\n",
              "</style>\n",
              "<table border=\"1\" class=\"dataframe\">\n",
              "  <thead>\n",
              "    <tr>\n",
              "      <th></th>\n",
              "      <th></th>\n",
              "      <th colspan=\"3\" halign=\"left\">rating</th>\n",
              "    </tr>\n",
              "    <tr>\n",
              "      <th></th>\n",
              "      <th></th>\n",
              "      <th>mean</th>\n",
              "      <th>std</th>\n",
              "      <th>count</th>\n",
              "    </tr>\n",
              "    <tr>\n",
              "      <th>movieId</th>\n",
              "      <th>review_dt</th>\n",
              "      <th></th>\n",
              "      <th></th>\n",
              "      <th></th>\n",
              "    </tr>\n",
              "  </thead>\n",
              "  <tbody>\n",
              "    <tr>\n",
              "      <th rowspan=\"5\" valign=\"top\">1</th>\n",
              "      <th>1996</th>\n",
              "      <td>4.132756</td>\n",
              "      <td>0.884990</td>\n",
              "      <td>6237</td>\n",
              "    </tr>\n",
              "    <tr>\n",
              "      <th>1997</th>\n",
              "      <td>3.872500</td>\n",
              "      <td>0.894079</td>\n",
              "      <td>6000</td>\n",
              "    </tr>\n",
              "    <tr>\n",
              "      <th>1998</th>\n",
              "      <td>3.889515</td>\n",
              "      <td>0.944972</td>\n",
              "      <td>887</td>\n",
              "    </tr>\n",
              "    <tr>\n",
              "      <th>1999</th>\n",
              "      <td>3.975140</td>\n",
              "      <td>0.913960</td>\n",
              "      <td>2494</td>\n",
              "    </tr>\n",
              "    <tr>\n",
              "      <th>2000</th>\n",
              "      <td>4.136634</td>\n",
              "      <td>0.865127</td>\n",
              "      <td>3535</td>\n",
              "    </tr>\n",
              "  </tbody>\n",
              "</table>\n",
              "</div>"
            ],
            "text/plain": [
              "                     rating                \n",
              "                       mean       std count\n",
              "movieId review_dt                          \n",
              "1       1996       4.132756  0.884990  6237\n",
              "        1997       3.872500  0.894079  6000\n",
              "        1998       3.889515  0.944972   887\n",
              "        1999       3.975140  0.913960  2494\n",
              "        2000       4.136634  0.865127  3535"
            ]
          },
          "execution_count": 32,
          "metadata": {},
          "output_type": "execute_result"
        }
      ],
      "source": [
        "# Check\n",
        "ratings_by_movie_year.head()"
      ]
    },
    {
      "cell_type": "markdown",
      "metadata": {
        "id": "owv03D5lCh6s"
      },
      "source": [
        "You need to rename columns, but this is a bit trickier as you have two levels of your dataframe index. I'm going to give you the code below.  But, what it's doing is resetting that one level of the index `review_dt` and putting it back as a regular column.  I'm then renaming the resulting columns."
      ]
    },
    {
      "cell_type": "code",
      "execution_count": 33,
      "metadata": {
        "id": "J-Xp1BY_dp3r"
      },
      "outputs": [
        {
          "data": {
            "text/html": [
              "<div>\n",
              "<style scoped>\n",
              "    .dataframe tbody tr th:only-of-type {\n",
              "        vertical-align: middle;\n",
              "    }\n",
              "\n",
              "    .dataframe tbody tr th {\n",
              "        vertical-align: top;\n",
              "    }\n",
              "\n",
              "    .dataframe thead th {\n",
              "        text-align: right;\n",
              "    }\n",
              "</style>\n",
              "<table border=\"1\" class=\"dataframe\">\n",
              "  <thead>\n",
              "    <tr style=\"text-align: right;\">\n",
              "      <th></th>\n",
              "      <th>year</th>\n",
              "      <th>rating_mean</th>\n",
              "      <th>rating_std</th>\n",
              "      <th>rating_count</th>\n",
              "    </tr>\n",
              "    <tr>\n",
              "      <th>movieId</th>\n",
              "      <th></th>\n",
              "      <th></th>\n",
              "      <th></th>\n",
              "      <th></th>\n",
              "    </tr>\n",
              "  </thead>\n",
              "  <tbody>\n",
              "    <tr>\n",
              "      <th>1</th>\n",
              "      <td>1996</td>\n",
              "      <td>4.132756</td>\n",
              "      <td>0.884990</td>\n",
              "      <td>6237</td>\n",
              "    </tr>\n",
              "    <tr>\n",
              "      <th>1</th>\n",
              "      <td>1997</td>\n",
              "      <td>3.872500</td>\n",
              "      <td>0.894079</td>\n",
              "      <td>6000</td>\n",
              "    </tr>\n",
              "    <tr>\n",
              "      <th>1</th>\n",
              "      <td>1998</td>\n",
              "      <td>3.889515</td>\n",
              "      <td>0.944972</td>\n",
              "      <td>887</td>\n",
              "    </tr>\n",
              "    <tr>\n",
              "      <th>1</th>\n",
              "      <td>1999</td>\n",
              "      <td>3.975140</td>\n",
              "      <td>0.913960</td>\n",
              "      <td>2494</td>\n",
              "    </tr>\n",
              "    <tr>\n",
              "      <th>1</th>\n",
              "      <td>2000</td>\n",
              "      <td>4.136634</td>\n",
              "      <td>0.865127</td>\n",
              "      <td>3535</td>\n",
              "    </tr>\n",
              "    <tr>\n",
              "      <th>...</th>\n",
              "      <td>...</td>\n",
              "      <td>...</td>\n",
              "      <td>...</td>\n",
              "      <td>...</td>\n",
              "    </tr>\n",
              "    <tr>\n",
              "      <th>209157</th>\n",
              "      <td>2019</td>\n",
              "      <td>1.500000</td>\n",
              "      <td>NaN</td>\n",
              "      <td>1</td>\n",
              "    </tr>\n",
              "    <tr>\n",
              "      <th>209159</th>\n",
              "      <td>2019</td>\n",
              "      <td>3.000000</td>\n",
              "      <td>NaN</td>\n",
              "      <td>1</td>\n",
              "    </tr>\n",
              "    <tr>\n",
              "      <th>209163</th>\n",
              "      <td>2019</td>\n",
              "      <td>4.500000</td>\n",
              "      <td>NaN</td>\n",
              "      <td>1</td>\n",
              "    </tr>\n",
              "    <tr>\n",
              "      <th>209169</th>\n",
              "      <td>2019</td>\n",
              "      <td>3.000000</td>\n",
              "      <td>NaN</td>\n",
              "      <td>1</td>\n",
              "    </tr>\n",
              "    <tr>\n",
              "      <th>209171</th>\n",
              "      <td>2019</td>\n",
              "      <td>3.000000</td>\n",
              "      <td>NaN</td>\n",
              "      <td>1</td>\n",
              "    </tr>\n",
              "  </tbody>\n",
              "</table>\n",
              "<p>323737 rows × 4 columns</p>\n",
              "</div>"
            ],
            "text/plain": [
              "         year  rating_mean  rating_std  rating_count\n",
              "movieId                                             \n",
              "1        1996     4.132756    0.884990          6237\n",
              "1        1997     3.872500    0.894079          6000\n",
              "1        1998     3.889515    0.944972           887\n",
              "1        1999     3.975140    0.913960          2494\n",
              "1        2000     4.136634    0.865127          3535\n",
              "...       ...          ...         ...           ...\n",
              "209157   2019     1.500000         NaN             1\n",
              "209159   2019     3.000000         NaN             1\n",
              "209163   2019     4.500000         NaN             1\n",
              "209169   2019     3.000000         NaN             1\n",
              "209171   2019     3.000000         NaN             1\n",
              "\n",
              "[323737 rows x 4 columns]"
            ]
          },
          "execution_count": 33,
          "metadata": {},
          "output_type": "execute_result"
        }
      ],
      "source": [
        "# Reset index (you cannot rerun this cell (or any cell that includes reset_index) twice unless you re-create ratings_by_movie_year)\n",
        "ratings_by_movie_year = ratings_by_movie_year.reset_index(level = 'review_dt')\n",
        "ratings_by_movie_year.columns = ['year', 'rating_mean', 'rating_std', 'rating_count']\n",
        "ratings_by_movie_year"
      ]
    },
    {
      "cell_type": "code",
      "execution_count": 34,
      "metadata": {
        "id": "q9EFQCOshC4U"
      },
      "outputs": [],
      "source": [
        "# Now join the movie dataframe onto ratings_by_movie_year. Think about the type/direction of your join (left, right, inner, outer, cross)\n",
        "# and how that will affect what data will be kept and what data will be dropped. Think about what makes most sense, if you'll end up with a bunch of extra NAs for data\n",
        "# that don't have corresponding data in the other table, etc\n",
        "ratings_by_movie_year  = ratings_by_movie_year.merge(movies, how='left', on='movieId')\n"
      ]
    },
    {
      "cell_type": "code",
      "execution_count": 35,
      "metadata": {
        "id": "yBLjjJ880vvh"
      },
      "outputs": [
        {
          "data": {
            "text/html": [
              "<div>\n",
              "<style scoped>\n",
              "    .dataframe tbody tr th:only-of-type {\n",
              "        vertical-align: middle;\n",
              "    }\n",
              "\n",
              "    .dataframe tbody tr th {\n",
              "        vertical-align: top;\n",
              "    }\n",
              "\n",
              "    .dataframe thead th {\n",
              "        text-align: right;\n",
              "    }\n",
              "</style>\n",
              "<table border=\"1\" class=\"dataframe\">\n",
              "  <thead>\n",
              "    <tr style=\"text-align: right;\">\n",
              "      <th></th>\n",
              "      <th>movieId</th>\n",
              "      <th>year</th>\n",
              "      <th>rating_mean</th>\n",
              "      <th>rating_std</th>\n",
              "      <th>rating_count</th>\n",
              "      <th>title</th>\n",
              "      <th>genres</th>\n",
              "    </tr>\n",
              "  </thead>\n",
              "  <tbody>\n",
              "    <tr>\n",
              "      <th>0</th>\n",
              "      <td>1</td>\n",
              "      <td>1996</td>\n",
              "      <td>4.132756</td>\n",
              "      <td>0.884990</td>\n",
              "      <td>6237</td>\n",
              "      <td>Toy Story (1995)</td>\n",
              "      <td>Adventure|Animation|Children|Comedy|Fantasy</td>\n",
              "    </tr>\n",
              "    <tr>\n",
              "      <th>1</th>\n",
              "      <td>1</td>\n",
              "      <td>1997</td>\n",
              "      <td>3.872500</td>\n",
              "      <td>0.894079</td>\n",
              "      <td>6000</td>\n",
              "      <td>Toy Story (1995)</td>\n",
              "      <td>Adventure|Animation|Children|Comedy|Fantasy</td>\n",
              "    </tr>\n",
              "    <tr>\n",
              "      <th>2</th>\n",
              "      <td>1</td>\n",
              "      <td>1998</td>\n",
              "      <td>3.889515</td>\n",
              "      <td>0.944972</td>\n",
              "      <td>887</td>\n",
              "      <td>Toy Story (1995)</td>\n",
              "      <td>Adventure|Animation|Children|Comedy|Fantasy</td>\n",
              "    </tr>\n",
              "    <tr>\n",
              "      <th>3</th>\n",
              "      <td>1</td>\n",
              "      <td>1999</td>\n",
              "      <td>3.975140</td>\n",
              "      <td>0.913960</td>\n",
              "      <td>2494</td>\n",
              "      <td>Toy Story (1995)</td>\n",
              "      <td>Adventure|Animation|Children|Comedy|Fantasy</td>\n",
              "    </tr>\n",
              "    <tr>\n",
              "      <th>4</th>\n",
              "      <td>1</td>\n",
              "      <td>2000</td>\n",
              "      <td>4.136634</td>\n",
              "      <td>0.865127</td>\n",
              "      <td>3535</td>\n",
              "      <td>Toy Story (1995)</td>\n",
              "      <td>Adventure|Animation|Children|Comedy|Fantasy</td>\n",
              "    </tr>\n",
              "    <tr>\n",
              "      <th>...</th>\n",
              "      <td>...</td>\n",
              "      <td>...</td>\n",
              "      <td>...</td>\n",
              "      <td>...</td>\n",
              "      <td>...</td>\n",
              "      <td>...</td>\n",
              "      <td>...</td>\n",
              "    </tr>\n",
              "    <tr>\n",
              "      <th>323732</th>\n",
              "      <td>209157</td>\n",
              "      <td>2019</td>\n",
              "      <td>1.500000</td>\n",
              "      <td>NaN</td>\n",
              "      <td>1</td>\n",
              "      <td>We (2018)</td>\n",
              "      <td>Drama</td>\n",
              "    </tr>\n",
              "    <tr>\n",
              "      <th>323733</th>\n",
              "      <td>209159</td>\n",
              "      <td>2019</td>\n",
              "      <td>3.000000</td>\n",
              "      <td>NaN</td>\n",
              "      <td>1</td>\n",
              "      <td>Window of the Soul (2001)</td>\n",
              "      <td>Documentary</td>\n",
              "    </tr>\n",
              "    <tr>\n",
              "      <th>323734</th>\n",
              "      <td>209163</td>\n",
              "      <td>2019</td>\n",
              "      <td>4.500000</td>\n",
              "      <td>NaN</td>\n",
              "      <td>1</td>\n",
              "      <td>Bad Poems (2018)</td>\n",
              "      <td>Comedy|Drama</td>\n",
              "    </tr>\n",
              "    <tr>\n",
              "      <th>323735</th>\n",
              "      <td>209169</td>\n",
              "      <td>2019</td>\n",
              "      <td>3.000000</td>\n",
              "      <td>NaN</td>\n",
              "      <td>1</td>\n",
              "      <td>A Girl Thing (2001)</td>\n",
              "      <td>(no genres listed)</td>\n",
              "    </tr>\n",
              "    <tr>\n",
              "      <th>323736</th>\n",
              "      <td>209171</td>\n",
              "      <td>2019</td>\n",
              "      <td>3.000000</td>\n",
              "      <td>NaN</td>\n",
              "      <td>1</td>\n",
              "      <td>Women of Devil's Island (1962)</td>\n",
              "      <td>Action|Adventure|Drama</td>\n",
              "    </tr>\n",
              "  </tbody>\n",
              "</table>\n",
              "<p>323737 rows × 7 columns</p>\n",
              "</div>"
            ],
            "text/plain": [
              "        movieId  year  rating_mean  rating_std  rating_count  \\\n",
              "0             1  1996     4.132756    0.884990          6237   \n",
              "1             1  1997     3.872500    0.894079          6000   \n",
              "2             1  1998     3.889515    0.944972           887   \n",
              "3             1  1999     3.975140    0.913960          2494   \n",
              "4             1  2000     4.136634    0.865127          3535   \n",
              "...         ...   ...          ...         ...           ...   \n",
              "323732   209157  2019     1.500000         NaN             1   \n",
              "323733   209159  2019     3.000000         NaN             1   \n",
              "323734   209163  2019     4.500000         NaN             1   \n",
              "323735   209169  2019     3.000000         NaN             1   \n",
              "323736   209171  2019     3.000000         NaN             1   \n",
              "\n",
              "                                 title  \\\n",
              "0                     Toy Story (1995)   \n",
              "1                     Toy Story (1995)   \n",
              "2                     Toy Story (1995)   \n",
              "3                     Toy Story (1995)   \n",
              "4                     Toy Story (1995)   \n",
              "...                                ...   \n",
              "323732                       We (2018)   \n",
              "323733       Window of the Soul (2001)   \n",
              "323734                Bad Poems (2018)   \n",
              "323735             A Girl Thing (2001)   \n",
              "323736  Women of Devil's Island (1962)   \n",
              "\n",
              "                                             genres  \n",
              "0       Adventure|Animation|Children|Comedy|Fantasy  \n",
              "1       Adventure|Animation|Children|Comedy|Fantasy  \n",
              "2       Adventure|Animation|Children|Comedy|Fantasy  \n",
              "3       Adventure|Animation|Children|Comedy|Fantasy  \n",
              "4       Adventure|Animation|Children|Comedy|Fantasy  \n",
              "...                                             ...  \n",
              "323732                                        Drama  \n",
              "323733                                  Documentary  \n",
              "323734                                 Comedy|Drama  \n",
              "323735                           (no genres listed)  \n",
              "323736                       Action|Adventure|Drama  \n",
              "\n",
              "[323737 rows x 7 columns]"
            ]
          },
          "execution_count": 35,
          "metadata": {},
          "output_type": "execute_result"
        }
      ],
      "source": [
        "# Check\n",
        "ratings_by_movie_year"
      ]
    },
    {
      "cell_type": "code",
      "execution_count": 36,
      "metadata": {
        "id": "XJ3nToeiDmOi"
      },
      "outputs": [
        {
          "data": {
            "text/plain": [
              "323737"
            ]
          },
          "execution_count": 36,
          "metadata": {},
          "output_type": "execute_result"
        }
      ],
      "source": [
        "# How many rows are there in the resulting dataframe?\n",
        "len(ratings_by_movie_year)\n",
        "## Q5 Your code ends here - Any code outside of these start/end markers won't be graded"
      ]
    },
    {
      "cell_type": "markdown",
      "metadata": {
        "id": "HiEw5JSvrRrL"
      },
      "source": [
        "In your dataframe do you see Toy Story having a mean rating of 4.132756 in 1996?  Is your dataframe 323737 rows × 7 columns?"
      ]
    },
    {
      "cell_type": "markdown",
      "metadata": {
        "id": "3_7syYtlE6gI"
      },
      "source": [
        "### A quick plot\n",
        "\n",
        "Now you have a dataset where one could explore how movies have done over time. I've made a couple plots below to show you want I mean."
      ]
    },
    {
      "cell_type": "code",
      "execution_count": 37,
      "metadata": {
        "id": "XbtQBaBeFkod"
      },
      "outputs": [
        {
          "data": {
            "text/html": [
              "<div>\n",
              "<style scoped>\n",
              "    .dataframe tbody tr th:only-of-type {\n",
              "        vertical-align: middle;\n",
              "    }\n",
              "\n",
              "    .dataframe tbody tr th {\n",
              "        vertical-align: top;\n",
              "    }\n",
              "\n",
              "    .dataframe thead th {\n",
              "        text-align: right;\n",
              "    }\n",
              "</style>\n",
              "<table border=\"1\" class=\"dataframe\">\n",
              "  <thead>\n",
              "    <tr style=\"text-align: right;\">\n",
              "      <th></th>\n",
              "      <th>movieId</th>\n",
              "      <th>title</th>\n",
              "      <th>genres</th>\n",
              "      <th>rating_mean</th>\n",
              "      <th>rating_std</th>\n",
              "      <th>rating_count</th>\n",
              "      <th>rating_group</th>\n",
              "      <th>rating_agreement</th>\n",
              "    </tr>\n",
              "  </thead>\n",
              "  <tbody>\n",
              "    <tr>\n",
              "      <th>351</th>\n",
              "      <td>356</td>\n",
              "      <td>Forrest Gump (1994)</td>\n",
              "      <td>Comedy|Drama|Romance|War</td>\n",
              "      <td>4.048011</td>\n",
              "      <td>0.93881</td>\n",
              "      <td>81491.0</td>\n",
              "      <td>good</td>\n",
              "      <td>average</td>\n",
              "    </tr>\n",
              "  </tbody>\n",
              "</table>\n",
              "</div>"
            ],
            "text/plain": [
              "     movieId                title                    genres  rating_mean  \\\n",
              "351      356  Forrest Gump (1994)  Comedy|Drama|Romance|War     4.048011   \n",
              "\n",
              "     rating_std  rating_count rating_group rating_agreement  \n",
              "351     0.93881       81491.0         good          average  "
            ]
          },
          "execution_count": 37,
          "metadata": {},
          "output_type": "execute_result"
        }
      ],
      "source": [
        "# What movie has the max rating?\n",
        "movies_with_ratings.loc[movies_with_ratings['rating_count'] == movies_with_ratings['rating_count'].max()]"
      ]
    },
    {
      "cell_type": "markdown",
      "metadata": {
        "id": "MiyL7HK-XrfM"
      },
      "source": [
        "\n",
        "If you have done everything correctly you should get Forrest Gump (1994)"
      ]
    },
    {
      "cell_type": "code",
      "execution_count": 38,
      "metadata": {
        "id": "FnlX1JKNhOo_"
      },
      "outputs": [
        {
          "data": {
            "text/plain": [
              "356"
            ]
          },
          "execution_count": 38,
          "metadata": {},
          "output_type": "execute_result"
        }
      ],
      "source": [
        "# Grabbing just the ID for that movie.\n",
        "movies_with_ratings['movieId'][movies_with_ratings['rating_count'] == movies_with_ratings['rating_count'].max()].values[0]"
      ]
    },
    {
      "cell_type": "code",
      "execution_count": 39,
      "metadata": {
        "id": "bImfyPtG088g"
      },
      "outputs": [
        {
          "data": {
            "text/html": [
              "<div>\n",
              "<style scoped>\n",
              "    .dataframe tbody tr th:only-of-type {\n",
              "        vertical-align: middle;\n",
              "    }\n",
              "\n",
              "    .dataframe tbody tr th {\n",
              "        vertical-align: top;\n",
              "    }\n",
              "\n",
              "    .dataframe thead th {\n",
              "        text-align: right;\n",
              "    }\n",
              "</style>\n",
              "<table border=\"1\" class=\"dataframe\">\n",
              "  <thead>\n",
              "    <tr style=\"text-align: right;\">\n",
              "      <th></th>\n",
              "      <th>movieId</th>\n",
              "      <th>year</th>\n",
              "      <th>rating_mean</th>\n",
              "      <th>rating_std</th>\n",
              "      <th>rating_count</th>\n",
              "      <th>title</th>\n",
              "      <th>genres</th>\n",
              "    </tr>\n",
              "  </thead>\n",
              "  <tbody>\n",
              "    <tr>\n",
              "      <th>7927</th>\n",
              "      <td>356</td>\n",
              "      <td>1996</td>\n",
              "      <td>4.120873</td>\n",
              "      <td>0.931022</td>\n",
              "      <td>15264</td>\n",
              "      <td>Forrest Gump (1994)</td>\n",
              "      <td>Comedy|Drama|Romance|War</td>\n",
              "    </tr>\n",
              "    <tr>\n",
              "      <th>7928</th>\n",
              "      <td>356</td>\n",
              "      <td>1997</td>\n",
              "      <td>4.085352</td>\n",
              "      <td>0.919867</td>\n",
              "      <td>1816</td>\n",
              "      <td>Forrest Gump (1994)</td>\n",
              "      <td>Comedy|Drama|Romance|War</td>\n",
              "    </tr>\n",
              "    <tr>\n",
              "      <th>7929</th>\n",
              "      <td>356</td>\n",
              "      <td>1998</td>\n",
              "      <td>4.093245</td>\n",
              "      <td>1.046018</td>\n",
              "      <td>1051</td>\n",
              "      <td>Forrest Gump (1994)</td>\n",
              "      <td>Comedy|Drama|Romance|War</td>\n",
              "    </tr>\n",
              "    <tr>\n",
              "      <th>7930</th>\n",
              "      <td>356</td>\n",
              "      <td>1999</td>\n",
              "      <td>3.787516</td>\n",
              "      <td>1.163514</td>\n",
              "      <td>3172</td>\n",
              "      <td>Forrest Gump (1994)</td>\n",
              "      <td>Comedy|Drama|Romance|War</td>\n",
              "    </tr>\n",
              "    <tr>\n",
              "      <th>7931</th>\n",
              "      <td>356</td>\n",
              "      <td>2000</td>\n",
              "      <td>4.027959</td>\n",
              "      <td>1.051722</td>\n",
              "      <td>3827</td>\n",
              "      <td>Forrest Gump (1994)</td>\n",
              "      <td>Comedy|Drama|Romance|War</td>\n",
              "    </tr>\n",
              "    <tr>\n",
              "      <th>7932</th>\n",
              "      <td>356</td>\n",
              "      <td>2001</td>\n",
              "      <td>4.119985</td>\n",
              "      <td>0.993906</td>\n",
              "      <td>2667</td>\n",
              "      <td>Forrest Gump (1994)</td>\n",
              "      <td>Comedy|Drama|Romance|War</td>\n",
              "    </tr>\n",
              "    <tr>\n",
              "      <th>7933</th>\n",
              "      <td>356</td>\n",
              "      <td>2002</td>\n",
              "      <td>3.981262</td>\n",
              "      <td>1.014716</td>\n",
              "      <td>1601</td>\n",
              "      <td>Forrest Gump (1994)</td>\n",
              "      <td>Comedy|Drama|Romance|War</td>\n",
              "    </tr>\n",
              "    <tr>\n",
              "      <th>7934</th>\n",
              "      <td>356</td>\n",
              "      <td>2003</td>\n",
              "      <td>3.973144</td>\n",
              "      <td>0.973239</td>\n",
              "      <td>1657</td>\n",
              "      <td>Forrest Gump (1994)</td>\n",
              "      <td>Comedy|Drama|Romance|War</td>\n",
              "    </tr>\n",
              "    <tr>\n",
              "      <th>7935</th>\n",
              "      <td>356</td>\n",
              "      <td>2004</td>\n",
              "      <td>3.878659</td>\n",
              "      <td>0.951275</td>\n",
              "      <td>2596</td>\n",
              "      <td>Forrest Gump (1994)</td>\n",
              "      <td>Comedy|Drama|Romance|War</td>\n",
              "    </tr>\n",
              "    <tr>\n",
              "      <th>7936</th>\n",
              "      <td>356</td>\n",
              "      <td>2005</td>\n",
              "      <td>3.834838</td>\n",
              "      <td>0.953641</td>\n",
              "      <td>3987</td>\n",
              "      <td>Forrest Gump (1994)</td>\n",
              "      <td>Comedy|Drama|Romance|War</td>\n",
              "    </tr>\n",
              "    <tr>\n",
              "      <th>7937</th>\n",
              "      <td>356</td>\n",
              "      <td>2006</td>\n",
              "      <td>3.976765</td>\n",
              "      <td>0.871749</td>\n",
              "      <td>2862</td>\n",
              "      <td>Forrest Gump (1994)</td>\n",
              "      <td>Comedy|Drama|Romance|War</td>\n",
              "    </tr>\n",
              "    <tr>\n",
              "      <th>7938</th>\n",
              "      <td>356</td>\n",
              "      <td>2007</td>\n",
              "      <td>3.977173</td>\n",
              "      <td>0.907365</td>\n",
              "      <td>2957</td>\n",
              "      <td>Forrest Gump (1994)</td>\n",
              "      <td>Comedy|Drama|Romance|War</td>\n",
              "    </tr>\n",
              "    <tr>\n",
              "      <th>7939</th>\n",
              "      <td>356</td>\n",
              "      <td>2008</td>\n",
              "      <td>4.035546</td>\n",
              "      <td>0.864828</td>\n",
              "      <td>3404</td>\n",
              "      <td>Forrest Gump (1994)</td>\n",
              "      <td>Comedy|Drama|Romance|War</td>\n",
              "    </tr>\n",
              "    <tr>\n",
              "      <th>7940</th>\n",
              "      <td>356</td>\n",
              "      <td>2009</td>\n",
              "      <td>4.046019</td>\n",
              "      <td>0.867644</td>\n",
              "      <td>2336</td>\n",
              "      <td>Forrest Gump (1994)</td>\n",
              "      <td>Comedy|Drama|Romance|War</td>\n",
              "    </tr>\n",
              "    <tr>\n",
              "      <th>7941</th>\n",
              "      <td>356</td>\n",
              "      <td>2010</td>\n",
              "      <td>4.084059</td>\n",
              "      <td>0.819367</td>\n",
              "      <td>2296</td>\n",
              "      <td>Forrest Gump (1994)</td>\n",
              "      <td>Comedy|Drama|Romance|War</td>\n",
              "    </tr>\n",
              "    <tr>\n",
              "      <th>7942</th>\n",
              "      <td>356</td>\n",
              "      <td>2011</td>\n",
              "      <td>4.076006</td>\n",
              "      <td>0.827887</td>\n",
              "      <td>1888</td>\n",
              "      <td>Forrest Gump (1994)</td>\n",
              "      <td>Comedy|Drama|Romance|War</td>\n",
              "    </tr>\n",
              "    <tr>\n",
              "      <th>7943</th>\n",
              "      <td>356</td>\n",
              "      <td>2012</td>\n",
              "      <td>4.075663</td>\n",
              "      <td>0.880697</td>\n",
              "      <td>1771</td>\n",
              "      <td>Forrest Gump (1994)</td>\n",
              "      <td>Comedy|Drama|Romance|War</td>\n",
              "    </tr>\n",
              "    <tr>\n",
              "      <th>7944</th>\n",
              "      <td>356</td>\n",
              "      <td>2013</td>\n",
              "      <td>4.103103</td>\n",
              "      <td>0.874500</td>\n",
              "      <td>1547</td>\n",
              "      <td>Forrest Gump (1994)</td>\n",
              "      <td>Comedy|Drama|Romance|War</td>\n",
              "    </tr>\n",
              "    <tr>\n",
              "      <th>7945</th>\n",
              "      <td>356</td>\n",
              "      <td>2014</td>\n",
              "      <td>4.112297</td>\n",
              "      <td>0.886368</td>\n",
              "      <td>1358</td>\n",
              "      <td>Forrest Gump (1994)</td>\n",
              "      <td>Comedy|Drama|Romance|War</td>\n",
              "    </tr>\n",
              "    <tr>\n",
              "      <th>7946</th>\n",
              "      <td>356</td>\n",
              "      <td>2015</td>\n",
              "      <td>4.082312</td>\n",
              "      <td>0.914311</td>\n",
              "      <td>6530</td>\n",
              "      <td>Forrest Gump (1994)</td>\n",
              "      <td>Comedy|Drama|Romance|War</td>\n",
              "    </tr>\n",
              "    <tr>\n",
              "      <th>7947</th>\n",
              "      <td>356</td>\n",
              "      <td>2016</td>\n",
              "      <td>4.060911</td>\n",
              "      <td>0.926351</td>\n",
              "      <td>5623</td>\n",
              "      <td>Forrest Gump (1994)</td>\n",
              "      <td>Comedy|Drama|Romance|War</td>\n",
              "    </tr>\n",
              "    <tr>\n",
              "      <th>7948</th>\n",
              "      <td>356</td>\n",
              "      <td>2017</td>\n",
              "      <td>4.114498</td>\n",
              "      <td>0.903170</td>\n",
              "      <td>4904</td>\n",
              "      <td>Forrest Gump (1994)</td>\n",
              "      <td>Comedy|Drama|Romance|War</td>\n",
              "    </tr>\n",
              "    <tr>\n",
              "      <th>7949</th>\n",
              "      <td>356</td>\n",
              "      <td>2018</td>\n",
              "      <td>4.126671</td>\n",
              "      <td>0.922415</td>\n",
              "      <td>3442</td>\n",
              "      <td>Forrest Gump (1994)</td>\n",
              "      <td>Comedy|Drama|Romance|War</td>\n",
              "    </tr>\n",
              "    <tr>\n",
              "      <th>7950</th>\n",
              "      <td>356</td>\n",
              "      <td>2019</td>\n",
              "      <td>4.120954</td>\n",
              "      <td>0.882026</td>\n",
              "      <td>2935</td>\n",
              "      <td>Forrest Gump (1994)</td>\n",
              "      <td>Comedy|Drama|Romance|War</td>\n",
              "    </tr>\n",
              "  </tbody>\n",
              "</table>\n",
              "</div>"
            ],
            "text/plain": [
              "      movieId  year  rating_mean  rating_std  rating_count  \\\n",
              "7927      356  1996     4.120873    0.931022         15264   \n",
              "7928      356  1997     4.085352    0.919867          1816   \n",
              "7929      356  1998     4.093245    1.046018          1051   \n",
              "7930      356  1999     3.787516    1.163514          3172   \n",
              "7931      356  2000     4.027959    1.051722          3827   \n",
              "7932      356  2001     4.119985    0.993906          2667   \n",
              "7933      356  2002     3.981262    1.014716          1601   \n",
              "7934      356  2003     3.973144    0.973239          1657   \n",
              "7935      356  2004     3.878659    0.951275          2596   \n",
              "7936      356  2005     3.834838    0.953641          3987   \n",
              "7937      356  2006     3.976765    0.871749          2862   \n",
              "7938      356  2007     3.977173    0.907365          2957   \n",
              "7939      356  2008     4.035546    0.864828          3404   \n",
              "7940      356  2009     4.046019    0.867644          2336   \n",
              "7941      356  2010     4.084059    0.819367          2296   \n",
              "7942      356  2011     4.076006    0.827887          1888   \n",
              "7943      356  2012     4.075663    0.880697          1771   \n",
              "7944      356  2013     4.103103    0.874500          1547   \n",
              "7945      356  2014     4.112297    0.886368          1358   \n",
              "7946      356  2015     4.082312    0.914311          6530   \n",
              "7947      356  2016     4.060911    0.926351          5623   \n",
              "7948      356  2017     4.114498    0.903170          4904   \n",
              "7949      356  2018     4.126671    0.922415          3442   \n",
              "7950      356  2019     4.120954    0.882026          2935   \n",
              "\n",
              "                    title                    genres  \n",
              "7927  Forrest Gump (1994)  Comedy|Drama|Romance|War  \n",
              "7928  Forrest Gump (1994)  Comedy|Drama|Romance|War  \n",
              "7929  Forrest Gump (1994)  Comedy|Drama|Romance|War  \n",
              "7930  Forrest Gump (1994)  Comedy|Drama|Romance|War  \n",
              "7931  Forrest Gump (1994)  Comedy|Drama|Romance|War  \n",
              "7932  Forrest Gump (1994)  Comedy|Drama|Romance|War  \n",
              "7933  Forrest Gump (1994)  Comedy|Drama|Romance|War  \n",
              "7934  Forrest Gump (1994)  Comedy|Drama|Romance|War  \n",
              "7935  Forrest Gump (1994)  Comedy|Drama|Romance|War  \n",
              "7936  Forrest Gump (1994)  Comedy|Drama|Romance|War  \n",
              "7937  Forrest Gump (1994)  Comedy|Drama|Romance|War  \n",
              "7938  Forrest Gump (1994)  Comedy|Drama|Romance|War  \n",
              "7939  Forrest Gump (1994)  Comedy|Drama|Romance|War  \n",
              "7940  Forrest Gump (1994)  Comedy|Drama|Romance|War  \n",
              "7941  Forrest Gump (1994)  Comedy|Drama|Romance|War  \n",
              "7942  Forrest Gump (1994)  Comedy|Drama|Romance|War  \n",
              "7943  Forrest Gump (1994)  Comedy|Drama|Romance|War  \n",
              "7944  Forrest Gump (1994)  Comedy|Drama|Romance|War  \n",
              "7945  Forrest Gump (1994)  Comedy|Drama|Romance|War  \n",
              "7946  Forrest Gump (1994)  Comedy|Drama|Romance|War  \n",
              "7947  Forrest Gump (1994)  Comedy|Drama|Romance|War  \n",
              "7948  Forrest Gump (1994)  Comedy|Drama|Romance|War  \n",
              "7949  Forrest Gump (1994)  Comedy|Drama|Romance|War  \n",
              "7950  Forrest Gump (1994)  Comedy|Drama|Romance|War  "
            ]
          },
          "execution_count": 39,
          "metadata": {},
          "output_type": "execute_result"
        }
      ],
      "source": [
        "# Forest gump has been reviewed over 80000 times!\n",
        "# Let's extract that movie id to an object and then make just that dataframe\n",
        "most_viewed_id = movies_with_ratings['movieId'][movies_with_ratings['rating_count'] == movies_with_ratings['rating_count'].max()].values[0]\n",
        "\n",
        "most_viewed_df = ratings_by_movie_year[ratings_by_movie_year['movieId'] == most_viewed_id]\n",
        "most_viewed_df"
      ]
    },
    {
      "cell_type": "code",
      "execution_count": 40,
      "metadata": {
        "id": "eAjP5del1KtX"
      },
      "outputs": [
        {
          "data": {
            "text/plain": [
              "<Axes: xlabel='year', ylabel='rating_mean'>"
            ]
          },
          "execution_count": 40,
          "metadata": {},
          "output_type": "execute_result"
        },
        {
          "data": {
            "image/png": "[encoded data removed]",
            "text/plain": [
              "<Figure size 640x480 with 1 Axes>"
            ]
          },
          "metadata": {},
          "output_type": "display_data"
        }
      ],
      "source": [
        "#  A quick lineplot shows that although forest gump has a really high rating on average, it seems to have some bad years for some reason.\n",
        "sns.lineplot(data = most_viewed_df, x = 'year', y = 'rating_mean')"
      ]
    },
    {
      "cell_type": "markdown",
      "metadata": {
        "id": "XUJh36KJHR1W"
      },
      "source": [
        "You can also look up some of your favorite movies.  I actually love the movie 'Dredd', even though many people hated it.  We can search in the titles for movies we like, and then call that ID to filter a new dataframe.  We can then make some plots"
      ]
    },
    {
      "cell_type": "code",
      "execution_count": 41,
      "metadata": {
        "id": "XmVzdCTNKRtI"
      },
      "outputs": [
        {
          "data": {
            "text/html": [
              "<div>\n",
              "<style scoped>\n",
              "    .dataframe tbody tr th:only-of-type {\n",
              "        vertical-align: middle;\n",
              "    }\n",
              "\n",
              "    .dataframe tbody tr th {\n",
              "        vertical-align: top;\n",
              "    }\n",
              "\n",
              "    .dataframe thead th {\n",
              "        text-align: right;\n",
              "    }\n",
              "</style>\n",
              "<table border=\"1\" class=\"dataframe\">\n",
              "  <thead>\n",
              "    <tr style=\"text-align: right;\">\n",
              "      <th></th>\n",
              "      <th>movieId</th>\n",
              "      <th>title</th>\n",
              "      <th>genres</th>\n",
              "      <th>rating_mean</th>\n",
              "      <th>rating_std</th>\n",
              "      <th>rating_count</th>\n",
              "      <th>rating_group</th>\n",
              "      <th>rating_agreement</th>\n",
              "    </tr>\n",
              "  </thead>\n",
              "  <tbody>\n",
              "    <tr>\n",
              "      <th>171</th>\n",
              "      <td>173</td>\n",
              "      <td>Judge Dredd (1995)</td>\n",
              "      <td>Action|Crime|Sci-Fi</td>\n",
              "      <td>2.555360</td>\n",
              "      <td>1.039140</td>\n",
              "      <td>14758.0</td>\n",
              "      <td>fine</td>\n",
              "      <td>average</td>\n",
              "    </tr>\n",
              "    <tr>\n",
              "      <th>18491</th>\n",
              "      <td>96737</td>\n",
              "      <td>Dredd (2012)</td>\n",
              "      <td>Action|Sci-Fi</td>\n",
              "      <td>3.569671</td>\n",
              "      <td>0.981699</td>\n",
              "      <td>3495.0</td>\n",
              "      <td>good</td>\n",
              "      <td>average</td>\n",
              "    </tr>\n",
              "  </tbody>\n",
              "</table>\n",
              "</div>"
            ],
            "text/plain": [
              "       movieId               title               genres  rating_mean  \\\n",
              "171        173  Judge Dredd (1995)  Action|Crime|Sci-Fi     2.555360   \n",
              "18491    96737        Dredd (2012)        Action|Sci-Fi     3.569671   \n",
              "\n",
              "       rating_std  rating_count rating_group rating_agreement  \n",
              "171      1.039140       14758.0         fine          average  \n",
              "18491    0.981699        3495.0         good          average  "
            ]
          },
          "execution_count": 41,
          "metadata": {},
          "output_type": "execute_result"
        }
      ],
      "source": [
        "# Search for Dredd\n",
        "movies_with_ratings[movies_with_ratings['title'].str.contains('Dredd')]"
      ]
    },
    {
      "cell_type": "code",
      "execution_count": 42,
      "metadata": {
        "id": "cHvRgMtcHQR5"
      },
      "outputs": [
        {
          "data": {
            "text/html": [
              "<div>\n",
              "<style scoped>\n",
              "    .dataframe tbody tr th:only-of-type {\n",
              "        vertical-align: middle;\n",
              "    }\n",
              "\n",
              "    .dataframe tbody tr th {\n",
              "        vertical-align: top;\n",
              "    }\n",
              "\n",
              "    .dataframe thead th {\n",
              "        text-align: right;\n",
              "    }\n",
              "</style>\n",
              "<table border=\"1\" class=\"dataframe\">\n",
              "  <thead>\n",
              "    <tr style=\"text-align: right;\">\n",
              "      <th></th>\n",
              "      <th>movieId</th>\n",
              "      <th>year</th>\n",
              "      <th>rating_mean</th>\n",
              "      <th>rating_std</th>\n",
              "      <th>rating_count</th>\n",
              "      <th>title</th>\n",
              "      <th>genres</th>\n",
              "    </tr>\n",
              "  </thead>\n",
              "  <tbody>\n",
              "    <tr>\n",
              "      <th>226314</th>\n",
              "      <td>96737</td>\n",
              "      <td>2012</td>\n",
              "      <td>3.707317</td>\n",
              "      <td>0.702514</td>\n",
              "      <td>82</td>\n",
              "      <td>Dredd (2012)</td>\n",
              "      <td>Action|Sci-Fi</td>\n",
              "    </tr>\n",
              "    <tr>\n",
              "      <th>226315</th>\n",
              "      <td>96737</td>\n",
              "      <td>2013</td>\n",
              "      <td>3.456989</td>\n",
              "      <td>0.832099</td>\n",
              "      <td>279</td>\n",
              "      <td>Dredd (2012)</td>\n",
              "      <td>Action|Sci-Fi</td>\n",
              "    </tr>\n",
              "    <tr>\n",
              "      <th>226316</th>\n",
              "      <td>96737</td>\n",
              "      <td>2014</td>\n",
              "      <td>3.496667</td>\n",
              "      <td>0.947439</td>\n",
              "      <td>150</td>\n",
              "      <td>Dredd (2012)</td>\n",
              "      <td>Action|Sci-Fi</td>\n",
              "    </tr>\n",
              "    <tr>\n",
              "      <th>226317</th>\n",
              "      <td>96737</td>\n",
              "      <td>2015</td>\n",
              "      <td>3.543118</td>\n",
              "      <td>1.017194</td>\n",
              "      <td>603</td>\n",
              "      <td>Dredd (2012)</td>\n",
              "      <td>Action|Sci-Fi</td>\n",
              "    </tr>\n",
              "    <tr>\n",
              "      <th>226318</th>\n",
              "      <td>96737</td>\n",
              "      <td>2016</td>\n",
              "      <td>3.576220</td>\n",
              "      <td>1.004333</td>\n",
              "      <td>656</td>\n",
              "      <td>Dredd (2012)</td>\n",
              "      <td>Action|Sci-Fi</td>\n",
              "    </tr>\n",
              "    <tr>\n",
              "      <th>226319</th>\n",
              "      <td>96737</td>\n",
              "      <td>2017</td>\n",
              "      <td>3.552011</td>\n",
              "      <td>1.030304</td>\n",
              "      <td>721</td>\n",
              "      <td>Dredd (2012)</td>\n",
              "      <td>Action|Sci-Fi</td>\n",
              "    </tr>\n",
              "    <tr>\n",
              "      <th>226320</th>\n",
              "      <td>96737</td>\n",
              "      <td>2018</td>\n",
              "      <td>3.571839</td>\n",
              "      <td>0.964888</td>\n",
              "      <td>522</td>\n",
              "      <td>Dredd (2012)</td>\n",
              "      <td>Action|Sci-Fi</td>\n",
              "    </tr>\n",
              "    <tr>\n",
              "      <th>226321</th>\n",
              "      <td>96737</td>\n",
              "      <td>2019</td>\n",
              "      <td>3.682573</td>\n",
              "      <td>0.973061</td>\n",
              "      <td>482</td>\n",
              "      <td>Dredd (2012)</td>\n",
              "      <td>Action|Sci-Fi</td>\n",
              "    </tr>\n",
              "  </tbody>\n",
              "</table>\n",
              "</div>"
            ],
            "text/plain": [
              "        movieId  year  rating_mean  rating_std  rating_count         title  \\\n",
              "226314    96737  2012     3.707317    0.702514            82  Dredd (2012)   \n",
              "226315    96737  2013     3.456989    0.832099           279  Dredd (2012)   \n",
              "226316    96737  2014     3.496667    0.947439           150  Dredd (2012)   \n",
              "226317    96737  2015     3.543118    1.017194           603  Dredd (2012)   \n",
              "226318    96737  2016     3.576220    1.004333           656  Dredd (2012)   \n",
              "226319    96737  2017     3.552011    1.030304           721  Dredd (2012)   \n",
              "226320    96737  2018     3.571839    0.964888           522  Dredd (2012)   \n",
              "226321    96737  2019     3.682573    0.973061           482  Dredd (2012)   \n",
              "\n",
              "               genres  \n",
              "226314  Action|Sci-Fi  \n",
              "226315  Action|Sci-Fi  \n",
              "226316  Action|Sci-Fi  \n",
              "226317  Action|Sci-Fi  \n",
              "226318  Action|Sci-Fi  \n",
              "226319  Action|Sci-Fi  \n",
              "226320  Action|Sci-Fi  \n",
              "226321  Action|Sci-Fi  "
            ]
          },
          "execution_count": 42,
          "metadata": {},
          "output_type": "execute_result"
        }
      ],
      "source": [
        "# Call the dredd to make a dataframe\n",
        "dredd_id = movies_with_ratings['movieId'][movies_with_ratings['title'].str.contains('^Dredd')].values[0]\n",
        "dredd_df = ratings_by_movie_year[ratings_by_movie_year['movieId'] == dredd_id]\n",
        "dredd_df"
      ]
    },
    {
      "cell_type": "code",
      "execution_count": 43,
      "metadata": {
        "id": "AibrzL2qK82t"
      },
      "outputs": [
        {
          "data": {
            "text/plain": [
              "<Axes: xlabel='year', ylabel='rating_mean'>"
            ]
          },
          "execution_count": 43,
          "metadata": {},
          "output_type": "execute_result"
        },
        {
          "data": {
            "image/png": "[encoded data removed]",
            "text/plain": [
              "<Figure size 640x480 with 1 Axes>"
            ]
          },
          "metadata": {},
          "output_type": "display_data"
        }
      ],
      "source": [
        "# Our plot shows that the year after release it was reviewed pretty poorly,\n",
        "# but the score gradually grew as people realized how awesome it was :)\n",
        "sns.lineplot(x = 'year', y = 'rating_mean', data = dredd_df)"
      ]
    }
  ],
  "metadata": {
    "colab": {
      "include_colab_link": true,
      "provenance": []
    },
    "kernelspec": {
      "display_name": "Python 3",
      "name": "python3"
    },
    "language_info": {
      "codemirror_mode": {
        "name": "ipython",
        "version": 3
      },
      "file_extension": ".py",
      "mimetype": "text/x-python",
      "name": "python",
      "nbconvert_exporter": "python",
      "pygments_lexer": "ipython3",
      "version": "3.11.4"
    }
  },
  "nbformat": 4,
  "nbformat_minor": 0
}
