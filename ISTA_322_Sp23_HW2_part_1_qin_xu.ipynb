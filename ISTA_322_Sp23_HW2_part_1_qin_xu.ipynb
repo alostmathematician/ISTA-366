{
  "nbformat": 4,
  "nbformat_minor": 0,
  "metadata": {
    "colab": {
      "provenance": [],
      "include_colab_link": true
    },
    "kernelspec": {
      "name": "python3",
      "display_name": "Python 3"
    }
  },
  "cells": [
    {
      "cell_type": "markdown",
      "metadata": {
        "id": "view-in-github",
        "colab_type": "text"
      },
      "source": [
        "<a href=\"https://colab.research.google.com/github/alostmathematician/ISTA-366/blob/main/ISTA_322_Sp23_HW2_part_1_qin_xu.ipynb\" target=\"_parent\"><img src=\"https://colab.research.google.com/assets/colab-badge.svg\" alt=\"Open In Colab\"/></a>"
      ]
    },
    {
      "cell_type": "markdown",
      "metadata": {
        "id": "Hm-lEcSS1qVm"
      },
      "source": [
        "# HW2 - Part 1: Movies!\n",
        "\n",
        "\n"
      ]
    },
    {
      "cell_type": "markdown",
      "source": [
        "# Reminder about Submission Instructions\n",
        "\n",
        "1) First create a copy of this notebook in your drive and rename it so that it contains the course number (ISTA322), the semester (Sp22 for Spring 2022, Su22 for Summer 2022, and Fa22 for Fall 2022), the assigment code (HW2 for this assignment) and your name.\n",
        "\n",
        "    e.g. my copy for Spring 2023 would be ISTA_322_Sp23_HW2_part_1_dan_charbonneau)\n",
        "\n",
        "2) When you are ready to submit. Prepare three files: the python file (File->Download->Download .py), the notebook file (File->Download->Download .ipynb), and PDF version of your notebook (after running all cells). Note: you can take a screenshot and create the pdf out of them.\n",
        "\n",
        "3) Create a new directory named firstname_lastname_hw1 (e.g my directory would be dan_charbonneau_hw2_part1) put all three files in it. Compress (Zip) the folder you created with the files inside of it and submit this .zip file to D2L.\n",
        "\n",
        "**incorrect filenames or submission formats will result in a loss of 50% of your grade**"
      ],
      "metadata": {
        "id": "DSQNkoMn2UL_"
      }
    },
    {
      "cell_type": "markdown",
      "metadata": {
        "id": "4dK6_6V0_VY0"
      },
      "source": [
        "## Wranging and aggregating movie review data\n",
        "\n",
        "The website MovieLens.com has a research group which provides open access to millions of reviews, for free!  We're going to work with those data for this homework.  [Feel free to check out the website here.](https://grouplens.org/datasets/movielens/)  You can go and download the raw data, but in order to make things a bit easier, the files have been uploaded the Google drive for fast direct downloads.  \n",
        "\n",
        "There are two datasets we'll be working with.\n",
        "* movies - this is a file of 60,000+ movies\n",
        "* reviews - this is a file of 25 *million* individual reviews for the 60k movies\n",
        "\n",
        "The goal for this section of the homework is to do two types of data aggregations that will allow for someone to make inferences on which movies were the most popular, reviewed, polarizing and were cult classics.  \n",
        "\n",
        "To do this we'll first start by making a simple data set that brings just overall review properties together with movies.  We'll then do some deeper groupings to create a dataset that looks at the same properties but over time."
      ]
    },
    {
      "cell_type": "markdown",
      "metadata": {
        "id": "EGSFQInVD6ws"
      },
      "source": [
        "### Data first\n",
        "\n",
        "Let's bring in our two files and libraries.  The ratings file is understandably large.  So it's a good idea to download it and then save a copy as something else and work with that.  This way if you mess up you don't have to download it all over again\n"
      ]
    },
    {
      "cell_type": "code",
      "metadata": {
        "id": "39GB_QJjD57f"
      },
      "source": [
        "# Libraries\n",
        "import pandas as pd\n",
        "from datetime import datetime\n",
        "import seaborn as sns\n",
        "import matplotlib.pyplot as plt\n",
        "import numpy as np\n",
        "\n"
      ],
      "execution_count": null,
      "outputs": []
    },
    {
      "cell_type": "code",
      "metadata": {
        "id": "6MZ0784dEfia"
      },
      "source": [
        "# Movies data\n",
        "movies = pd.read_csv('https://itsa322.s3.us-east-2.amazonaws.com/movies.csv')"
      ],
      "execution_count": null,
      "outputs": []
    },
    {
      "cell_type": "code",
      "source": [
        "movies"
      ],
      "metadata": {
        "id": "eIjN-nKyvnbu",
        "colab": {
          "base_uri": "https://localhost:8080/",
          "height": 419
        },
        "outputId": "206b3ba0-107e-4eac-96d9-0a2e98b69242"
      },
      "execution_count": null,
      "outputs": [
        {
          "output_type": "execute_result",
          "data": {
            "text/plain": [
              "       movieId                               title  \\\n",
              "0            1                    Toy Story (1995)   \n",
              "1            2                      Jumanji (1995)   \n",
              "2            3             Grumpier Old Men (1995)   \n",
              "3            4            Waiting to Exhale (1995)   \n",
              "4            5  Father of the Bride Part II (1995)   \n",
              "...        ...                                 ...   \n",
              "62418   209157                           We (2018)   \n",
              "62419   209159           Window of the Soul (2001)   \n",
              "62420   209163                    Bad Poems (2018)   \n",
              "62421   209169                 A Girl Thing (2001)   \n",
              "62422   209171      Women of Devil's Island (1962)   \n",
              "\n",
              "                                            genres  \n",
              "0      Adventure|Animation|Children|Comedy|Fantasy  \n",
              "1                       Adventure|Children|Fantasy  \n",
              "2                                   Comedy|Romance  \n",
              "3                             Comedy|Drama|Romance  \n",
              "4                                           Comedy  \n",
              "...                                            ...  \n",
              "62418                                        Drama  \n",
              "62419                                  Documentary  \n",
              "62420                                 Comedy|Drama  \n",
              "62421                           (no genres listed)  \n",
              "62422                       Action|Adventure|Drama  \n",
              "\n",
              "[62423 rows x 3 columns]"
            ],
            "text/html": [
              "\n",
              "  <div id=\"df-1c3150a2-0207-429e-a2e9-033756ab1278\">\n",
              "    <div class=\"colab-df-container\">\n",
              "      <div>\n",
              "<style scoped>\n",
              "    .dataframe tbody tr th:only-of-type {\n",
              "        vertical-align: middle;\n",
              "    }\n",
              "\n",
              "    .dataframe tbody tr th {\n",
              "        vertical-align: top;\n",
              "    }\n",
              "\n",
              "    .dataframe thead th {\n",
              "        text-align: right;\n",
              "    }\n",
              "</style>\n",
              "<table border=\"1\" class=\"dataframe\">\n",
              "  <thead>\n",
              "    <tr style=\"text-align: right;\">\n",
              "      <th></th>\n",
              "      <th>movieId</th>\n",
              "      <th>title</th>\n",
              "      <th>genres</th>\n",
              "    </tr>\n",
              "  </thead>\n",
              "  <tbody>\n",
              "    <tr>\n",
              "      <th>0</th>\n",
              "      <td>1</td>\n",
              "      <td>Toy Story (1995)</td>\n",
              "      <td>Adventure|Animation|Children|Comedy|Fantasy</td>\n",
              "    </tr>\n",
              "    <tr>\n",
              "      <th>1</th>\n",
              "      <td>2</td>\n",
              "      <td>Jumanji (1995)</td>\n",
              "      <td>Adventure|Children|Fantasy</td>\n",
              "    </tr>\n",
              "    <tr>\n",
              "      <th>2</th>\n",
              "      <td>3</td>\n",
              "      <td>Grumpier Old Men (1995)</td>\n",
              "      <td>Comedy|Romance</td>\n",
              "    </tr>\n",
              "    <tr>\n",
              "      <th>3</th>\n",
              "      <td>4</td>\n",
              "      <td>Waiting to Exhale (1995)</td>\n",
              "      <td>Comedy|Drama|Romance</td>\n",
              "    </tr>\n",
              "    <tr>\n",
              "      <th>4</th>\n",
              "      <td>5</td>\n",
              "      <td>Father of the Bride Part II (1995)</td>\n",
              "      <td>Comedy</td>\n",
              "    </tr>\n",
              "    <tr>\n",
              "      <th>...</th>\n",
              "      <td>...</td>\n",
              "      <td>...</td>\n",
              "      <td>...</td>\n",
              "    </tr>\n",
              "    <tr>\n",
              "      <th>62418</th>\n",
              "      <td>209157</td>\n",
              "      <td>We (2018)</td>\n",
              "      <td>Drama</td>\n",
              "    </tr>\n",
              "    <tr>\n",
              "      <th>62419</th>\n",
              "      <td>209159</td>\n",
              "      <td>Window of the Soul (2001)</td>\n",
              "      <td>Documentary</td>\n",
              "    </tr>\n",
              "    <tr>\n",
              "      <th>62420</th>\n",
              "      <td>209163</td>\n",
              "      <td>Bad Poems (2018)</td>\n",
              "      <td>Comedy|Drama</td>\n",
              "    </tr>\n",
              "    <tr>\n",
              "      <th>62421</th>\n",
              "      <td>209169</td>\n",
              "      <td>A Girl Thing (2001)</td>\n",
              "      <td>(no genres listed)</td>\n",
              "    </tr>\n",
              "    <tr>\n",
              "      <th>62422</th>\n",
              "      <td>209171</td>\n",
              "      <td>Women of Devil's Island (1962)</td>\n",
              "      <td>Action|Adventure|Drama</td>\n",
              "    </tr>\n",
              "  </tbody>\n",
              "</table>\n",
              "<p>62423 rows × 3 columns</p>\n",
              "</div>\n",
              "      <button class=\"colab-df-convert\" onclick=\"convertToInteractive('df-1c3150a2-0207-429e-a2e9-033756ab1278')\"\n",
              "              title=\"Convert this dataframe to an interactive table.\"\n",
              "              style=\"display:none;\">\n",
              "        \n",
              "  <svg xmlns=\"http://www.w3.org/2000/svg\" height=\"24px\"viewBox=\"0 0 24 24\"\n",
              "       width=\"24px\">\n",
              "    <path d=\"M0 0h24v24H0V0z\" fill=\"none\"/>\n",
              "    <path d=\"M18.56 5.44l.94 2.06.94-2.06 2.06-.94-2.06-.94-.94-2.06-.94 2.06-2.06.94zm-11 1L8.5 8.5l.94-2.06 2.06-.94-2.06-.94L8.5 2.5l-.94 2.06-2.06.94zm10 10l.94 2.06.94-2.06 2.06-.94-2.06-.94-.94-2.06-.94 2.06-2.06.94z\"/><path d=\"M17.41 7.96l-1.37-1.37c-.4-.4-.92-.59-1.43-.59-.52 0-1.04.2-1.43.59L10.3 9.45l-7.72 7.72c-.78.78-.78 2.05 0 2.83L4 21.41c.39.39.9.59 1.41.59.51 0 1.02-.2 1.41-.59l7.78-7.78 2.81-2.81c.8-.78.8-2.07 0-2.86zM5.41 20L4 18.59l7.72-7.72 1.47 1.35L5.41 20z\"/>\n",
              "  </svg>\n",
              "      </button>\n",
              "      \n",
              "  <style>\n",
              "    .colab-df-container {\n",
              "      display:flex;\n",
              "      flex-wrap:wrap;\n",
              "      gap: 12px;\n",
              "    }\n",
              "\n",
              "    .colab-df-convert {\n",
              "      background-color: #E8F0FE;\n",
              "      border: none;\n",
              "      border-radius: 50%;\n",
              "      cursor: pointer;\n",
              "      display: none;\n",
              "      fill: #1967D2;\n",
              "      height: 32px;\n",
              "      padding: 0 0 0 0;\n",
              "      width: 32px;\n",
              "    }\n",
              "\n",
              "    .colab-df-convert:hover {\n",
              "      background-color: #E2EBFA;\n",
              "      box-shadow: 0px 1px 2px rgba(60, 64, 67, 0.3), 0px 1px 3px 1px rgba(60, 64, 67, 0.15);\n",
              "      fill: #174EA6;\n",
              "    }\n",
              "\n",
              "    [theme=dark] .colab-df-convert {\n",
              "      background-color: #3B4455;\n",
              "      fill: #D2E3FC;\n",
              "    }\n",
              "\n",
              "    [theme=dark] .colab-df-convert:hover {\n",
              "      background-color: #434B5C;\n",
              "      box-shadow: 0px 1px 3px 1px rgba(0, 0, 0, 0.15);\n",
              "      filter: drop-shadow(0px 1px 2px rgba(0, 0, 0, 0.3));\n",
              "      fill: #FFFFFF;\n",
              "    }\n",
              "  </style>\n",
              "\n",
              "      <script>\n",
              "        const buttonEl =\n",
              "          document.querySelector('#df-1c3150a2-0207-429e-a2e9-033756ab1278 button.colab-df-convert');\n",
              "        buttonEl.style.display =\n",
              "          google.colab.kernel.accessAllowed ? 'block' : 'none';\n",
              "\n",
              "        async function convertToInteractive(key) {\n",
              "          const element = document.querySelector('#df-1c3150a2-0207-429e-a2e9-033756ab1278');\n",
              "          const dataTable =\n",
              "            await google.colab.kernel.invokeFunction('convertToInteractive',\n",
              "                                                     [key], {});\n",
              "          if (!dataTable) return;\n",
              "\n",
              "          const docLinkHtml = 'Like what you see? Visit the ' +\n",
              "            '<a target=\"_blank\" href=https://colab.research.google.com/notebooks/data_table.ipynb>data table notebook</a>'\n",
              "            + ' to learn more about interactive tables.';\n",
              "          element.innerHTML = '';\n",
              "          dataTable['output_type'] = 'display_data';\n",
              "          await google.colab.output.renderOutput(dataTable, element);\n",
              "          const docLink = document.createElement('div');\n",
              "          docLink.innerHTML = docLinkHtml;\n",
              "          element.appendChild(docLink);\n",
              "        }\n",
              "      </script>\n",
              "    </div>\n",
              "  </div>\n",
              "  "
            ]
          },
          "metadata": {},
          "execution_count": 3
        }
      ]
    },
    {
      "cell_type": "code",
      "metadata": {
        "id": "p0yc4ooJdcUC"
      },
      "source": [
        "# Ratings data\n",
        "ratings = pd.read_csv('https://itsa322.s3.us-east-2.amazonaws.com/ratings.csv')"
      ],
      "execution_count": null,
      "outputs": []
    },
    {
      "cell_type": "code",
      "metadata": {
        "id": "qI52SkIGPmAW"
      },
      "source": [
        "# Make a copy of ratings; Generally, it's good practice to keep original copies saved before starting to mess with them\n",
        "# Also if you want to re-do some of the cells you can use rating_backup instead of loading data from servers!\n",
        "ratings_backup = ratings.copy"
      ],
      "execution_count": null,
      "outputs": []
    },
    {
      "cell_type": "markdown",
      "metadata": {
        "id": "iPR1QogNFAgm"
      },
      "source": [
        "## Q1 Explore your data - [3 points]\n",
        "\n",
        "Below take some time to explore your date.  \n",
        "In one cell, check the following items for **both** datasets:\n",
        "\n",
        "* Head and tail\n",
        "* Shape\n",
        "* Datatypes\n",
        "\n",
        "In a new cell:\n",
        "* The total number of NaN values for the movies and ratings tables (a single value for each table)\n",
        "\n",
        "**Task** Do the head,tail, and shape operations all in one cell.  Count the number of NaNs in another."
      ]
    },
    {
      "cell_type": "code",
      "metadata": {
        "id": "E6hE7ikTYeGk"
      },
      "source": [
        "## Q1 Your code starts here\n",
        "# shape of movies\n",
        "print(\"movies shape:\", ... );\n"
      ],
      "execution_count": null,
      "outputs": []
    },
    {
      "cell_type": "code",
      "source": [
        "#head of movies\n",
        "..."
      ],
      "metadata": {
        "id": "6xsRcu3IEyxi"
      },
      "execution_count": null,
      "outputs": []
    },
    {
      "cell_type": "code",
      "source": [
        "#tail of movies\n",
        "..."
      ],
      "metadata": {
        "id": "aHKbnbfjE64t"
      },
      "execution_count": null,
      "outputs": []
    },
    {
      "cell_type": "code",
      "metadata": {
        "id": "NIxsJVC1F7jK"
      },
      "source": [
        "# Get the total count of NaNs for movies\n",
        "number_of_NaNs_in_movies = 0 #replace 0 here with your code calculating the NaNs. Variable should be an int\n",
        "print(\"Number of NaNs in movies:\", number_of_NaNs_in_movies)"
      ],
      "execution_count": null,
      "outputs": []
    },
    {
      "cell_type": "code",
      "source": [
        "#Do the same steps for shape, head, and tail, and NaNs of ratings\n",
        "...\n",
        "\n",
        "number_of_NaNs_in_ratings = 0 #replace 0 here with your code calculating the NaNs\n",
        "print(\"Number of NaNs in ratings:\", number_of_NaNs_in_ratings)\n",
        "## Q1 Your code ends here - Any code outside of these start/end markers won't be graded"
      ],
      "metadata": {
        "id": "ww4Ft5diE7Ba"
      },
      "execution_count": null,
      "outputs": []
    },
    {
      "cell_type": "markdown",
      "metadata": {
        "id": "IbY5XgE33Kmc"
      },
      "source": [
        "## Q2 Convert timestamp in ratings to a datetime. - [1.5 points]\n",
        "\n",
        "One issue that you can see from your exploration is that the ratings only have a timestamp.  This timestamp is measured in the number of seconds since 00:00:00 on January 1st, 1970.  You'll need to convert this to a datetime in order to actually do our later data aggregations.  \n",
        "\n",
        "You use `pd.to_datetime` on timestamps like this.  [For full details on the various ways to use this function please look at the Pandas documentation.](https://pandas.pydata.org/pandas-docs/stable/reference/api/pandas.to_datetime.html) Briefly, this is how it's used.\n",
        "\n",
        "```\n",
        ">>> pd.to_datetime(1490195805, unit='s')\n",
        "Timestamp('2017-03-22 15:16:45')\n",
        "```\n",
        "\n",
        "**Task** Make a new column in the movies dataframe called `review_dt` that contains the data from the timestamp column but converted to a datetime datatype.  \n",
        "\n",
        "Note, it's good practice to do this by first assigning the output to a test vector first, rather than directly adding the output to the dataframe. This allows you to make sure your operation did what you wanted before modifying your dataframe. Once you're confident of the output, you can assign the vector to the `reviews` dataframe as a new column.\n",
        "\n",
        "For example\n",
        "```\n",
        "test_vec = pd.to_datetime(arguments)\n",
        "test_vec # to check what it contains\n",
        "```"
      ]
    },
    {
      "cell_type": "code",
      "metadata": {
        "id": "ecldZK15dqQC"
      },
      "source": [
        "## Q2 Your code starts here\n",
        "# Make test vector\n",
        "... = ..."
      ],
      "execution_count": null,
      "outputs": []
    },
    {
      "cell_type": "code",
      "metadata": {
        "id": "0rWM0NKhowev"
      },
      "source": [
        "# Check vector and datatype to make sure it make sense.\n",
        "..."
      ],
      "execution_count": null,
      "outputs": []
    },
    {
      "cell_type": "code",
      "metadata": {
        "id": "RBXoYE2Mo1pR"
      },
      "source": [
        "# Now add this to the ratings dataframe\n",
        "..."
      ],
      "execution_count": null,
      "outputs": []
    },
    {
      "cell_type": "code",
      "metadata": {
        "id": "5RQV_35CdqdS"
      },
      "source": [
        "# Check the head of your dataframe again\n",
        "..."
      ],
      "execution_count": null,
      "outputs": []
    },
    {
      "cell_type": "code",
      "metadata": {
        "id": "jt8syWKWdqji"
      },
      "source": [
        "# What's the oldest and newest review?  It should be 1995-01-09 and 2019-11-21, respectively.\n",
        "...\n",
        "## Q2 Your code ends here - Any code outside of these start/end markers won't be graded"
      ],
      "execution_count": null,
      "outputs": []
    },
    {
      "cell_type": "markdown",
      "metadata": {
        "id": "3lQ8tFNgpPjF"
      },
      "source": [
        "## Q3 Your first aggregation and join - [4.5 points]\n",
        "\n",
        "The first aggregation and join I want you to do is at the whole movie level.  Your movies dataframe should only have a single row for each movie, but there are obviously thousands of individual reviews for each of those movies. Our goal here is to produce some summary statistics about the reviews for each movie and then join them to the movies dataframe.\n",
        "\n",
        "**Task:** Do the following:\n",
        "* Create an aggregated dataframe called `ratings_by_movie`. This dataframe should be grouped by movie. Use `.agg()` to calculate the mean, standard deviation ('std'), and the number of reviews for each movie.  \n",
        "* Rename the columns of that dataframe `'movieId', 'rating_mean', 'rating_std', and 'rating_count'`\n",
        "* Join this new `ratings_by_movie` dataframe such that it attaches all those summary statistics to their corresponding movies from the 'movies' dataframe.\n",
        "* Call the joined dataframe `movies_with_ratings`"
      ]
    },
    {
      "cell_type": "code",
      "metadata": {
        "id": "1diokGd0fghb"
      },
      "source": [
        "## Q3 Your code starts here\n",
        "# Make ratings_by_movie\n",
        "ratings_by_movie = ...(..., as_index=False)....(...)"
      ],
      "execution_count": null,
      "outputs": []
    },
    {
      "cell_type": "code",
      "metadata": {
        "id": "vaoGm6endqVu"
      },
      "source": [
        "# Check it\n",
        "..."
      ],
      "execution_count": null,
      "outputs": []
    },
    {
      "cell_type": "code",
      "metadata": {
        "id": "eiNm1Qo4sUIr"
      },
      "source": [
        "# Rename columns\n",
        "....columns = [...]"
      ],
      "execution_count": null,
      "outputs": []
    },
    {
      "cell_type": "code",
      "metadata": {
        "id": "gfwRPPcxrY71"
      },
      "source": [
        "# Join it and call movies with ratings\n",
        "..."
      ],
      "execution_count": null,
      "outputs": []
    },
    {
      "cell_type": "code",
      "metadata": {
        "id": "_Ee4dKTTsIqd"
      },
      "source": [
        "# Check movies_with_ratings.\n",
        "...\n",
        "## Q3 Your code ends here - Any code outside of these start/end markers won't be graded"
      ],
      "execution_count": null,
      "outputs": []
    },
    {
      "cell_type": "markdown",
      "metadata": {
        "id": "T7OgtiDVqJob"
      },
      "source": [
        "Is your merged dataframe 62423 rows × 6 columns?"
      ]
    },
    {
      "cell_type": "markdown",
      "metadata": {
        "id": "V7asUN4XtlA6"
      },
      "source": [
        "## Q4 Filtering and more transformations - [3 points]\n",
        "\n",
        "Now we want to clean up this dataset a bit and then do a couple more transforms. One issue you can see from your check above is that many movies only have one rating.  We're going to choose to set a minimum number of reviews needed to be included.  We also want to do some binning where movies with certain ratings levels\n",
        "\n",
        "**Task:** Please do the following operations\n",
        "* Filter `movies_with_ratings` so it only contains movies that have at least 10 ratings\n",
        "* Use the function `cut()` to automatically bin our `rating_mean` column into three groups of 'bad', 'fine', or 'good' movies.  Call this `rating_group`.\n",
        "* Use the same function to take the standard deviation in rating and make three groups of 'agreement', 'average', 'controversial'.  Thus, movies with low standard deviation have agreement in the rating, while movies with high standard deviation have controversy in the ratings.  Call this column `ratings_agreement`."
      ]
    },
    {
      "cell_type": "code",
      "metadata": {
        "id": "A-q2L_UDtoVU"
      },
      "source": [
        "## Q4 part 1 Your code starts here\n",
        "# Filter first being sure to overwrite dataframe\n",
        "movies_with_ratings = ..."
      ],
      "execution_count": null,
      "outputs": []
    },
    {
      "cell_type": "code",
      "metadata": {
        "id": "51jG155vvC64"
      },
      "source": [
        "# Check how many rows you're left with. You should have a little over 24000\n",
        "...\n",
        "## Q4 part 1 Your code ends here - Any code outside of these start/end markers won't be graded"
      ],
      "execution_count": null,
      "outputs": []
    },
    {
      "cell_type": "markdown",
      "metadata": {
        "id": "Gdax-0B9x2dN"
      },
      "source": [
        "I didn't show you how to use `cut()` in the lesson, but it's a transform just like anything else.  You could use a `np.where()` statement like we did, but `cut()` is a bit easier.  All it does is take 1) a column as the first argument, 2) the number of bins you want to group it in as the second argument, and then 3) the labels you want to give those bins as the third.  It automatically divides them up into equal sized bins.\n",
        "\n",
        "For example, if I make the following list:\n",
        "```\n",
        "rating = [2, 4, 9, 8, 5, 3, 6, 10, 2, 1, 6, 7]\n",
        "```\n",
        "\n",
        "And run `cut()` on it with three bins and levels 'bad', 'fine', and 'good':\n",
        "```\n",
        "pd.cut(rating, 3, labels=['bad', 'fine', 'good'])\n",
        "```\n",
        "\n",
        "I get a return of:\n",
        "```\n",
        "[bad, bad, good, good, fine, ..., good, bad, bad, fine, fine]\n",
        "Length: 12\n",
        "Categories (3, object): [bad < fine < good]\n",
        "```\n",
        "\n",
        "Note how it orders them for you based on the order of the labels.  "
      ]
    },
    {
      "cell_type": "code",
      "metadata": {
        "id": "SYVhXGaGx1-7"
      },
      "source": [
        "# If you want to test it!\n",
        "rating = [2, 4, 9, 8, 5, 3, 6, 10, 2, 1, 6, 7]\n",
        "pd.cut(rating, 3, labels=['bad', 'fine', 'good'])"
      ],
      "execution_count": null,
      "outputs": []
    },
    {
      "cell_type": "markdown",
      "source": [
        "Note: if get a SettingWithCopyWarning that's ok here.\n",
        "Pandas tries to warn us that we are working with a copy of movies_with_rating,\n",
        "and the changes won't reflace back to the original movies_with_rating dataframe. But that's ok for us"
      ],
      "metadata": {
        "id": "gFPOYIVQNCdD"
      }
    },
    {
      "cell_type": "code",
      "metadata": {
        "id": "3DVYIrbDvG4i"
      },
      "source": [
        "## Q4 part 2 Your code starts here\n",
        "# Now make 'bad', 'fine', 'good' levels for ratings\n",
        "# Assign to new column called 'rating_group'\n",
        "\n",
        "movies_with_ratings['...'] = pd.cut(...['...'], 3, labels=['bad', 'fine', 'good'])"
      ],
      "execution_count": null,
      "outputs": []
    },
    {
      "cell_type": "code",
      "metadata": {
        "id": "VmC2I-kFwWgo"
      },
      "source": [
        "# Check it\n",
        "movies_with_ratings"
      ],
      "execution_count": null,
      "outputs": []
    },
    {
      "cell_type": "markdown",
      "metadata": {
        "id": "-AA4ffUqrHoU"
      },
      "source": [
        "Do Toy Story and Jumanji have 'good' ratings?  Does Grumpier Old Men have a 'fair' rating?"
      ]
    },
    {
      "cell_type": "code",
      "metadata": {
        "id": "xZpmz44l0AZB"
      },
      "source": [
        "# Now use cut() again to create your ratings_agreement column.\n",
        "# Use three bins and order of 'agreement', 'average',  and 'controversial'\n",
        "... = ..."
      ],
      "execution_count": null,
      "outputs": []
    },
    {
      "cell_type": "code",
      "metadata": {
        "id": "jQ1Nk7nbIkhl"
      },
      "source": [
        "# Check to make sure that your bin categories make sense. e.g. 'good' movies should have higher ratings than 'fine', 'controversial' movies should ... ?\n",
        "...\n",
        "## Q4 part 2 Your code ends here - Any code outside of these start/end markers won't be graded"
      ],
      "execution_count": null,
      "outputs": []
    },
    {
      "cell_type": "markdown",
      "metadata": {
        "id": "SwMX5K530m-j"
      },
      "source": [
        "###  Exploring our data\n",
        "\n",
        "Making bins like this allows us to figure out things like which movies are both bad, but have differing opinions on.  For example, we can filter out movies that are in the bad category but have a lot of controversy about those ratings.  This could mean they're 'cult classic' movies where despite the low rating some people actually really love the movies.  \n",
        "\n",
        "A dataset like this could be used in a recommendation engine where if you see people liking these 'bad but good' movies you could suggest others that meet the came criteria.  \n",
        "\n",
        "**Task:** There are no points here - only code to let you make figures to see what the dataset could be used for. Also, if this code works it means you probably did your answers above are right :)"
      ]
    },
    {
      "cell_type": "code",
      "metadata": {
        "id": "8k2C-Lzs0Z33"
      },
      "source": [
        "movies_with_ratings[(movies_with_ratings['rating_group'] == 'bad') &\n",
        "                    (movies_with_ratings['rating_agreement'] == 'controversial') &\n",
        "                    (movies_with_ratings['rating_count'] >= 100)]"
      ],
      "execution_count": null,
      "outputs": []
    },
    {
      "cell_type": "markdown",
      "source": [
        "If you have done everything correctly so far, you will get:\n",
        "The Hands of Fate (1966)\tHorror and\tBirdemic: Shock and Terror (2010)\tas the outcome.\n"
      ],
      "metadata": {
        "id": "oV_12zdoUn3s"
      }
    },
    {
      "cell_type": "markdown",
      "metadata": {
        "id": "zPBvEkD42NDF"
      },
      "source": [
        "## Q5 Grouping within years - [3 point]\n",
        "\n",
        "Now that we've done our overall grouping by movie, let's get a bit more detail about these ratings. Specifically, let's engineer a dataset that breaks down the average rating not only by movie, but also by the year the person provided the review.  This would allow for someone to see which movies continue to do well over time, which ones become more popular, and which ones don't age well!\n",
        "\n",
        "**Task:** You're going to do the following steps:\n",
        "* Create a new `ratings_by_movie_year` that groups both by `movieId` but also by your `review_dt` column.  I want you to group into year intervals.  \n",
        "* Join `movies` to `ratings_by_movie_year` so that you have the summary review statistics for each year the movie has been out\n",
        "* Clean up and filter your dataframe"
      ]
    },
    {
      "cell_type": "markdown",
      "metadata": {
        "id": "tioZCC2YB7Qa"
      },
      "source": [
        "First, create `ratings_by_movie_year`.  You can group by two levels by just adding a list of what levels you want to group by in the `groupby()` statement.  I'll give you some help there, but you have to complete the rest in order to group by movieId first and review_dt second."
      ]
    },
    {
      "cell_type": "code",
      "metadata": {
        "id": "nXvUmhqxyiAp"
      },
      "source": [
        "# Note the groupby syntax.  I first am grouping by movieId\n",
        "# But then also am calling dt.year on our datetime column\n",
        "# This will then tell Python to do the aggregations within year as well\n",
        "\n",
        "## Q5 Your code starts here\n",
        "... = .......(['...', ratings['review_dt'].dt.year]).agg(...)"
      ],
      "execution_count": null,
      "outputs": []
    },
    {
      "cell_type": "code",
      "metadata": {
        "id": "jZ8EJYtD0QXM"
      },
      "source": [
        "# Check\n",
        "..."
      ],
      "execution_count": null,
      "outputs": []
    },
    {
      "cell_type": "markdown",
      "metadata": {
        "id": "owv03D5lCh6s"
      },
      "source": [
        "You need to rename columns, but this is a bit trickier as you have two levels of your dataframe index. I'm going to give you the code below.  But, what it's doing is resetting that one level of the index `review_dt` and putting it back as a regular column.  I'm then renaming the resulting columns."
      ]
    },
    {
      "cell_type": "code",
      "metadata": {
        "id": "J-Xp1BY_dp3r"
      },
      "source": [
        "# Reset index (you cannot rerun this cell (or any cell that includes reset_index) twice unless you re-create ratings_by_movie_year)\n",
        "ratings_by_movie_year = ratings_by_movie_year.reset_index(level = 'review_dt')\n",
        "ratings_by_movie_year.columns = ['year', 'rating_mean', 'rating_std', 'rating_count']\n",
        "ratings_by_movie_year"
      ],
      "execution_count": null,
      "outputs": []
    },
    {
      "cell_type": "code",
      "metadata": {
        "id": "q9EFQCOshC4U"
      },
      "source": [
        "# Now join the movie dataframe onto ratings_by_movie_year. Think about the type/direction of your join (left, right, inner, outer, cross)\n",
        "# and how that will affect what data will be kept and what data will be dropped. Think about what makes most sense, if you'll end up with a bunch of extra NAs for data\n",
        "# that don't have corresponding data in the other table, etc\n",
        "ratings_by_movie_year  = ...\n"
      ],
      "execution_count": null,
      "outputs": []
    },
    {
      "cell_type": "code",
      "metadata": {
        "id": "yBLjjJ880vvh"
      },
      "source": [
        "# Check\n",
        "..."
      ],
      "execution_count": null,
      "outputs": []
    },
    {
      "cell_type": "code",
      "metadata": {
        "id": "XJ3nToeiDmOi"
      },
      "source": [
        "# How many rows are there in the resulting dataframe?\n",
        "...\n",
        "## Q5 Your code ends here - Any code outside of these start/end markers won't be graded"
      ],
      "execution_count": null,
      "outputs": []
    },
    {
      "cell_type": "markdown",
      "metadata": {
        "id": "HiEw5JSvrRrL"
      },
      "source": [
        "In your dataframe do you see Toy Story having a mean rating of 4.132756 in 1996?  Is your dataframe 323737 rows × 7 columns?"
      ]
    },
    {
      "cell_type": "markdown",
      "metadata": {
        "id": "3_7syYtlE6gI"
      },
      "source": [
        "### A quick plot\n",
        "\n",
        "Now you have a dataset where one could explore how movies have done over time. I've made a couple plots below to show you want I mean."
      ]
    },
    {
      "cell_type": "code",
      "metadata": {
        "id": "XbtQBaBeFkod"
      },
      "source": [
        "# What movie has the max rating?\n",
        "movies_with_ratings.loc[movies_with_ratings['rating_count'] == movies_with_ratings['rating_count'].max()]"
      ],
      "execution_count": null,
      "outputs": []
    },
    {
      "cell_type": "markdown",
      "source": [
        "\n",
        "If you have done everything correctly you should get Forrest Gump (1994)"
      ],
      "metadata": {
        "id": "MiyL7HK-XrfM"
      }
    },
    {
      "cell_type": "code",
      "metadata": {
        "id": "FnlX1JKNhOo_"
      },
      "source": [
        "# Grabbing just the ID for that movie.\n",
        "movies_with_ratings['movieId'][movies_with_ratings['rating_count'] == movies_with_ratings['rating_count'].max()].values[0]"
      ],
      "execution_count": null,
      "outputs": []
    },
    {
      "cell_type": "code",
      "metadata": {
        "id": "bImfyPtG088g"
      },
      "source": [
        "# Forest gump has been reviewed over 80000 times!\n",
        "# Let's extract that movie id to an object and then make just that dataframe\n",
        "most_viewed_id = movies_with_ratings['movieId'][movies_with_ratings['rating_count'] == movies_with_ratings['rating_count'].max()].values[0]\n",
        "\n",
        "most_viewed_df = ratings_by_movie_year[ratings_by_movie_year['movieId'] == most_viewed_id]\n",
        "most_viewed_df"
      ],
      "execution_count": null,
      "outputs": []
    },
    {
      "cell_type": "code",
      "metadata": {
        "id": "eAjP5del1KtX"
      },
      "source": [
        "#  A quick lineplot shows that although forest gump has a really high rating on average, it seems to have some bad years for some reason.\n",
        "sns.lineplot(data = most_viewed_df, x = 'year', y = 'rating_mean')"
      ],
      "execution_count": null,
      "outputs": []
    },
    {
      "cell_type": "markdown",
      "metadata": {
        "id": "XUJh36KJHR1W"
      },
      "source": [
        "You can also look up some of your favorite movies.  I actually love the movie 'Dredd', even though many people hated it.  We can search in the titles for movies we like, and then call that ID to filter a new dataframe.  We can then make some plots"
      ]
    },
    {
      "cell_type": "code",
      "metadata": {
        "id": "XmVzdCTNKRtI"
      },
      "source": [
        "# Search for Dredd\n",
        "movies_with_ratings[movies_with_ratings['title'].str.contains('Dredd')]"
      ],
      "execution_count": null,
      "outputs": []
    },
    {
      "cell_type": "code",
      "metadata": {
        "id": "cHvRgMtcHQR5"
      },
      "source": [
        "# Call the dredd to make a dataframe\n",
        "dredd_id = movies_with_ratings['movieId'][movies_with_ratings['title'].str.contains('^Dredd')].values[0]\n",
        "dredd_df = ratings_by_movie_year[ratings_by_movie_year['movieId'] == dredd_id]\n",
        "dredd_df"
      ],
      "execution_count": null,
      "outputs": []
    },
    {
      "cell_type": "code",
      "metadata": {
        "id": "AibrzL2qK82t"
      },
      "source": [
        "# Our plot shows that the year after release it was reviewed pretty poorly,\n",
        "# but the score gradually grew as people realized how awesome it was :)\n",
        "sns.lineplot(x = 'year', y = 'rating_mean', data = dredd_df)"
      ],
      "execution_count": null,
      "outputs": []
    }
  ]
}