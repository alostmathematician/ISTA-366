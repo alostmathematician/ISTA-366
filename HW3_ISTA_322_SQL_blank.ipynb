{
  "nbformat": 4,
  "nbformat_minor": 0,
  "metadata": {
    "colab": {
      "provenance": [],
      "collapsed_sections": [
        "s6D9Npg2ltDk",
        "hmPMAbexytqq",
        "Y8VfZvu3E38A"
      ],
      "include_colab_link": true
    },
    "kernelspec": {
      "name": "python3",
      "display_name": "Python 3"
    }
  },
  "cells": [
    {
      "cell_type": "markdown",
      "metadata": {
        "id": "view-in-github",
        "colab_type": "text"
      },
      "source": [
        "<a href=\"https://colab.research.google.com/github/alostmathematician/ISTA-366/blob/main/HW3_ISTA_322_SQL_blank.ipynb\" target=\"_parent\"><img src=\"https://colab.research.google.com/assets/colab-badge.svg\" alt=\"Open In Colab\"/></a>"
      ]
    },
    {
      "cell_type": "markdown",
      "metadata": {
        "id": "Zhg-S72IiAQu"
      },
      "source": [
        "#HW3 - SQL\n",
        "\n",
        "This homework has you working with a new database of information on ticket sales for various types of events.  Your job will be to do some initial exploring and then demonstrate your ability to do all the different types of SQL queries we learned over the last two week.  You'll also need to make one function that'll make looking at the tables easier.\n",
        "\n",
        "These questions are written in the way someone would ask them to you.  In other words, I'm using 'plain english' questions vs. ones where I'm very explicit in terms of what columns and tables to use.  Your exploring of the database and functions to ease that process will come in handy here!  \n",
        "\n",
        "The database has been created using a set of data from Amazon. You can read more about what each table contains here: https://docs.aws.amazon.com/redshift/latest/dg/c_sampledb.html.  "
      ]
    },
    {
      "cell_type": "markdown",
      "metadata": {
        "id": "9vl8U0A_cGuT"
      },
      "source": [
        "## Libraries and import functions"
      ]
    },
    {
      "cell_type": "markdown",
      "metadata": {
        "id": "UXhsKxyRcI_V"
      },
      "source": [
        "First bring the libraries we'll need!"
      ]
    },
    {
      "cell_type": "code",
      "metadata": {
        "id": "RggZ8nQeh_Jh"
      },
      "source": [
        "import psycopg2\n",
        "import pandas as pd"
      ],
      "execution_count": null,
      "outputs": []
    },
    {
      "cell_type": "markdown",
      "metadata": {
        "id": "2muZ_cu0caXD"
      },
      "source": [
        "Now bring in all our functions we used in the lessons!  "
      ]
    },
    {
      "cell_type": "code",
      "metadata": {
        "id": "RgXHFfMmiLju"
      },
      "source": [
        "# Make our connection/cursor function\n",
        "AWS_host_name = \"ticketsdb.cp9xqenk8fzu.us-east-1.rds.amazonaws.com\"\n",
        "AWS_dbname = \"ticketsdb\"\n",
        "AWS_user_name = \"postgres\"\n",
        "AWS_password = \"ista322ticketsdb\"\n",
        "\n",
        "def get_conn_cur(): # define function name and arguments (there aren't any)\n",
        "  # Make a connection\n",
        "  conn = psycopg2.connect(\n",
        "    host=AWS_host_name,\n",
        "    database=AWS_dbname,\n",
        "    user=AWS_user_name,\n",
        "    password=AWS_password,\n",
        "    port='5432')\n",
        "\n",
        "  cur = conn.cursor()   # Make a cursor after\n",
        "\n",
        "  return(conn, cur)   # Return both the connection and the cursor\n",
        "\n",
        "# Same run_query function\n",
        "def run_query(query_string):\n",
        "\n",
        "  conn, cur = get_conn_cur() # get connection and cursor\n",
        "\n",
        "  cur.execute(query_string) # executing string as before\n",
        "\n",
        "  my_data = cur.fetchall() # fetch query data as before\n",
        "\n",
        "  # here we're extracting the 0th element for each item in cur.description\n",
        "  colnames = [desc[0] for desc in cur.description]\n",
        "\n",
        "  cur.close() # close\n",
        "  conn.close() # close\n",
        "\n",
        "  return(colnames, my_data) # return column names AND data\n",
        "\n",
        "# Column name function for checking out what's in a table\n",
        "def get_column_names(table_name): # arguement of table_name\n",
        "  conn, cur = get_conn_cur() # get connection and cursor\n",
        "\n",
        "  # Now select column names while inserting the table name into the WERE\n",
        "  column_name_query =  \"\"\"SELECT column_name FROM information_schema.columns\n",
        "       WHERE table_name = '%s' \"\"\" %table_name\n",
        "\n",
        "  cur.execute(column_name_query) # exectue\n",
        "  my_data = cur.fetchall() # store\n",
        "\n",
        "  cur.close() # close\n",
        "  conn.close() # close\n",
        "\n",
        "  return(my_data) # return\n",
        "\n",
        "# Check table_names\n",
        "def get_table_names():\n",
        "  conn, cur = get_conn_cur() # get connection and cursor\n",
        "\n",
        "  # query to get table names\n",
        "  table_name_query = \"\"\"SELECT table_name FROM information_schema.tables\n",
        "       WHERE table_schema = 'public' \"\"\"\n",
        "\n",
        "  cur.execute(table_name_query) # execute\n",
        "  my_data = cur.fetchall() # fetch results\n",
        "\n",
        "  cur.close() #close cursor\n",
        "  conn.close() # close connection\n",
        "\n",
        "  return(my_data) # return your fetched results"
      ],
      "execution_count": null,
      "outputs": []
    },
    {
      "cell_type": "markdown",
      "metadata": {
        "id": "7G75hD0x0wOL"
      },
      "source": [
        "## Q1 Make a SQL head function - 5 point\n",
        "\n",
        "Make function to get the pandas equivalent of `.head()`\n",
        "\n",
        "This function should be called `sql_head` and take a single argument of `table_name` where you specify the table name you want the head information from.  It should return the column names along with the first five rows of the table along.  \n",
        "\n",
        "**For full points, return a pandas dataframe with this information so it displays nicely :)**"
      ]
    },
    {
      "cell_type": "code",
      "metadata": {
        "id": "Ss-wjFNk1isZ"
      },
      "source": [
        "## Q1 Your function starts here\n",
        "# make sql_head function\n",
        "def ..."
      ],
      "execution_count": null,
      "outputs": []
    },
    {
      "cell_type": "code",
      "metadata": {
        "id": "LGndJjU62GUW"
      },
      "source": [
        "# Check that it works!\n",
        "sql_head(table_name = 'sales')\n",
        "## Q1 Your function ends here - Any code outside of these start/end markers won't be graded"
      ],
      "execution_count": null,
      "outputs": []
    },
    {
      "cell_type": "markdown",
      "metadata": {
        "id": "E6qirxhjkEtL"
      },
      "source": [
        "## Q2 Explore and SELECT - 5 point\n",
        "\n",
        "Let's start this homework with some basic queries to get a look at what's in the various tables.  I want you to do the following.\n",
        "\n",
        "* Use your get_table_names() function to see what tables are in the database.\n",
        "* Use your get_column_names() to get the column names of each of the tables.  **Do this all within a single cell to keep it neat**.\n",
        "* Make and run a query that selects all columns from the event table.  Only return the first 5 rows.\n",
        "* Use the `sql_head()` function you created to get the first five rows of the sales table."
      ]
    },
    {
      "cell_type": "code",
      "metadata": {
        "id": "dF5j9lrX5f83"
      },
      "source": [
        "## Q2 Your function starts here\n",
        "# Getting table names\n",
        "..."
      ],
      "execution_count": null,
      "outputs": []
    },
    {
      "cell_type": "code",
      "metadata": {
        "id": "urSMT3kG5j98"
      },
      "source": [
        "# Getting column names\n",
        "...\n",
        "...\n",
        "...\n",
        "...\n",
        "...\n",
        "..."
      ],
      "execution_count": null,
      "outputs": []
    },
    {
      "cell_type": "code",
      "metadata": {
        "id": "jQ8mWBVb6Gi3"
      },
      "source": [
        "# Could also just use a list comprehension vs a bunch of print statements :)\n",
        "names = get_table_names()\n",
        "[get_column_names(table_name= x) for x in names]"
      ],
      "execution_count": null,
      "outputs": []
    },
    {
      "cell_type": "code",
      "metadata": {
        "id": "aYshqjeRkHSY"
      },
      "source": [
        "# Query on events\n",
        "sq = \"\"\" ...\"\"\"\n",
        "run_query(sq)"
      ],
      "execution_count": null,
      "outputs": []
    },
    {
      "cell_type": "code",
      "metadata": {
        "id": "CbXlxqKV4wur"
      },
      "source": [
        "# Use sql_head to get the head of sales\n",
        "...\n",
        "## Q2 Your function ends here - Any code outside of these start/end markers won't be graded"
      ],
      "execution_count": null,
      "outputs": []
    },
    {
      "cell_type": "markdown",
      "metadata": {
        "id": "s6D9Npg2ltDk"
      },
      "source": [
        "## Q3 WHERE - 5 points\n",
        "\n",
        "Now let's do a bit of filtering with WHERE.  Write and run queries to get the following results.  \n",
        "**LIMIT all returns to first five rows.**\n",
        "\n",
        "* Get venues with >= 10000 seats from the venues table\n",
        "* Get venues in Arizona\n",
        "* Get users who have a first name that starts with H\n",
        "* Get **just email addresses** of users who gave a .edu email address\n",
        "\n",
        "\n"
      ]
    },
    {
      "cell_type": "code",
      "metadata": {
        "id": "6DpxpPiLnkii"
      },
      "source": [
        "## Q3 Your function starts here\n",
        "# Get big venues... so those with >= than 10000 seats\n",
        "sq1 = \"\"\" ...\n",
        "          ...;\"\"\"\n",
        "run_query(sq1)"
      ],
      "execution_count": null,
      "outputs": []
    },
    {
      "cell_type": "code",
      "metadata": {
        "id": "PynGxpC8vCXQ"
      },
      "source": [
        "# Get venues in AZ\n",
        "sq2 = \"\"\" ...\n",
        "          ...;\"\"\"\n",
        "run_query(sq2)"
      ],
      "execution_count": null,
      "outputs": []
    },
    {
      "cell_type": "code",
      "metadata": {
        "id": "DyRmDFLnwif9"
      },
      "source": [
        "#Get users who have a first name that starts with H\n",
        "sq3 = \"\"\" ...\n",
        "          ...;\"\"\"\n",
        "run_query(sq3)"
      ],
      "execution_count": null,
      "outputs": []
    },
    {
      "cell_type": "code",
      "metadata": {
        "id": "onB5yPF2v0Ly"
      },
      "source": [
        "# Get all .edu email addresses... just the email addresses\n",
        "sq4 = \"\"\" ...\n",
        "          ...;\"\"\"\n",
        "run_query(sq4)\n",
        "## Q3 Your function ends here - Any code outside of these start/end markers won't be graded"
      ],
      "execution_count": null,
      "outputs": []
    },
    {
      "cell_type": "markdown",
      "metadata": {
        "id": "hmPMAbexytqq"
      },
      "source": [
        "## Q4 GROUP BY and HAVING - 5 points\n",
        "\n",
        "Time to practice some GROUP BY and HAVING operations. Please write and run queries that do the following:\n",
        "\n",
        "GROUP BY application\n",
        "* Find the top five venues that hosted the most events: Alias the count of events as 'events_hosted'. Also return the venue ID\n",
        "* Get the number of events hosted in each month. You'll need to use `date_part()` in your select to select just the months. Alias this as 'month' and then the count of the number of events hosted as 'events_hosted'.\n",
        "* Get the top five sellers who made the most commission. Alias their total commission made as 'total_com'. Also get their average commission made and alias as 'avg_com'.  Be sure to also display the seller_id.  \n",
        "\n",
        "HAVING application\n",
        "* Using the same query as the last one, instead of getting the top five sellers get all sellers who have made a total commission greater than $4000.\n",
        "* Using the same query as the first groupby, instead of returning the top five venues, return just the ID's of venues that have had greater than 60 events."
      ]
    },
    {
      "cell_type": "code",
      "metadata": {
        "id": "u2Fs7dqiCO9G"
      },
      "source": [
        "## Q4 Your function starts here\n",
        "### GROUP BY application\n",
        "# Find the top five venues that hosted the most events: Alias the count of events as 'events_hosted'. Also return the venue ID\n",
        "sq1 = \"\"\" ...\n",
        "          ...;\"\"\"\n",
        "run_query(sq1)"
      ],
      "execution_count": null,
      "outputs": []
    },
    {
      "cell_type": "code",
      "metadata": {
        "id": "f3WLD5hpC-qE"
      },
      "source": [
        "# Get the number of events hosted in each month. You'll need to use `date_part()` in your select to select just the months.\n",
        "# Alias this as 'month' and then the count of the number of events hosted as 'events_hosted'\n",
        "sq2 = \"\"\" ...\n",
        "          ...;\"\"\"\n",
        "run_query(sq2)"
      ],
      "execution_count": null,
      "outputs": []
    },
    {
      "cell_type": "code",
      "metadata": {
        "id": "VJ9betzKDyPN"
      },
      "source": [
        "# Get the top five sellers who made the most commission. Alias their total commission made as 'total_com'.\n",
        "# Also get their average commission made and alias as 'avg_com'. Be sure to also display the seller_id\n",
        "sq3 = \"\"\" ...\n",
        "          ...;\"\"\"\n",
        "run_query(sq3)"
      ],
      "execution_count": null,
      "outputs": []
    },
    {
      "cell_type": "code",
      "metadata": {
        "id": "k-nEGAiFRHYt"
      },
      "source": [
        "### HAVING application\n",
        "# Using the same query as the last groupby, instead of getting the top five sellers get all sellers who have made a total commission greater than $4000\n",
        "sq4 = \"\"\" ...\n",
        "          ...;\"\"\"\n",
        "run_query(sq4)"
      ],
      "execution_count": null,
      "outputs": []
    },
    {
      "cell_type": "code",
      "metadata": {
        "id": "CW2lqAEmTiqv"
      },
      "source": [
        "# Using the same query as the first groupby, instead of returning the top five venues, return just the ID's of venues that have had greater than 60 events\n",
        "sq5 = \"\"\" ...\n",
        "          ...;\"\"\"\n",
        "run_query(sq5)\n",
        "## Q4 Your function ends here - Any code outside of these start/end markers won't be graded"
      ],
      "execution_count": null,
      "outputs": []
    },
    {
      "cell_type": "markdown",
      "metadata": {
        "id": "Y8VfZvu3E38A"
      },
      "source": [
        "## Q5 JOIN - 5 points\n",
        "\n",
        "Time for some joins. You've probably noticed by now that there is at least one relational key in each table, but some have more.  For example, sales has a unique sale id, listing id, seller id, buyer id, date id.  This allows you to link each sale to relevant information in other tables.  \n",
        "**LIMIT each output to 5**\n",
        "\n",
        "Please write queries to do the following items:\n",
        "\n",
        "* Join information of users to each sale made.  \n",
        "* Join information about each venue to each event."
      ]
    },
    {
      "cell_type": "code",
      "metadata": {
        "id": "RULEyuee6TlD"
      },
      "source": [
        "## Q5 Your function starts here\n",
        "sq1 = \"\"\" SELECT * FROM sales\n",
        "          LIMIT 5;\"\"\"\n",
        "run_query(sq1)"
      ],
      "execution_count": null,
      "outputs": []
    },
    {
      "cell_type": "code",
      "metadata": {
        "id": "GzHHy0id6WWK"
      },
      "source": [
        "sq2 = \"\"\" SELECT * FROM users\n",
        "          LIMIT 5;\"\"\"\n",
        "run_query(sq2)"
      ],
      "execution_count": null,
      "outputs": []
    },
    {
      "cell_type": "code",
      "metadata": {
        "id": "YfyD7CtQHr2A"
      },
      "source": [
        "get_column_names(table_name='users')"
      ],
      "execution_count": null,
      "outputs": []
    },
    {
      "cell_type": "code",
      "metadata": {
        "id": "mOl9Zh1LHvWf"
      },
      "source": [
        "get_column_names(table_name='sales')"
      ],
      "execution_count": null,
      "outputs": []
    },
    {
      "cell_type": "code",
      "metadata": {
        "id": "04Pk2WBRF-bb"
      },
      "source": [
        "# Join users information to each sale\n",
        "sq3 = \"\"\" ...\n",
        "          ...;\"\"\"\n",
        "run_query(sq3)"
      ],
      "execution_count": null,
      "outputs": []
    },
    {
      "cell_type": "code",
      "metadata": {
        "id": "Zefy2LUoG5WU"
      },
      "source": [
        "# For each event attach the venue information\n",
        "sq4 = \"\"\" ...\n",
        "          ...;\"\"\"\n",
        "run_query(sq4)\n",
        "## Q5 Your function ends here - Any code outside of these start/end markers won't be graded"
      ],
      "execution_count": null,
      "outputs": []
    },
    {
      "cell_type": "markdown",
      "metadata": {
        "id": "5rHfJTedHoYL"
      },
      "source": [
        "## Q 6 Subqueries - 5 points\n",
        "\n",
        "To wrap up let's do several subqueries. Please do the following:\n",
        "\n",
        "* Get all purchases made by users of live in Arizona\n",
        "* Get event information for all events that took place in a venue where the venue name ends with 'Stadium'.\n",
        "* Get event information for all events where the total ticket sales were greater than $50,000.  "
      ]
    },
    {
      "cell_type": "code",
      "metadata": {
        "id": "w22xPuPWI4WV"
      },
      "source": [
        "## Q6 Your function starts here\n",
        "# Get all purchases from users who live in Arizona\n",
        "sq1 = \"\"\" ...\n",
        "          ...;\"\"\"\n",
        "run_query(sq1)"
      ],
      "execution_count": null,
      "outputs": []
    },
    {
      "cell_type": "code",
      "metadata": {
        "id": "y-lAGfPPHntJ"
      },
      "source": [
        "# Get event information for all events that took place in a venue where the name ended in 'Stadium'\n",
        "sq2 = \"\"\" ...\n",
        "          ...;\"\"\"\n",
        "run_query(sq2)"
      ],
      "execution_count": null,
      "outputs": []
    },
    {
      "cell_type": "code",
      "metadata": {
        "id": "YtbNOd8nLWZ5"
      },
      "source": [
        "# Get event information where the total sales for that event were greater than $50000\n",
        "sq3 = \"\"\" ...\n",
        "          ...;\"\"\"\n",
        "run_query(sq3)"
      ],
      "execution_count": null,
      "outputs": []
    },
    {
      "cell_type": "code",
      "metadata": {
        "id": "rFItPpIw30nQ"
      },
      "source": [
        "get_table_names()"
      ],
      "execution_count": null,
      "outputs": []
    },
    {
      "cell_type": "code",
      "metadata": {
        "id": "S1oCLpIz32wK"
      },
      "source": [
        "get_column_names(table_name= 'date')"
      ],
      "execution_count": null,
      "outputs": []
    },
    {
      "cell_type": "code",
      "metadata": {
        "id": "LsQl4YzS3y1h"
      },
      "source": [
        "sq4 = \"\"\" SELECT * FROM date\n",
        "          LIMIT 5;\"\"\"\n",
        "run_query(sq4)\n",
        "## Q6 Your function ends here - Any code outside of these start/end markers won't be graded"
      ],
      "execution_count": null,
      "outputs": []
    }
  ]
}